{
  "nbformat": 4,
  "nbformat_minor": 0,
  "metadata": {
    "colab": {
      "name": "MHW1_NSRazuvaev.ipynb",
      "provenance": []
    },
    "kernelspec": {
      "name": "python3",
      "display_name": "Python 3"
    },
    "language_info": {
      "name": "python"
    }
  },
  "cells": [
    {
      "cell_type": "markdown",
      "source": [
        "# MHW1 \n",
        "\n",
        "> Автор: Никита Разуваев"
      ],
      "metadata": {
        "id": "pfusWEw1a_QB"
      }
    },
    {
      "cell_type": "markdown",
      "source": [
        "```bash\n",
        "ssh lsml-head\n",
        "\n",
        "sudo apt install p7zip-full\n",
        "pip install -q kaggle\n",
        "export PATH=\"/home/ubuntu/.local/bin:$PATH\"\n",
        "bash --login\n",
        "\n",
        "mkdir ~/.kaggle\n",
        "wget .../kaggle.json\n",
        "mv kaggle.json ~/.kaggle/kaggle.json\n",
        "chmod 600 ~/.kaggle/kaggle.json\n",
        "\n",
        "kaggle competitions download -c avito-context-ad-clicks -f VisitsStream.tsv.7z\n",
        "mkdir storage\n",
        "mv VisitsStream.tsv.7z storage/VisitsStream.tsv.7z\n",
        "cd storage\n",
        "\n",
        "mkdir avito-context-ad-clicks\n",
        "7z x VisitsStream.tsv.7z -oavito-context-ad-clicks\n",
        "cd avito-context-ad-clicks/\n",
        "\n",
        "cat VisitsStream.tsv | head -n 1000001 | tail -n +2 | cut -f1 | sort -n | uniq -c | sort -n -r -k1,1 | head -n 10 > result.txt\n",
        "cat result.txt\n",
        "\n",
        "hdfs dfs -put result.txt s3a://nsrazuvaevbucket/result.txt\n",
        "```\n",
        "\n",
        "Ссылка на результат: https://storage.yandexcloud.net/nsrazuvaevbucket/result.txt"
      ],
      "metadata": {
        "id": "xk3_V7nDWlWB"
      }
    },
    {
      "cell_type": "code",
      "source": [
        ""
      ],
      "metadata": {
        "id": "EZlZ6f5UWoek"
      },
      "execution_count": null,
      "outputs": []
    }
  ]
}