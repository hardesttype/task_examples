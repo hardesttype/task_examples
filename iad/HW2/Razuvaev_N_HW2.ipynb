{
 "cells": [
  {
   "cell_type": "markdown",
   "metadata": {
    "colab_type": "text",
    "id": "nJ-5WXtEku3d"
   },
   "source": [
    "## Введение в анализ данных, ИАД-1\n",
    "\n",
    "## НИУ ВШЭ, 2019-20 учебный год"
   ]
  },
  {
   "cell_type": "markdown",
   "metadata": {
    "colab_type": "text",
    "id": "4YBs6pSfku3f"
   },
   "source": [
    "### Домашнее задание №2"
   ]
  },
  {
   "cell_type": "markdown",
   "metadata": {
    "colab_type": "text",
    "id": "9GxmhYHiku3g"
   },
   "source": [
    "Задание выполнил(а): _Разуваев Никита Сергеевич_"
   ]
  },
  {
   "cell_type": "markdown",
   "metadata": {
    "colab_type": "text",
    "id": "asbKC18iku3h"
   },
   "source": [
    "### Общая информация"
   ]
  },
  {
   "cell_type": "markdown",
   "metadata": {
    "colab_type": "text",
    "id": "CtHzVz2Tku3i"
   },
   "source": [
    "__Дата выдачи:__ 08.03.2019\n",
    "\n",
    "__Дедлайн:__ 23:59 19.03.2019"
   ]
  },
  {
   "cell_type": "markdown",
   "metadata": {
    "colab_type": "text",
    "id": "tV0AZlbWku3i"
   },
   "source": [
    "### Оценивание и штрафы\n",
    "\n",
    "Оценка за ДЗ вычисляется по следующей формуле:\n",
    "\n",
    "$$\n",
    "\\text{points} \\times 10 / \\text{max points},\n",
    "$$\n",
    "\n",
    "где points — количество баллов, которое вы набрали, max_points - максимальное число баллов за задание. Бонусные задания отмечены звездочками (*)\n",
    "\n",
    "За сдачу задания позже срока на итоговую оценку за задание накладывается штраф в размере 1 балл в день, но получить отрицательную оценку нельзя."
   ]
  },
  {
   "cell_type": "markdown",
   "metadata": {
    "colab_type": "text",
    "id": "uAqAdAjzku3j"
   },
   "source": [
    "__Внимание!__ Домашнее задание выполняется самостоятельно. «Похожие» решения считаются плагиатом и все задействованные студенты (в том числе те, у кого списали) не могут получить за него больше 0 баллов."
   ]
  },
  {
   "cell_type": "markdown",
   "metadata": {
    "colab_type": "text",
    "id": "g05GeWNiku3k"
   },
   "source": [
    "### Формат сдачи"
   ]
  },
  {
   "cell_type": "markdown",
   "metadata": {
    "colab_type": "text",
    "id": "uZ9QJmxpku3l"
   },
   "source": [
    "Загрузка файлов с решениями происходит в системе [Anytask](https://anytask.org/).\n"
   ]
  },
  {
   "cell_type": "markdown",
   "metadata": {
    "colab_type": "text",
    "id": "GUlD0rIuku3m"
   },
   "source": [
    "# kNN своими руками (4)\n",
    "\n",
    "Реализуйте взвешенный алгоритм kNN для регрессии. Пусть нам нужно вычислить значение $y$ для некоторого $x$ при известных данных $\\left(x_1, y_1\\right), \\ldots, \\left(x_\\ell, y_\\ell\\right)$. Предсказанием вашего регрессора будет являться\n",
    "\n",
    "$$\n",
    "\\hat{y} = \\frac{\\sum\\limits_{i=1}^kw_iy_{(i)}}{\\sum\\limits_{i=1}^kw_i},\n",
    "$$\n",
    "где $\\left(x_{(1)}, y_{(1)}\\right), \\ldots, \\left(x_{(k)}, y_{(k)}\\right)$ - ближайшие $k$ объектов к $x$ по некоторой метрике $d(\\cdot, \\cdot)$, а $w_i = \\frac{1}{d\\left(x, x_{(i)}\\right)}$. Ваш алгоритм должен уметь работать с двумя метриками:\n",
    "\n",
    "$$\n",
    "d\\left(x_{(i)}, x\\right) = \\|x_{(i)} - x\\|_2 = \\sqrt{\\sum\\limits_{j=1}^n\\left(x_{(i)}^j - x^j\\right)^2}\\qquad\\text{(евклидова)}\n",
    "$$\n",
    "$$\n",
    "d\\left(x_{(i)}, x\\right) = \\|x_{(i)} - x\\|_1 = \\sum\\limits_{j=1}^n\\left|x_{(i)}^j - x^j\\right|\\qquad\\text{(манхэттена)}\n",
    "$$\n",
    "\n",
    "Сверьте для нескольких комбинаций различных параметров свой результат на искусственной выборке с результатом соответствующего алгоритма из `sklearn` по метрике качества MSE."
   ]
  },
  {
   "cell_type": "code",
   "execution_count": 0,
   "metadata": {
    "colab": {},
    "colab_type": "code",
    "id": "WxU6oljzpMQU"
   },
   "outputs": [],
   "source": [
    "import numpy as np\n",
    "import pandas as pd\n",
    "import matplotlib.pyplot as plt\n",
    "from sklearn import neighbors\n",
    "from sklearn.metrics import mean_squared_error as MSE\n",
    "%matplotlib inline"
   ]
  },
  {
   "cell_type": "code",
   "execution_count": 0,
   "metadata": {
    "colab": {},
    "colab_type": "code",
    "id": "7eQC3aacku3m"
   },
   "outputs": [],
   "source": [
    "class KNN:\n",
    "    def __init__(self, metric='euclid', k=5):\n",
    "        \"\"\"\n",
    "        PARAMETERS:\n",
    "        metric ('euclid' or 'manhattan')\n",
    "        k - number of nearest neighbors\n",
    "        \"\"\"\n",
    "        \n",
    "        self.metric = metric\n",
    "        self.k = k\n",
    "        \n",
    "        self.X_train = None\n",
    "        self.y_train = None\n",
    "        \n",
    "    def fit(self, X_train, y_train):\n",
    "        \"\"\"\n",
    "        INPUT:\n",
    "        X_train - np.array of shape (l, d)\n",
    "        y_train - np.array of shape (l,)\n",
    "        \"\"\"\n",
    "        \n",
    "        self.X_train = X_train\n",
    "        self.y_train = y_train\n",
    "\n",
    "        return self\n",
    "    \n",
    "    def dist(self, x_i, x):\n",
    "        if self.metric == 'euclid':\n",
    "          return np.sqrt(np.sum((x_i - x) ** 2, axis=1))\n",
    "        elif self.metric == 'manhattan':\n",
    "          return np.sum(np.abs(x_i - x), axis=1)\n",
    "        raise ValueError('Wrong metric: use \\'euclid\\' or \\'manhattan\\'')\n",
    "\n",
    "    def predict(self, X_test):\n",
    "        \"\"\"\n",
    "        INPUT:\n",
    "        X_test - np.array of shape (m, d)\n",
    "        \n",
    "        OUTPUT:\n",
    "        y_pred - np.array of shape (m,)\n",
    "        \"\"\"\n",
    "\n",
    "        y_pred = np.zeros((X_test.shape[0],))\n",
    "\n",
    "        for i in range(len(X_test)):\n",
    "          dist = KNN.dist(self, self.X_train, X_test[i])\n",
    "          neigh = np.argsort(dist)[:self.k]\n",
    "          weights = 1 / dist[neigh]\n",
    "          y_pred[i] = np.sum(weights * self.y_train[neigh]) / np.sum(weights)\n",
    "\n",
    "        return y_pred"
   ]
  },
  {
   "cell_type": "code",
   "execution_count": 0,
   "metadata": {
    "colab": {},
    "colab_type": "code",
    "id": "l0ByU7i1ku3q"
   },
   "outputs": [],
   "source": [
    "np.random.seed(17032019)\n",
    "X_train = np.random.randn(1000, 50)\n",
    "y_train = np.random.randn(1000,)\n",
    "X_test = np.random.randn(500, 50)\n",
    "y_test = np.random.randn(500,)"
   ]
  },
  {
   "cell_type": "code",
   "execution_count": 0,
   "metadata": {
    "colab": {
     "base_uri": "https://localhost:8080/",
     "height": 823
    },
    "colab_type": "code",
    "id": "EOTOoV51ku3u",
    "outputId": "2fc2ec0d-6fd4-4fe4-be8b-ca2dcf9a11b3"
   },
   "outputs": [
    {
     "name": "stdout",
     "output_type": "stream",
     "text": [
      "k = 1\n",
      "MSE of my KNN = 2.039018, distance = euclid\n",
      "MSE of sklearn KNN = 2.039018, distance = euclid\n",
      "MSE of my KNN = 1.867686, distance = manhattan\n",
      "MSE of sklearn KNN = 1.867686, distance = manhattan\n",
      "----------------------------------------\n",
      "k = 2\n",
      "MSE of my KNN = 1.461015, distance = euclid\n",
      "MSE of sklearn KNN = 1.461015, distance = euclid\n",
      "MSE of my KNN = 1.361493, distance = manhattan\n",
      "MSE of sklearn KNN = 1.361493, distance = manhattan\n",
      "----------------------------------------\n",
      "k = 5\n",
      "MSE of my KNN = 1.143365, distance = euclid\n",
      "MSE of sklearn KNN = 1.143365, distance = euclid\n",
      "MSE of my KNN = 1.176825, distance = manhattan\n",
      "MSE of sklearn KNN = 1.176825, distance = manhattan\n",
      "----------------------------------------\n",
      "k = 10\n",
      "MSE of my KNN = 1.075290, distance = euclid\n",
      "MSE of sklearn KNN = 1.075290, distance = euclid\n",
      "MSE of my KNN = 1.067471, distance = manhattan\n",
      "MSE of sklearn KNN = 1.067471, distance = manhattan\n",
      "----------------------------------------\n",
      "k = 20\n",
      "MSE of my KNN = 1.066819, distance = euclid\n",
      "MSE of sklearn KNN = 1.066819, distance = euclid\n",
      "MSE of my KNN = 1.061232, distance = manhattan\n",
      "MSE of sklearn KNN = 1.061232, distance = manhattan\n",
      "----------------------------------------\n",
      "k = 35\n",
      "MSE of my KNN = 1.041243, distance = euclid\n",
      "MSE of sklearn KNN = 1.041243, distance = euclid\n",
      "MSE of my KNN = 1.052694, distance = manhattan\n",
      "MSE of sklearn KNN = 1.052694, distance = manhattan\n",
      "----------------------------------------\n",
      "k = 50\n",
      "MSE of my KNN = 1.042977, distance = euclid\n",
      "MSE of sklearn KNN = 1.042977, distance = euclid\n",
      "MSE of my KNN = 1.041539, distance = manhattan\n",
      "MSE of sklearn KNN = 1.041539, distance = manhattan\n",
      "----------------------------------------\n",
      "k = 100\n",
      "MSE of my KNN = 1.036059, distance = euclid\n",
      "MSE of sklearn KNN = 1.036059, distance = euclid\n",
      "MSE of my KNN = 1.027839, distance = manhattan\n",
      "MSE of sklearn KNN = 1.027839, distance = manhattan\n",
      "----------------------------------------\n"
     ]
    }
   ],
   "source": [
    "# your code here\n",
    "\n",
    "for i in [1, 2, 5, 10, 20, 35, 50, 100]:\n",
    "  print('k = %d' % i)\n",
    "  for j in [('euclid', 2), ('manhattan', 1)]:\n",
    "    my_knn = KNN(k = i, metric=j[0])\n",
    "    y_my_knn = my_knn.fit(X_train, y_train).predict(X_test)\n",
    "    print('MSE of my KNN = %.6f, distance = %s' % (MSE(y_my_knn, y_test), j[0]))\n",
    "\n",
    "    knn = neighbors.KNeighborsRegressor(i, weights='distance', p=j[1])\n",
    "    y_knn = knn.fit(X_train, y_train).predict(X_test)\n",
    "    print('MSE of sklearn KNN = %.6f, distance = %s' % (MSE(y_knn, y_test), j[0]))\n",
    "  print('-'*40)"
   ]
  },
  {
   "cell_type": "markdown",
   "metadata": {
    "colab_type": "text",
    "id": "5j8Bctczku3x"
   },
   "source": [
    "# Линейная регрессия своими руками (4)\n",
    "\n",
    "Реализуйте линейную регрессию с градиентным спуском для [функции потерь Хьюбера](https://en.wikipedia.org/wiki/Huber_loss):\n",
    "\n",
    "$$\n",
    "L_\\delta\\left(y, \\hat{y}\\right) =\n",
    "\\begin{cases}\n",
    "\\frac{1}{2}\\left(y - \\hat{y}\\right)^2, \\qquad &|y - \\hat{y}| \\leq \\delta\\\\\n",
    "\\delta\\left|y - \\hat{y}\\right| - \\frac{1}{2}\\delta^2,\\qquad & \\text{otherwise}\n",
    "\\end{cases}\n",
    "$$\n",
    "\n",
    "В таком случае общее значение функции потерь на всем датасете $(x_1, y_1), \\ldots, (x_\\ell, y_\\ell)$ будет равно\n",
    "\n",
    "$$\n",
    "L = \\frac{1}{\\ell}\\sum\\limits_{i=1}^\\ell L_\\delta\\left(y_i, \\hat{y}_i\\right)\n",
    "$$\n",
    "\n",
    "Проверьте работу вашего метода: выведите результаты его работы на той же искусственной выборке, что и в задаче выше (в качестве метрик качества используйте MSE и Huber loss). Постройте график зависимости значения функции потерь от итерации градиентного спуска.\n",
    "\n",
    "*Вы можете опустить единичный признак в модели и не добавлять его в данные. Для данной искусственной выборки это не актуально, потому что целевая переменная в этом случае является случайной величиной из стандартного нормального распределения со средним 0.*\n",
    "\n",
    "*Вектор весов в градиентном спуске можете инициализировать нулями.*"
   ]
  },
  {
   "cell_type": "code",
   "execution_count": 0,
   "metadata": {
    "colab": {},
    "colab_type": "code",
    "id": "4ngSwTG6ku3y"
   },
   "outputs": [],
   "source": [
    "class LinearRegressionHuber:\n",
    "    def __init__(self, delta=1.0, max_iter=1000, tol=1e-6, eta=1e-2):\n",
    "        \"\"\"\n",
    "        PARAMETERS:\n",
    "        delta - scalar in Huber loss\n",
    "        max_iter - maximum possible number of iterations in Gradient Descent\n",
    "        tol - precision for stopping criterion in Gradient Descent\n",
    "        eta - step size in Gradient Descent\n",
    "        \"\"\"\n",
    "        \n",
    "        self.delta = delta\n",
    "        self.max_iter = max_iter\n",
    "        self.tol = tol\n",
    "        self.eta = eta\n",
    "        \n",
    "        self.w = None\n",
    "        self.loss_history = None\n",
    "        \n",
    "    def fit(self, X_train, y_train):\n",
    "        \"\"\"\n",
    "        INPUT:\n",
    "        X_train - np.array of shape (l, d)\n",
    "        y_train - np.array of shape (l,)\n",
    "        \"\"\"\n",
    "        \n",
    "        self.w = np.zeros((X_train.shape[1],))\n",
    "        self.loss_history = np.zeros((self.max_iter + 1,))\n",
    "        \n",
    "        loss = LinearRegressionHuber.calc_loss(self, X_train, y_train)\n",
    "        self.loss_history[0] = loss\n",
    "\n",
    "        for it in range(self.max_iter):\n",
    "          grad = LinearRegressionHuber.calc_gradient(self, X_train, y_train)\n",
    "          self.w = self.w - self.eta * grad\n",
    "          loss = LinearRegressionHuber.calc_loss(self, X_train, y_train)\n",
    "          self.loss_history[it + 1] = loss\n",
    "          if loss <= self.tol:\n",
    "            return self.loss_history\n",
    "        \n",
    "        return self.loss_history\n",
    "        \n",
    "    def predict(self, X_test):\n",
    "        \"\"\"\n",
    "        INPUT:\n",
    "        X_test - np.array of shape (m, d)\n",
    "        \n",
    "        OUTPUT:\n",
    "        y_pred - np.array of shape (m,)\n",
    "        \"\"\"\n",
    "\n",
    "        return X_test.dot(self.w)\n",
    "    \n",
    "    def calc_gradient(self, X, y):\n",
    "        \"\"\"\n",
    "        Calculates the gradient of Huber loss by weights.\n",
    "        \n",
    "        INPUT:\n",
    "        X - np.array of shape (l, d)\n",
    "        y - np.array of shape (l,)\n",
    "        \n",
    "        OUTPUT:\n",
    "        grad - np.array of shape (d,)\n",
    "        \"\"\"\n",
    "        \n",
    "        deviation = X.dot(self.w) - y\n",
    "        isLessThanDelta = np.abs(deviation) <= self.delta\n",
    "        return (X[isLessThanDelta].T.dot(deviation[isLessThanDelta]) + np.sum(\n",
    "            np.sign(deviation[np.invert(isLessThanDelta)]) * X[np.invert(isLessThanDelta)].T * self.delta, axis = 1\n",
    "            )) / len(X)\n",
    "    \n",
    "    def calc_loss(self, X, y):\n",
    "        \"\"\"\n",
    "        Calculates the Huber loss.\n",
    "        \n",
    "        INPUT:\n",
    "        X - np.array of shape (l, d)\n",
    "        y - np.array of shape (l,)\n",
    "        \n",
    "        OUTPUT:\n",
    "        loss - float\n",
    "        \"\"\"\n",
    "\n",
    "        absDeviation = np.abs(X.dot(self.w) - y)\n",
    "        isLessThanDelta = absDeviation <= self.delta\n",
    "        return (np.sum(\n",
    "            0.5 * absDeviation[isLessThanDelta] ** 2\n",
    "            ) + np.sum(\n",
    "                self.delta * absDeviation[np.invert(isLessThanDelta)] - 0.5 * self.delta ** 2\n",
    "                )) / len(X)\n",
    "        "
   ]
  },
  {
   "cell_type": "code",
   "execution_count": 0,
   "metadata": {
    "colab": {
     "base_uri": "https://localhost:8080/",
     "height": 67
    },
    "colab_type": "code",
    "id": "fuNCgBWDku31",
    "outputId": "f72e0684-afee-493c-b0fe-a4143b0919d5"
   },
   "outputs": [
    {
     "name": "stdout",
     "output_type": "stream",
     "text": [
      "Huber loss of Huber linear regression = 0.408057\n",
      "MSE of Huber linear regression = 1.091952, while\n",
      "MSE of KNN regression = 1.027839\n"
     ]
    }
   ],
   "source": [
    "# your code here\n",
    "LRH = LinearRegressionHuber()\n",
    "loss = LRH.fit(X_train, y_train)\n",
    "print('Huber loss of Huber linear regression = %.6f' % loss[-1])\n",
    "print('MSE of Huber linear regression = %.6f, while' % MSE(LRH.predict(X_test), y_test))\n",
    "print('MSE of KNN regression = %.6f' % MSE(y_my_knn, y_test))"
   ]
  },
  {
   "cell_type": "code",
   "execution_count": 0,
   "metadata": {
    "colab": {
     "base_uri": "https://localhost:8080/",
     "height": 1000
    },
    "colab_type": "code",
    "id": "nubws69rgmpQ",
    "outputId": "8983931d-a58f-4ef5-ca9b-61e9459e89b7"
   },
   "outputs": [
    {
     "name": "stdout",
     "output_type": "stream",
     "text": [
      "Result of prediction:\n",
      "[-3.55370312e-02  2.18176639e-01  2.38926839e-01 -4.59752082e-01\n",
      " -2.69902916e-01  1.85179832e-01  2.74911295e-01 -5.38322912e-01\n",
      "  2.66224276e-01  2.28563286e-01  5.39649828e-01 -1.15612957e-02\n",
      "  1.94290451e-02 -3.04600165e-01 -6.77298206e-02  5.73273606e-02\n",
      " -1.91955901e-01  3.90303281e-02 -2.31956548e-02 -3.33959913e-02\n",
      "  3.73673762e-02  5.37379449e-02 -3.05267467e-02  6.63634978e-02\n",
      "  5.48114439e-02 -3.05656884e-01 -1.58746932e-01 -2.28737845e-01\n",
      " -1.15400078e-01 -2.32307538e-01  3.30832868e-01  4.89827557e-01\n",
      "  1.23740436e-01 -3.03749797e-01 -2.34136357e-01  1.45533803e-02\n",
      " -1.27396991e-01  1.50370930e-02 -1.75205121e-01 -8.21344213e-01\n",
      " -2.64551373e-01 -1.86654938e-02  5.33485625e-01  8.78684479e-02\n",
      "  1.76654007e-02 -1.82286509e-01 -2.57828810e-01  2.84276086e-01\n",
      "  1.31704229e-01 -2.61375244e-01 -3.86188060e-01 -2.22227071e-01\n",
      "  3.99803626e-01  9.25841169e-02 -2.02012730e-01 -2.38172461e-01\n",
      " -1.05889275e-02 -1.31597485e-01 -2.58013824e-01 -3.00250856e-01\n",
      " -6.28913584e-02 -3.02850797e-01  1.99421060e-01  5.11316217e-01\n",
      "  3.22079172e-01  2.45025827e-01  5.04814085e-02 -6.65909657e-01\n",
      "  1.79344409e-01 -1.54641117e-01  3.17663562e-01  1.85946179e-01\n",
      "  2.19338457e-02 -1.26803502e-01  2.78650319e-01  4.72094038e-01\n",
      " -9.25465471e-02 -1.57653604e-01  2.47770500e-02 -3.52487590e-02\n",
      "  1.72088594e-01 -3.73251592e-02  1.87494210e-01 -1.80004404e-01\n",
      " -3.79657165e-03  6.96079803e-03  8.59509312e-02 -2.44497289e-01\n",
      " -2.05630402e-01 -5.06368462e-02 -1.27303160e-01  2.40353413e-02\n",
      "  2.22901286e-01 -1.10205003e-01  3.08788841e-01 -1.82506455e-02\n",
      " -7.61002286e-02  7.62995177e-02 -1.99002428e-02  3.36505438e-01\n",
      " -1.79366412e-01  2.58117486e-01 -1.17146009e-01  6.01535642e-01\n",
      "  1.17931923e-01 -8.09285338e-02 -1.46469658e-01 -2.60023079e-01\n",
      "  1.28462201e-01 -1.60147632e-01 -2.99927957e-02  3.75218725e-02\n",
      "  2.46989767e-01  5.44387222e-02 -8.47408316e-02 -6.94916397e-02\n",
      " -1.32875164e-01  9.19967101e-03 -1.57652946e-01  2.23497985e-02\n",
      " -9.91077017e-02  1.84444093e-02  3.11267050e-01  4.83228896e-02\n",
      "  4.29608584e-01 -1.14172575e-01  5.89867968e-01 -2.75504022e-01\n",
      "  8.51586779e-02  2.43963336e-01 -1.85300418e-01 -1.69291443e-01\n",
      "  9.88066863e-02  1.67868023e-01  5.25013260e-02  2.60410512e-02\n",
      "  3.29712457e-01  2.81670801e-01 -1.66259984e-01  4.46457826e-01\n",
      " -3.79372341e-01 -1.03166857e-01 -2.96253099e-01 -1.75944265e-01\n",
      " -9.22302990e-02 -1.30207229e-01 -5.79799395e-02 -2.33327649e-01\n",
      " -3.14055140e-02 -2.62978238e-01 -4.90887400e-01  2.70236577e-01\n",
      " -2.13708001e-03  2.68880778e-01 -4.98626784e-01 -1.47144970e-01\n",
      "  2.21185324e-01 -1.40505964e-01  4.77742225e-01 -2.48715359e-01\n",
      "  1.47103043e-01  1.03748063e-02 -1.82769813e-01  8.37122391e-03\n",
      " -1.64806643e-02  3.52274448e-01 -3.04999886e-02  2.12785323e-02\n",
      "  5.52360167e-02  3.28503072e-01 -1.35568352e-01 -9.48793208e-02\n",
      " -2.91231693e-02  1.68873244e-01  3.66313271e-01 -2.15468565e-01\n",
      "  3.24829680e-02 -1.45505036e-01  1.17554522e-01  3.04017138e-01\n",
      "  1.23823646e-01  3.17664364e-01 -4.91341446e-03  3.17819048e-01\n",
      "  9.23184716e-02 -1.27945716e-01  1.33045047e-02 -2.37464249e-01\n",
      " -1.23224036e-01 -2.02206466e-01  1.36431960e-01  2.87081646e-02\n",
      "  1.83641385e-01  2.63944537e-02  2.76170607e-01 -1.36877007e-01\n",
      " -1.18512895e-01 -2.61737708e-01  2.57411970e-02  1.05988911e-01\n",
      " -5.87300331e-02  2.64177328e-02  3.79029691e-01 -1.30195438e-01\n",
      " -4.41719964e-02 -2.47900040e-01  1.03529771e-01  9.55950810e-02\n",
      "  3.98728429e-02  1.50065948e-01 -4.66959976e-01  9.34865928e-02\n",
      " -9.76194624e-02  6.18397773e-02  1.69733320e-01 -5.22142436e-02\n",
      "  3.50779391e-02 -8.36041256e-02 -2.05634801e-01 -4.37322488e-02\n",
      "  1.25865300e-01 -1.25897559e-01  2.19255063e-01 -1.22888507e-01\n",
      " -2.38429084e-01 -2.31809435e-01 -2.44796871e-01  6.34659223e-02\n",
      "  2.01368299e-01 -1.93075367e-01  1.82912774e-02  3.39180838e-02\n",
      "  7.70404748e-02 -6.00397542e-01 -2.07669849e-01 -1.12282108e-01\n",
      " -4.25308331e-02 -1.83650463e-01 -2.78434441e-01 -3.08094682e-01\n",
      " -2.19824269e-03 -2.96795950e-01  2.65959205e-01  2.46164509e-01\n",
      " -1.03343740e-01 -6.29271288e-04 -3.74862898e-01  1.64285980e-01\n",
      " -1.75476334e-01  2.42217942e-01  1.78215036e-03 -4.33247458e-01\n",
      "  4.40226209e-02 -1.46839205e-01  2.21781387e-01  8.94475823e-02\n",
      "  6.87471845e-02 -1.48556828e-01  2.23551012e-01  1.92076947e-01\n",
      "  3.02124004e-01 -2.14314481e-01  1.08021106e-01  6.27170148e-02\n",
      " -5.01508208e-01 -5.43353730e-02  1.86115814e-02  5.62558994e-02\n",
      "  8.89813781e-03 -3.33734853e-01  2.46196991e-01 -2.50713035e-01\n",
      " -1.49680081e-01  1.19238559e-01  2.23151611e-02 -1.19964178e-02\n",
      " -1.40259436e-01 -1.27794837e-01  2.62886557e-01  1.90988692e-02\n",
      "  4.19767507e-01 -2.22245774e-02 -8.65892250e-02  7.22788157e-02\n",
      "  1.71932773e-02  1.23501201e-01 -9.00697868e-02  2.94325425e-01\n",
      "  1.66450184e-01  3.01053692e-02 -2.91724731e-01 -1.37607661e-01\n",
      " -1.34940797e-01  1.53680221e-01  9.10932775e-02  5.40904187e-01\n",
      "  5.49002132e-01 -1.53907847e-01  1.01960089e-01  9.79717912e-02\n",
      "  2.96777207e-01 -2.58496172e-01  3.99532230e-01 -1.37171785e-01\n",
      "  1.67743855e-01  7.89186794e-02  1.46266317e-01 -1.60169442e-01\n",
      " -2.76858159e-01  2.27985287e-01 -3.40251059e-01 -2.14914977e-01\n",
      " -1.56809587e-01 -4.00182517e-01 -8.93930701e-02  1.64648086e-01\n",
      "  8.20041559e-02 -1.30606344e-01 -6.70416303e-02 -4.78769446e-02\n",
      "  2.79771833e-01 -5.83378912e-01 -3.59661791e-01  6.89729881e-02\n",
      " -1.04239298e-02  1.93843060e-01 -1.27043804e-01  3.27556176e-01\n",
      "  2.67945411e-02 -1.37142356e-02  2.30301928e-01 -5.43931123e-02\n",
      " -4.82316566e-02  4.00441456e-02  1.11061417e-01 -2.19036906e-01\n",
      "  5.35490906e-02 -2.87359667e-01  2.26995801e-01 -1.65348406e-01\n",
      " -3.61687069e-01 -8.09049646e-02  2.21976770e-01  6.16411268e-03\n",
      " -2.16615687e-02  2.54788397e-01  2.36909496e-01 -3.32234154e-01\n",
      "  2.67738941e-01  2.85721814e-01 -2.30484930e-01  5.52140249e-01\n",
      "  1.65311363e-01 -2.49141771e-01  1.76921154e-01 -3.04395305e-01\n",
      "  2.52219015e-01 -2.83790286e-02  5.42578039e-02 -3.92630601e-01\n",
      " -1.85079914e-01 -2.89009218e-02 -3.89776069e-01 -6.74716573e-03\n",
      " -8.46389574e-02 -2.59009359e-02  1.32901686e-01  1.19784191e-01\n",
      "  6.95961918e-02 -3.68531387e-01  1.02821179e-01 -1.08176664e-02\n",
      "  4.23671753e-01 -1.10269904e-01  2.54298246e-02  3.66404568e-01\n",
      " -2.58741348e-01 -7.73416753e-02 -1.32557288e-02 -6.67877749e-02\n",
      "  2.31361516e-01 -1.84379163e-01  1.68506766e-01  2.95896927e-01\n",
      " -2.75933115e-02  3.52719986e-02  2.60028486e-01  3.24828931e-01\n",
      " -1.38902089e-01 -3.12973849e-02  6.22545348e-02 -3.00257287e-01\n",
      "  7.01937971e-02 -1.81017269e-02 -6.91901588e-02  2.63788212e-01\n",
      " -2.13529916e-02 -6.84194416e-03  8.78986342e-03 -1.58806959e-01\n",
      "  4.99342948e-02  2.34633850e-01 -3.29442218e-02  5.06705417e-01\n",
      " -6.39380874e-02  5.49500899e-03  1.26208213e-01 -3.01792479e-01\n",
      "  2.66357302e-02  2.98832549e-01  2.81863938e-02  7.25673685e-03\n",
      "  3.77361524e-01 -2.85069471e-01 -3.17797543e-01  1.88717101e-01\n",
      "  2.10483599e-01  6.92893893e-02  4.39268915e-01 -2.31111566e-01\n",
      "  3.42150748e-01 -2.46953037e-01  8.13375638e-02 -2.03451948e-01\n",
      " -3.64872375e-01 -1.23066058e-01  9.70570573e-02  2.44067921e-01\n",
      "  3.27778143e-02 -1.47693954e-01 -4.06626013e-02 -1.37166628e-01\n",
      " -1.83272978e-01 -2.92790356e-01  3.33480010e-01 -8.62417699e-02\n",
      " -2.19401277e-01  1.32142466e-01  2.72744907e-01 -1.02257008e-01\n",
      " -1.61021005e-01 -1.70448442e-01 -3.04848508e-01  1.68178502e-01\n",
      " -7.10445056e-02 -2.50467046e-01  1.24262941e-01 -9.72898124e-03\n",
      "  5.59673099e-02 -8.96379143e-02  6.91651776e-02  6.46530288e-02\n",
      " -1.13832949e-01 -2.94613822e-01 -2.72997517e-01 -5.76234538e-02\n",
      " -7.87644984e-02 -1.07586468e-01 -1.50341300e-01 -3.33740719e-01\n",
      "  1.33575854e-02  4.62516269e-01  2.45968456e-01 -6.29599757e-02\n",
      " -3.10132408e-01  4.16482348e-01  4.43424862e-01  8.42418022e-02\n",
      " -3.54553534e-01  4.09615644e-01 -2.47987469e-01  2.92173503e-01\n",
      "  1.06505904e-01 -2.63573865e-01 -5.04463402e-01 -5.07954631e-03\n",
      " -4.90747223e-02  1.63669320e-01 -2.04864632e-01  1.82406069e-01\n",
      "  1.48433974e-01  1.57933883e-02  1.51307424e-02  6.86736976e-02\n",
      "  2.41879365e-01  4.75370330e-02  4.04310486e-01 -1.20706362e-01\n",
      " -2.81390883e-01  3.38086173e-01  2.48273639e-01 -6.31893248e-01\n",
      "  2.23084131e-01 -3.59575332e-02 -2.00951407e-01 -4.21040715e-02\n",
      " -3.31669689e-01 -7.42241298e-02  2.04404342e-01 -4.98653706e-01]\n"
     ]
    }
   ],
   "source": [
    "print('Result of prediction:')\n",
    "print(LRH.predict(X_test))"
   ]
  },
  {
   "cell_type": "code",
   "execution_count": 0,
   "metadata": {
    "colab": {
     "base_uri": "https://localhost:8080/",
     "height": 350
    },
    "colab_type": "code",
    "id": "TIVjY2X9afBD",
    "outputId": "ffe53dce-3969-4efe-c5ec-cea8d54f6cb4"
   },
   "outputs": [
    {
     "data": {
      "image/png": "[encoded data removed]",
      "text/plain": [
       "<Figure size 720x360 with 1 Axes>"
      ]
     },
     "metadata": {
      "tags": []
     },
     "output_type": "display_data"
    }
   ],
   "source": [
    "# your code here\n",
    "fig, ax = plt.subplots()\n",
    "fig.set_size_inches(10, 5)\n",
    "ax.plot(np.arange(1001), loss)\n",
    "ax.set_xlabel('GD iteration')\n",
    "ax.set_ylabel('Loss')\n",
    "ax.set_title('Huber loss dependence on GD iteration')\n",
    "plt.show()"
   ]
  },
  {
   "cell_type": "markdown",
   "metadata": {
    "colab_type": "text",
    "id": "vIkIFhQSku37"
   },
   "source": [
    "# Практика"
   ]
  },
  {
   "cell_type": "markdown",
   "metadata": {
    "colab_type": "text",
    "id": "3S6roUz8ku38"
   },
   "source": [
    "Пожалуйста, при использовании различных функций из библиотек импортируйте все, что вам понадобилось в данной части, в следующем блоке:"
   ]
  },
  {
   "cell_type": "code",
   "execution_count": 2,
   "metadata": {
    "colab": {},
    "colab_type": "code",
    "id": "IQxHzBx3ku3-"
   },
   "outputs": [],
   "source": [
    "import matplotlib.pyplot as plt\n",
    "import numpy as np\n",
    "import pandas as pd\n",
    "import seaborn as sns\n",
    "\n",
    "from sklearn.feature_selection import VarianceThreshold, SelectKBest, SelectFromModel, f_regression\n",
    "from sklearn.linear_model import LinearRegression, Lasso, Ridge\n",
    "from sklearn.metrics import mean_squared_error\n",
    "from sklearn.model_selection import train_test_split, GridSearchCV, cross_val_score\n",
    "from sklearn.neighbors import KNeighborsRegressor\n",
    "from sklearn.pipeline import Pipeline\n",
    "from sklearn.preprocessing import MinMaxScaler, StandardScaler, PolynomialFeatures\n",
    "\n",
    "from sklearn.preprocessing import OneHotEncoder, LabelEncoder\n",
    "from sklearn.impute import SimpleImputer\n",
    "\n",
    "%matplotlib inline"
   ]
  },
  {
   "cell_type": "markdown",
   "metadata": {
    "colab_type": "text",
    "id": "bppA_nzwku4A"
   },
   "source": [
    "В этом домашнем задании вы поработаете с данными из другого соревнования на Kaggle: https://www.kaggle.com/c/house-prices-advanced-regression-techniques. Задача - предсказание цены дома."
   ]
  },
  {
   "cell_type": "code",
   "execution_count": 86,
   "metadata": {
    "colab": {},
    "colab_type": "code",
    "id": "qgwQ-mkIku4B"
   },
   "outputs": [],
   "source": [
    "data = pd.read_csv('train.csv', header=0)"
   ]
  },
  {
   "cell_type": "code",
   "execution_count": 87,
   "metadata": {
    "colab": {
     "base_uri": "https://localhost:8080/",
     "height": 353
    },
    "colab_type": "code",
    "id": "RdzBshbzku4D",
    "outputId": "a585ec0c-08e5-4127-a8d1-6b530d3bef43"
   },
   "outputs": [
    {
     "data": {
      "text/plain": [
       "Index(['Id', 'MSSubClass', 'MSZoning', 'LotFrontage', 'LotArea', 'Street',\n",
       "       'Alley', 'LotShape', 'LandContour', 'Utilities', 'LotConfig',\n",
       "       'LandSlope', 'Neighborhood', 'Condition1', 'Condition2', 'BldgType',\n",
       "       'HouseStyle', 'OverallQual', 'OverallCond', 'YearBuilt', 'YearRemodAdd',\n",
       "       'RoofStyle', 'RoofMatl', 'Exterior1st', 'Exterior2nd', 'MasVnrType',\n",
       "       'MasVnrArea', 'ExterQual', 'ExterCond', 'Foundation', 'BsmtQual',\n",
       "       'BsmtCond', 'BsmtExposure', 'BsmtFinType1', 'BsmtFinSF1',\n",
       "       'BsmtFinType2', 'BsmtFinSF2', 'BsmtUnfSF', 'TotalBsmtSF', 'Heating',\n",
       "       'HeatingQC', 'CentralAir', 'Electrical', '1stFlrSF', '2ndFlrSF',\n",
       "       'LowQualFinSF', 'GrLivArea', 'BsmtFullBath', 'BsmtHalfBath', 'FullBath',\n",
       "       'HalfBath', 'BedroomAbvGr', 'KitchenAbvGr', 'KitchenQual',\n",
       "       'TotRmsAbvGrd', 'Functional', 'Fireplaces', 'FireplaceQu', 'GarageType',\n",
       "       'GarageYrBlt', 'GarageFinish', 'GarageCars', 'GarageArea', 'GarageQual',\n",
       "       'GarageCond', 'PavedDrive', 'WoodDeckSF', 'OpenPorchSF',\n",
       "       'EnclosedPorch', '3SsnPorch', 'ScreenPorch', 'PoolArea', 'PoolQC',\n",
       "       'Fence', 'MiscFeature', 'MiscVal', 'MoSold', 'YrSold', 'SaleType',\n",
       "       'SaleCondition', 'SalePrice'],\n",
       "      dtype='object')"
      ]
     },
     "execution_count": 87,
     "metadata": {},
     "output_type": "execute_result"
    }
   ],
   "source": [
    "data.columns"
   ]
  },
  {
   "cell_type": "code",
   "execution_count": 88,
   "metadata": {
    "colab": {
     "base_uri": "https://localhost:8080/",
     "height": 244
    },
    "colab_type": "code",
    "id": "wHcnjO2vku4F",
    "outputId": "7bb93b44-d312-467b-c649-51cf0e180319"
   },
   "outputs": [
    {
     "data": {
      "text/html": [
       "<div>\n",
       "<style scoped>\n",
       "    .dataframe tbody tr th:only-of-type {\n",
       "        vertical-align: middle;\n",
       "    }\n",
       "\n",
       "    .dataframe tbody tr th {\n",
       "        vertical-align: top;\n",
       "    }\n",
       "\n",
       "    .dataframe thead th {\n",
       "        text-align: right;\n",
       "    }\n",
       "</style>\n",
       "<table border=\"1\" class=\"dataframe\">\n",
       "  <thead>\n",
       "    <tr style=\"text-align: right;\">\n",
       "      <th></th>\n",
       "      <th>Id</th>\n",
       "      <th>MSSubClass</th>\n",
       "      <th>MSZoning</th>\n",
       "      <th>LotFrontage</th>\n",
       "      <th>LotArea</th>\n",
       "      <th>Street</th>\n",
       "      <th>Alley</th>\n",
       "      <th>LotShape</th>\n",
       "      <th>LandContour</th>\n",
       "      <th>Utilities</th>\n",
       "      <th>...</th>\n",
       "      <th>PoolArea</th>\n",
       "      <th>PoolQC</th>\n",
       "      <th>Fence</th>\n",
       "      <th>MiscFeature</th>\n",
       "      <th>MiscVal</th>\n",
       "      <th>MoSold</th>\n",
       "      <th>YrSold</th>\n",
       "      <th>SaleType</th>\n",
       "      <th>SaleCondition</th>\n",
       "      <th>SalePrice</th>\n",
       "    </tr>\n",
       "  </thead>\n",
       "  <tbody>\n",
       "    <tr>\n",
       "      <th>0</th>\n",
       "      <td>1</td>\n",
       "      <td>60</td>\n",
       "      <td>RL</td>\n",
       "      <td>65.0</td>\n",
       "      <td>8450</td>\n",
       "      <td>Pave</td>\n",
       "      <td>NaN</td>\n",
       "      <td>Reg</td>\n",
       "      <td>Lvl</td>\n",
       "      <td>AllPub</td>\n",
       "      <td>...</td>\n",
       "      <td>0</td>\n",
       "      <td>NaN</td>\n",
       "      <td>NaN</td>\n",
       "      <td>NaN</td>\n",
       "      <td>0</td>\n",
       "      <td>2</td>\n",
       "      <td>2008</td>\n",
       "      <td>WD</td>\n",
       "      <td>Normal</td>\n",
       "      <td>208500</td>\n",
       "    </tr>\n",
       "    <tr>\n",
       "      <th>1</th>\n",
       "      <td>2</td>\n",
       "      <td>20</td>\n",
       "      <td>RL</td>\n",
       "      <td>80.0</td>\n",
       "      <td>9600</td>\n",
       "      <td>Pave</td>\n",
       "      <td>NaN</td>\n",
       "      <td>Reg</td>\n",
       "      <td>Lvl</td>\n",
       "      <td>AllPub</td>\n",
       "      <td>...</td>\n",
       "      <td>0</td>\n",
       "      <td>NaN</td>\n",
       "      <td>NaN</td>\n",
       "      <td>NaN</td>\n",
       "      <td>0</td>\n",
       "      <td>5</td>\n",
       "      <td>2007</td>\n",
       "      <td>WD</td>\n",
       "      <td>Normal</td>\n",
       "      <td>181500</td>\n",
       "    </tr>\n",
       "    <tr>\n",
       "      <th>2</th>\n",
       "      <td>3</td>\n",
       "      <td>60</td>\n",
       "      <td>RL</td>\n",
       "      <td>68.0</td>\n",
       "      <td>11250</td>\n",
       "      <td>Pave</td>\n",
       "      <td>NaN</td>\n",
       "      <td>IR1</td>\n",
       "      <td>Lvl</td>\n",
       "      <td>AllPub</td>\n",
       "      <td>...</td>\n",
       "      <td>0</td>\n",
       "      <td>NaN</td>\n",
       "      <td>NaN</td>\n",
       "      <td>NaN</td>\n",
       "      <td>0</td>\n",
       "      <td>9</td>\n",
       "      <td>2008</td>\n",
       "      <td>WD</td>\n",
       "      <td>Normal</td>\n",
       "      <td>223500</td>\n",
       "    </tr>\n",
       "    <tr>\n",
       "      <th>3</th>\n",
       "      <td>4</td>\n",
       "      <td>70</td>\n",
       "      <td>RL</td>\n",
       "      <td>60.0</td>\n",
       "      <td>9550</td>\n",
       "      <td>Pave</td>\n",
       "      <td>NaN</td>\n",
       "      <td>IR1</td>\n",
       "      <td>Lvl</td>\n",
       "      <td>AllPub</td>\n",
       "      <td>...</td>\n",
       "      <td>0</td>\n",
       "      <td>NaN</td>\n",
       "      <td>NaN</td>\n",
       "      <td>NaN</td>\n",
       "      <td>0</td>\n",
       "      <td>2</td>\n",
       "      <td>2006</td>\n",
       "      <td>WD</td>\n",
       "      <td>Abnorml</td>\n",
       "      <td>140000</td>\n",
       "    </tr>\n",
       "    <tr>\n",
       "      <th>4</th>\n",
       "      <td>5</td>\n",
       "      <td>60</td>\n",
       "      <td>RL</td>\n",
       "      <td>84.0</td>\n",
       "      <td>14260</td>\n",
       "      <td>Pave</td>\n",
       "      <td>NaN</td>\n",
       "      <td>IR1</td>\n",
       "      <td>Lvl</td>\n",
       "      <td>AllPub</td>\n",
       "      <td>...</td>\n",
       "      <td>0</td>\n",
       "      <td>NaN</td>\n",
       "      <td>NaN</td>\n",
       "      <td>NaN</td>\n",
       "      <td>0</td>\n",
       "      <td>12</td>\n",
       "      <td>2008</td>\n",
       "      <td>WD</td>\n",
       "      <td>Normal</td>\n",
       "      <td>250000</td>\n",
       "    </tr>\n",
       "  </tbody>\n",
       "</table>\n",
       "<p>5 rows × 81 columns</p>\n",
       "</div>"
      ],
      "text/plain": [
       "   Id  MSSubClass MSZoning  LotFrontage  LotArea Street Alley LotShape  \\\n",
       "0   1          60       RL         65.0     8450   Pave   NaN      Reg   \n",
       "1   2          20       RL         80.0     9600   Pave   NaN      Reg   \n",
       "2   3          60       RL         68.0    11250   Pave   NaN      IR1   \n",
       "3   4          70       RL         60.0     9550   Pave   NaN      IR1   \n",
       "4   5          60       RL         84.0    14260   Pave   NaN      IR1   \n",
       "\n",
       "  LandContour Utilities  ... PoolArea PoolQC Fence MiscFeature MiscVal MoSold  \\\n",
       "0         Lvl    AllPub  ...        0    NaN   NaN         NaN       0      2   \n",
       "1         Lvl    AllPub  ...        0    NaN   NaN         NaN       0      5   \n",
       "2         Lvl    AllPub  ...        0    NaN   NaN         NaN       0      9   \n",
       "3         Lvl    AllPub  ...        0    NaN   NaN         NaN       0      2   \n",
       "4         Lvl    AllPub  ...        0    NaN   NaN         NaN       0     12   \n",
       "\n",
       "  YrSold  SaleType  SaleCondition  SalePrice  \n",
       "0   2008        WD         Normal     208500  \n",
       "1   2007        WD         Normal     181500  \n",
       "2   2008        WD         Normal     223500  \n",
       "3   2006        WD        Abnorml     140000  \n",
       "4   2008        WD         Normal     250000  \n",
       "\n",
       "[5 rows x 81 columns]"
      ]
     },
     "execution_count": 88,
     "metadata": {},
     "output_type": "execute_result"
    }
   ],
   "source": [
    "data.head()"
   ]
  },
  {
   "cell_type": "code",
   "execution_count": 89,
   "metadata": {
    "colab": {},
    "colab_type": "code",
    "id": "XTyXimqlku4I"
   },
   "outputs": [],
   "source": [
    "data.drop('Id', axis=1, inplace=True)"
   ]
  },
  {
   "cell_type": "markdown",
   "metadata": {
    "colab_type": "text",
    "id": "9JcpqQKYku4L"
   },
   "source": [
    "## 1 (1)"
   ]
  },
  {
   "cell_type": "markdown",
   "metadata": {
    "colab_type": "text",
    "id": "xlVbLDghku4L"
   },
   "source": [
    "Есть ли в данных пропуски? Если да, то для каждого столбца, в котором они имеются, посчитайте их количество и их долю от общего числа значений. Что вы наблюдаете?"
   ]
  },
  {
   "cell_type": "code",
   "execution_count": 90,
   "metadata": {
    "colab": {
     "base_uri": "https://localhost:8080/",
     "height": 722
    },
    "colab_type": "code",
    "id": "1Uwxq2SDku4O",
    "outputId": "be1e23c6-e8ec-4c74-c109-ab93b3a8516f"
   },
   "outputs": [
    {
     "name": "stdout",
     "output_type": "stream",
     "text": [
      "В данных есть пропуски? - True\n",
      "Пропуски обнаружены в слудующих столбцах: \n",
      "LotFrontage     True\n",
      "Alley           True\n",
      "MasVnrType      True\n",
      "MasVnrArea      True\n",
      "BsmtQual        True\n",
      "BsmtCond        True\n",
      "BsmtExposure    True\n",
      "BsmtFinType1    True\n",
      "BsmtFinType2    True\n",
      "Electrical      True\n",
      "FireplaceQu     True\n",
      "GarageType      True\n",
      "GarageYrBlt     True\n",
      "GarageFinish    True\n",
      "GarageQual      True\n",
      "GarageCond      True\n",
      "PoolQC          True\n",
      "Fence           True\n",
      "MiscFeature     True\n",
      "dtype: bool\n",
      "----------------------------------------\n",
      "В столбце LotFrontage: 259 пропусков, их доля 17.74%\n",
      "В столбце Alley: 1369 пропусков, их доля 93.77%\n",
      "В столбце MasVnrType: 8 пропусков, их доля 0.55%\n",
      "В столбце MasVnrArea: 8 пропусков, их доля 0.55%\n",
      "В столбце BsmtQual: 37 пропусков, их доля 2.53%\n",
      "В столбце BsmtCond: 37 пропусков, их доля 2.53%\n",
      "В столбце BsmtExposure: 38 пропусков, их доля 2.60%\n",
      "В столбце BsmtFinType1: 37 пропусков, их доля 2.53%\n",
      "В столбце BsmtFinType2: 38 пропусков, их доля 2.60%\n",
      "В столбце Electrical: 1 пропусков, их доля 0.07%\n",
      "В столбце FireplaceQu: 690 пропусков, их доля 47.26%\n",
      "В столбце GarageType: 81 пропусков, их доля 5.55%\n",
      "В столбце GarageYrBlt: 81 пропусков, их доля 5.55%\n",
      "В столбце GarageFinish: 81 пропусков, их доля 5.55%\n",
      "В столбце GarageQual: 81 пропусков, их доля 5.55%\n",
      "В столбце GarageCond: 81 пропусков, их доля 5.55%\n",
      "В столбце PoolQC: 1453 пропусков, их доля 99.52%\n",
      "В столбце Fence: 1179 пропусков, их доля 80.75%\n",
      "В столбце MiscFeature: 1406 пропусков, их доля 96.30%\n"
     ]
    }
   ],
   "source": [
    "# your code here\n",
    "print('В данных есть пропуски? - %s' % str(data.isnull().any().any()))\n",
    "print('Пропуски обнаружены в слудующих столбцах: ')\n",
    "miss = data.isnull().any()[data.isnull().any() == True]\n",
    "print(miss)\n",
    "print('-'*40)\n",
    "for i in miss.index:\n",
    "  print('В столбце %s: %d пропусков, их доля %.2f%%' % (i, sum(data[i].isnull()), float(100 * sum(data[i].isnull())) / len(data)))"
   ]
  },
  {
   "cell_type": "markdown",
   "metadata": {
    "colab_type": "text",
    "id": "q1eJ9f53twtx"
   },
   "source": [
    "В некоторых столбцах количество пропусков минимально (**MasVnrType, Electrical** и т.д.), в то время как есть характеристики, данные о которых отсутствуют в большинстве наблюдений (столбцы **PoolQC, MiscFeature** и т.д.). Вероятно, некоторые признаки означают исключительные свойства домов, которыми не обладают остальные из данной выборки. \n",
    "\n",
    "Более того, если взглянуть на данные, то можно обнаружить куда больше пропусков (или отсутсвий значения). Столбцы, принимающие вещественные значения, такие как **EnclosedPorch, 3SsnPorch, ScreenPorch, PoolArea** и т.д. имеют множетство нулей. Скорее всего, это означает отсутствие у объекта указанного признака."
   ]
  },
  {
   "cell_type": "markdown",
   "metadata": {
    "colab_type": "text",
    "id": "8R7pLSBbku4Q"
   },
   "source": [
    "## 2 (1)"
   ]
  },
  {
   "cell_type": "markdown",
   "metadata": {
    "colab_type": "text",
    "id": "DqgwHJ8Dku4Q"
   },
   "source": [
    "Избавьтесь от пропусков. Для каждого из примененных методов обоснуйте свое решение. **Проверьте, что вы действительно избавились от пропусков.**\n",
    "\n",
    "*Напоминание. В зависимости от типа столбца, можно заполнить пропуски, например, средним арифметическим, медианой, модой, можно какими-то отдельными значениями. А можно такие столбцы вообще удалить.*"
   ]
  },
  {
   "cell_type": "code",
   "execution_count": 289,
   "metadata": {
    "colab": {},
    "colab_type": "code",
    "id": "_u36BSTZku4R"
   },
   "outputs": [],
   "source": [
    "# your code here\n",
    "\n",
    "# для вещественнозначных признаков заполним пропуски медианами, т.к. медиана менее чувствительна к большим отклонениям\n",
    "objects = (data.dtypes == 'object').values\n",
    "data_real = data[data.columns[~objects]]\n",
    "mis_replacer = SimpleImputer(strategy='median')\n",
    "data_no_mis_real = pd.DataFrame(data=mis_replacer.fit_transform(data_real), columns=data_real.columns, index=data.index)\n",
    "\n",
    "# категориальные признаки заполним строкой, означающей отсутствие значения\n",
    "data_cat = data[data.columns[objects]].fillna(\"NG\")\n",
    "data_no_mis = pd.concat([data_no_mis_real, data_cat], axis=1)"
   ]
  },
  {
   "cell_type": "code",
   "execution_count": 290,
   "metadata": {
    "colab": {
     "base_uri": "https://localhost:8080/",
     "height": 34
    },
    "colab_type": "code",
    "id": "zTTl1vQlAM0h",
    "outputId": "182f278f-ac77-4b97-876f-cd949ad16f07"
   },
   "outputs": [
    {
     "name": "stdout",
     "output_type": "stream",
     "text": [
      "Пропуски остались? - False\n"
     ]
    }
   ],
   "source": [
    "print('Пропуски остались? - ' + str(data_no_mis.isnull().any().any()))"
   ]
  },
  {
   "cell_type": "markdown",
   "metadata": {
    "colab_type": "text",
    "id": "ULRQ2K_Hku4U"
   },
   "source": [
    "## 3 (1)"
   ]
  },
  {
   "cell_type": "markdown",
   "metadata": {
    "colab_type": "text",
    "id": "l0kZr9dBku4V"
   },
   "source": [
    "Обработайте категориальные признаки. В их обнаружении вам может помочь синтаксис `pandas` (например, можно обратить внимание на типы столбцов), а также описание датасета и его исследование. Объясните выбор метода (one-hot-encoding, label encoding, ...)"
   ]
  },
  {
   "cell_type": "code",
   "execution_count": 291,
   "metadata": {
    "colab": {},
    "colab_type": "code",
    "id": "S4iliThtExA-"
   },
   "outputs": [],
   "source": [
    "# your code here\n",
    "data_no_mis = pd.get_dummies(data_no_mis, drop_first=True) # OneHotEncoding"
   ]
  },
  {
   "cell_type": "markdown",
   "metadata": {},
   "source": [
    "Выбор OneHotEncoding обусловлен тем, что категориальные признаки не упорядочены, т.е. LabelEncoding не подходит."
   ]
  },
  {
   "cell_type": "code",
   "execution_count": 340,
   "metadata": {
    "colab": {
     "base_uri": "https://localhost:8080/",
     "height": 134
    },
    "colab_type": "code",
    "id": "y5mlX_FvAesk",
    "outputId": "762f9a2c-7abd-4013-951d-848bac382b2e"
   },
   "outputs": [
    {
     "data": {
      "text/html": [
       "<div>\n",
       "<style scoped>\n",
       "    .dataframe tbody tr th:only-of-type {\n",
       "        vertical-align: middle;\n",
       "    }\n",
       "\n",
       "    .dataframe tbody tr th {\n",
       "        vertical-align: top;\n",
       "    }\n",
       "\n",
       "    .dataframe thead th {\n",
       "        text-align: right;\n",
       "    }\n",
       "</style>\n",
       "<table border=\"1\" class=\"dataframe\">\n",
       "  <thead>\n",
       "    <tr style=\"text-align: right;\">\n",
       "      <th></th>\n",
       "      <th>MSSubClass</th>\n",
       "      <th>LotFrontage</th>\n",
       "      <th>LotArea</th>\n",
       "      <th>OverallQual</th>\n",
       "      <th>OverallCond</th>\n",
       "      <th>YearBuilt</th>\n",
       "      <th>YearRemodAdd</th>\n",
       "      <th>MasVnrArea</th>\n",
       "      <th>BsmtFinSF1</th>\n",
       "      <th>BsmtFinSF2</th>\n",
       "      <th>...</th>\n",
       "      <th>SaleType_ConLI</th>\n",
       "      <th>SaleType_ConLw</th>\n",
       "      <th>SaleType_New</th>\n",
       "      <th>SaleType_Oth</th>\n",
       "      <th>SaleType_WD</th>\n",
       "      <th>SaleCondition_AdjLand</th>\n",
       "      <th>SaleCondition_Alloca</th>\n",
       "      <th>SaleCondition_Family</th>\n",
       "      <th>SaleCondition_Normal</th>\n",
       "      <th>SaleCondition_Partial</th>\n",
       "    </tr>\n",
       "  </thead>\n",
       "  <tbody>\n",
       "    <tr>\n",
       "      <th>0</th>\n",
       "      <td>60.0</td>\n",
       "      <td>65.0</td>\n",
       "      <td>8450.0</td>\n",
       "      <td>7.0</td>\n",
       "      <td>5.0</td>\n",
       "      <td>2003.0</td>\n",
       "      <td>2003.0</td>\n",
       "      <td>196.0</td>\n",
       "      <td>706.0</td>\n",
       "      <td>0.0</td>\n",
       "      <td>...</td>\n",
       "      <td>0</td>\n",
       "      <td>0</td>\n",
       "      <td>0</td>\n",
       "      <td>0</td>\n",
       "      <td>1</td>\n",
       "      <td>0</td>\n",
       "      <td>0</td>\n",
       "      <td>0</td>\n",
       "      <td>1</td>\n",
       "      <td>0</td>\n",
       "    </tr>\n",
       "    <tr>\n",
       "      <th>1</th>\n",
       "      <td>20.0</td>\n",
       "      <td>80.0</td>\n",
       "      <td>9600.0</td>\n",
       "      <td>6.0</td>\n",
       "      <td>8.0</td>\n",
       "      <td>1976.0</td>\n",
       "      <td>1976.0</td>\n",
       "      <td>0.0</td>\n",
       "      <td>978.0</td>\n",
       "      <td>0.0</td>\n",
       "      <td>...</td>\n",
       "      <td>0</td>\n",
       "      <td>0</td>\n",
       "      <td>0</td>\n",
       "      <td>0</td>\n",
       "      <td>1</td>\n",
       "      <td>0</td>\n",
       "      <td>0</td>\n",
       "      <td>0</td>\n",
       "      <td>1</td>\n",
       "      <td>0</td>\n",
       "    </tr>\n",
       "    <tr>\n",
       "      <th>2</th>\n",
       "      <td>60.0</td>\n",
       "      <td>68.0</td>\n",
       "      <td>11250.0</td>\n",
       "      <td>7.0</td>\n",
       "      <td>5.0</td>\n",
       "      <td>2001.0</td>\n",
       "      <td>2002.0</td>\n",
       "      <td>162.0</td>\n",
       "      <td>486.0</td>\n",
       "      <td>0.0</td>\n",
       "      <td>...</td>\n",
       "      <td>0</td>\n",
       "      <td>0</td>\n",
       "      <td>0</td>\n",
       "      <td>0</td>\n",
       "      <td>1</td>\n",
       "      <td>0</td>\n",
       "      <td>0</td>\n",
       "      <td>0</td>\n",
       "      <td>1</td>\n",
       "      <td>0</td>\n",
       "    </tr>\n",
       "    <tr>\n",
       "      <th>3</th>\n",
       "      <td>70.0</td>\n",
       "      <td>60.0</td>\n",
       "      <td>9550.0</td>\n",
       "      <td>7.0</td>\n",
       "      <td>5.0</td>\n",
       "      <td>1915.0</td>\n",
       "      <td>1970.0</td>\n",
       "      <td>0.0</td>\n",
       "      <td>216.0</td>\n",
       "      <td>0.0</td>\n",
       "      <td>...</td>\n",
       "      <td>0</td>\n",
       "      <td>0</td>\n",
       "      <td>0</td>\n",
       "      <td>0</td>\n",
       "      <td>1</td>\n",
       "      <td>0</td>\n",
       "      <td>0</td>\n",
       "      <td>0</td>\n",
       "      <td>0</td>\n",
       "      <td>0</td>\n",
       "    </tr>\n",
       "    <tr>\n",
       "      <th>4</th>\n",
       "      <td>60.0</td>\n",
       "      <td>84.0</td>\n",
       "      <td>14260.0</td>\n",
       "      <td>8.0</td>\n",
       "      <td>5.0</td>\n",
       "      <td>2000.0</td>\n",
       "      <td>2000.0</td>\n",
       "      <td>350.0</td>\n",
       "      <td>655.0</td>\n",
       "      <td>0.0</td>\n",
       "      <td>...</td>\n",
       "      <td>0</td>\n",
       "      <td>0</td>\n",
       "      <td>0</td>\n",
       "      <td>0</td>\n",
       "      <td>1</td>\n",
       "      <td>0</td>\n",
       "      <td>0</td>\n",
       "      <td>0</td>\n",
       "      <td>1</td>\n",
       "      <td>0</td>\n",
       "    </tr>\n",
       "  </tbody>\n",
       "</table>\n",
       "<p>5 rows × 262 columns</p>\n",
       "</div>"
      ],
      "text/plain": [
       "   MSSubClass  LotFrontage  LotArea  OverallQual  OverallCond  YearBuilt  \\\n",
       "0        60.0         65.0   8450.0          7.0          5.0     2003.0   \n",
       "1        20.0         80.0   9600.0          6.0          8.0     1976.0   \n",
       "2        60.0         68.0  11250.0          7.0          5.0     2001.0   \n",
       "3        70.0         60.0   9550.0          7.0          5.0     1915.0   \n",
       "4        60.0         84.0  14260.0          8.0          5.0     2000.0   \n",
       "\n",
       "   YearRemodAdd  MasVnrArea  BsmtFinSF1  BsmtFinSF2  ...  SaleType_ConLI  \\\n",
       "0        2003.0       196.0       706.0         0.0  ...               0   \n",
       "1        1976.0         0.0       978.0         0.0  ...               0   \n",
       "2        2002.0       162.0       486.0         0.0  ...               0   \n",
       "3        1970.0         0.0       216.0         0.0  ...               0   \n",
       "4        2000.0       350.0       655.0         0.0  ...               0   \n",
       "\n",
       "   SaleType_ConLw  SaleType_New  SaleType_Oth  SaleType_WD  \\\n",
       "0               0             0             0            1   \n",
       "1               0             0             0            1   \n",
       "2               0             0             0            1   \n",
       "3               0             0             0            1   \n",
       "4               0             0             0            1   \n",
       "\n",
       "   SaleCondition_AdjLand  SaleCondition_Alloca  SaleCondition_Family  \\\n",
       "0                      0                     0                     0   \n",
       "1                      0                     0                     0   \n",
       "2                      0                     0                     0   \n",
       "3                      0                     0                     0   \n",
       "4                      0                     0                     0   \n",
       "\n",
       "   SaleCondition_Normal  SaleCondition_Partial  \n",
       "0                     1                      0  \n",
       "1                     1                      0  \n",
       "2                     1                      0  \n",
       "3                     0                      0  \n",
       "4                     1                      0  \n",
       "\n",
       "[5 rows x 262 columns]"
      ]
     },
     "execution_count": 340,
     "metadata": {},
     "output_type": "execute_result"
    }
   ],
   "source": [
    "data_no_mis.head()"
   ]
  },
  {
   "cell_type": "code",
   "execution_count": 301,
   "metadata": {
    "colab": {},
    "colab_type": "code",
    "id": "_RYAQZ79Kbnj"
   },
   "outputs": [],
   "source": [
    "data_y = data_no_mis['SalePrice']\n",
    "data_X = data_no_mis.drop('SalePrice', axis = 1)"
   ]
  },
  {
   "cell_type": "code",
   "execution_count": 302,
   "metadata": {
    "colab": {
     "base_uri": "https://localhost:8080/",
     "height": 244
    },
    "colab_type": "code",
    "id": "ikKB4X06LRNc",
    "outputId": "81f2b773-fd35-4ee4-cbfc-434923311eec"
   },
   "outputs": [
    {
     "data": {
      "text/html": [
       "<div>\n",
       "<style scoped>\n",
       "    .dataframe tbody tr th:only-of-type {\n",
       "        vertical-align: middle;\n",
       "    }\n",
       "\n",
       "    .dataframe tbody tr th {\n",
       "        vertical-align: top;\n",
       "    }\n",
       "\n",
       "    .dataframe thead th {\n",
       "        text-align: right;\n",
       "    }\n",
       "</style>\n",
       "<table border=\"1\" class=\"dataframe\">\n",
       "  <thead>\n",
       "    <tr style=\"text-align: right;\">\n",
       "      <th></th>\n",
       "      <th>MSSubClass</th>\n",
       "      <th>LotFrontage</th>\n",
       "      <th>LotArea</th>\n",
       "      <th>OverallQual</th>\n",
       "      <th>OverallCond</th>\n",
       "      <th>YearBuilt</th>\n",
       "      <th>YearRemodAdd</th>\n",
       "      <th>MasVnrArea</th>\n",
       "      <th>BsmtFinSF1</th>\n",
       "      <th>BsmtFinSF2</th>\n",
       "      <th>...</th>\n",
       "      <th>SaleType_ConLI</th>\n",
       "      <th>SaleType_ConLw</th>\n",
       "      <th>SaleType_New</th>\n",
       "      <th>SaleType_Oth</th>\n",
       "      <th>SaleType_WD</th>\n",
       "      <th>SaleCondition_AdjLand</th>\n",
       "      <th>SaleCondition_Alloca</th>\n",
       "      <th>SaleCondition_Family</th>\n",
       "      <th>SaleCondition_Normal</th>\n",
       "      <th>SaleCondition_Partial</th>\n",
       "    </tr>\n",
       "  </thead>\n",
       "  <tbody>\n",
       "    <tr>\n",
       "      <th>0</th>\n",
       "      <td>60.0</td>\n",
       "      <td>65.0</td>\n",
       "      <td>8450.0</td>\n",
       "      <td>7.0</td>\n",
       "      <td>5.0</td>\n",
       "      <td>2003.0</td>\n",
       "      <td>2003.0</td>\n",
       "      <td>196.0</td>\n",
       "      <td>706.0</td>\n",
       "      <td>0.0</td>\n",
       "      <td>...</td>\n",
       "      <td>0</td>\n",
       "      <td>0</td>\n",
       "      <td>0</td>\n",
       "      <td>0</td>\n",
       "      <td>1</td>\n",
       "      <td>0</td>\n",
       "      <td>0</td>\n",
       "      <td>0</td>\n",
       "      <td>1</td>\n",
       "      <td>0</td>\n",
       "    </tr>\n",
       "    <tr>\n",
       "      <th>1</th>\n",
       "      <td>20.0</td>\n",
       "      <td>80.0</td>\n",
       "      <td>9600.0</td>\n",
       "      <td>6.0</td>\n",
       "      <td>8.0</td>\n",
       "      <td>1976.0</td>\n",
       "      <td>1976.0</td>\n",
       "      <td>0.0</td>\n",
       "      <td>978.0</td>\n",
       "      <td>0.0</td>\n",
       "      <td>...</td>\n",
       "      <td>0</td>\n",
       "      <td>0</td>\n",
       "      <td>0</td>\n",
       "      <td>0</td>\n",
       "      <td>1</td>\n",
       "      <td>0</td>\n",
       "      <td>0</td>\n",
       "      <td>0</td>\n",
       "      <td>1</td>\n",
       "      <td>0</td>\n",
       "    </tr>\n",
       "    <tr>\n",
       "      <th>2</th>\n",
       "      <td>60.0</td>\n",
       "      <td>68.0</td>\n",
       "      <td>11250.0</td>\n",
       "      <td>7.0</td>\n",
       "      <td>5.0</td>\n",
       "      <td>2001.0</td>\n",
       "      <td>2002.0</td>\n",
       "      <td>162.0</td>\n",
       "      <td>486.0</td>\n",
       "      <td>0.0</td>\n",
       "      <td>...</td>\n",
       "      <td>0</td>\n",
       "      <td>0</td>\n",
       "      <td>0</td>\n",
       "      <td>0</td>\n",
       "      <td>1</td>\n",
       "      <td>0</td>\n",
       "      <td>0</td>\n",
       "      <td>0</td>\n",
       "      <td>1</td>\n",
       "      <td>0</td>\n",
       "    </tr>\n",
       "    <tr>\n",
       "      <th>3</th>\n",
       "      <td>70.0</td>\n",
       "      <td>60.0</td>\n",
       "      <td>9550.0</td>\n",
       "      <td>7.0</td>\n",
       "      <td>5.0</td>\n",
       "      <td>1915.0</td>\n",
       "      <td>1970.0</td>\n",
       "      <td>0.0</td>\n",
       "      <td>216.0</td>\n",
       "      <td>0.0</td>\n",
       "      <td>...</td>\n",
       "      <td>0</td>\n",
       "      <td>0</td>\n",
       "      <td>0</td>\n",
       "      <td>0</td>\n",
       "      <td>1</td>\n",
       "      <td>0</td>\n",
       "      <td>0</td>\n",
       "      <td>0</td>\n",
       "      <td>0</td>\n",
       "      <td>0</td>\n",
       "    </tr>\n",
       "    <tr>\n",
       "      <th>4</th>\n",
       "      <td>60.0</td>\n",
       "      <td>84.0</td>\n",
       "      <td>14260.0</td>\n",
       "      <td>8.0</td>\n",
       "      <td>5.0</td>\n",
       "      <td>2000.0</td>\n",
       "      <td>2000.0</td>\n",
       "      <td>350.0</td>\n",
       "      <td>655.0</td>\n",
       "      <td>0.0</td>\n",
       "      <td>...</td>\n",
       "      <td>0</td>\n",
       "      <td>0</td>\n",
       "      <td>0</td>\n",
       "      <td>0</td>\n",
       "      <td>1</td>\n",
       "      <td>0</td>\n",
       "      <td>0</td>\n",
       "      <td>0</td>\n",
       "      <td>1</td>\n",
       "      <td>0</td>\n",
       "    </tr>\n",
       "  </tbody>\n",
       "</table>\n",
       "<p>5 rows × 261 columns</p>\n",
       "</div>"
      ],
      "text/plain": [
       "   MSSubClass  LotFrontage  LotArea  OverallQual  OverallCond  YearBuilt  \\\n",
       "0        60.0         65.0   8450.0          7.0          5.0     2003.0   \n",
       "1        20.0         80.0   9600.0          6.0          8.0     1976.0   \n",
       "2        60.0         68.0  11250.0          7.0          5.0     2001.0   \n",
       "3        70.0         60.0   9550.0          7.0          5.0     1915.0   \n",
       "4        60.0         84.0  14260.0          8.0          5.0     2000.0   \n",
       "\n",
       "   YearRemodAdd  MasVnrArea  BsmtFinSF1  BsmtFinSF2  ...  SaleType_ConLI  \\\n",
       "0        2003.0       196.0       706.0         0.0  ...               0   \n",
       "1        1976.0         0.0       978.0         0.0  ...               0   \n",
       "2        2002.0       162.0       486.0         0.0  ...               0   \n",
       "3        1970.0         0.0       216.0         0.0  ...               0   \n",
       "4        2000.0       350.0       655.0         0.0  ...               0   \n",
       "\n",
       "   SaleType_ConLw  SaleType_New  SaleType_Oth  SaleType_WD  \\\n",
       "0               0             0             0            1   \n",
       "1               0             0             0            1   \n",
       "2               0             0             0            1   \n",
       "3               0             0             0            1   \n",
       "4               0             0             0            1   \n",
       "\n",
       "   SaleCondition_AdjLand  SaleCondition_Alloca  SaleCondition_Family  \\\n",
       "0                      0                     0                     0   \n",
       "1                      0                     0                     0   \n",
       "2                      0                     0                     0   \n",
       "3                      0                     0                     0   \n",
       "4                      0                     0                     0   \n",
       "\n",
       "   SaleCondition_Normal  SaleCondition_Partial  \n",
       "0                     1                      0  \n",
       "1                     1                      0  \n",
       "2                     1                      0  \n",
       "3                     0                      0  \n",
       "4                     1                      0  \n",
       "\n",
       "[5 rows x 261 columns]"
      ]
     },
     "execution_count": 302,
     "metadata": {},
     "output_type": "execute_result"
    }
   ],
   "source": [
    "data_X.head()"
   ]
  },
  {
   "cell_type": "markdown",
   "metadata": {
    "colab_type": "text",
    "id": "v0u0zfW5ku4Y"
   },
   "source": [
    "## 4 (0.5)"
   ]
  },
  {
   "cell_type": "markdown",
   "metadata": {
    "colab_type": "text",
    "id": "31fEsWzpku4Z"
   },
   "source": [
    "Вычислите и визуализируйте попарную корреляцию Пирсона между всеми признаками. Какие выводы можно сделать?\n",
    "\n",
    "*Для визуализации можно использовать `seaborn.heatmap()`.*"
   ]
  },
  {
   "cell_type": "code",
   "execution_count": 294,
   "metadata": {
    "colab": {
     "base_uri": "https://localhost:8080/",
     "height": 336
    },
    "colab_type": "code",
    "id": "p8KG99IIku4Z",
    "outputId": "a1cda855-5612-418c-9906-7e9e8b321b61"
   },
   "outputs": [
    {
     "data": {
      "image/png": "[encoded data removed]",
      "text/plain": [
       "<Figure size 432x288 with 2 Axes>"
      ]
     },
     "metadata": {
      "needs_background": "light"
     },
     "output_type": "display_data"
    }
   ],
   "source": [
    "# your code here\n",
    "correl = pd.DataFrame(data).corr()\n",
    "sns.heatmap(correl, vmin = -1, vmax = 1, linewidths = 0.01, square = True, cmap=\"YlGnBu\")\n",
    "plt.show()"
   ]
  },
  {
   "cell_type": "markdown",
   "metadata": {
    "colab_type": "text",
    "id": "qrN3vSmESOE7"
   },
   "source": [
    "Большинство вещественных признаков не коррелируют между собой."
   ]
  },
  {
   "cell_type": "markdown",
   "metadata": {
    "colab_type": "text",
    "id": "gnb6B1dgku4c"
   },
   "source": [
    "## 5 (0.5)"
   ]
  },
  {
   "cell_type": "markdown",
   "metadata": {
    "colab_type": "text",
    "id": "UHzDeSUmku4c"
   },
   "source": [
    "Найдите признаки с максимальным и минимальным **абсолютным** значением коэффициента корреляции Пирсона с предсказываемым значением. Изобразите на графиках зависимость найденных признаков от предсказываемого значения.\n",
    "\n",
    "*Не забудьте указать название графика и обозначить, что изображено по каждой из осей.*"
   ]
  },
  {
   "cell_type": "code",
   "execution_count": 295,
   "metadata": {
    "colab": {
     "base_uri": "https://localhost:8080/",
     "height": 50
    },
    "colab_type": "code",
    "id": "wlAvLqHpku4d",
    "outputId": "5dc8d11f-4354-4d1e-9fa5-319d786c9330"
   },
   "outputs": [
    {
     "name": "stdout",
     "output_type": "stream",
     "text": [
      "Признак с максимальным значением корреляции: OverallQual\n",
      "Признак с минимальным значением корреляции: KitchenAbvGr\n"
     ]
    }
   ],
   "source": [
    "# your code here\n",
    "maxCor = (data.corrwith(data['SalePrice']).drop('SalePrice')).idxmax()\n",
    "minCor = (data.corrwith(data['SalePrice']).drop('SalePrice')).idxmin()\n",
    "print('Признак с максимальным значением корреляции: %s' % maxCor)\n",
    "print('Признак с минимальным значением корреляции: %s' % minCor)"
   ]
  },
  {
   "cell_type": "code",
   "execution_count": 296,
   "metadata": {
    "colab": {
     "base_uri": "https://localhost:8080/",
     "height": 323
    },
    "colab_type": "code",
    "id": "yp5kFzQvQMm9",
    "outputId": "26f3ec79-c042-49f3-85d4-75d282f56c8c"
   },
   "outputs": [
    {
     "data": {
      "image/png": "[encoded data removed]",
      "text/plain": [
       "<Figure size 864x288 with 2 Axes>"
      ]
     },
     "metadata": {
      "needs_background": "light"
     },
     "output_type": "display_data"
    }
   ],
   "source": [
    "fig, ax = plt.subplots(1, 2, figsize = (12, 4), sharey=True)\n",
    "fig.tight_layout()\n",
    "ax[0].scatter(data['OverallQual'], data['SalePrice'])\n",
    "ax[0].set_ylabel('SalePrice')\n",
    "ax[0].set_xlabel('OverallQual')\n",
    "ax[0].set_title(u'Зависимость цены продажи от общего качества дома')\n",
    "ax[1].scatter(data['KitchenAbvGr'], data['SalePrice'])\n",
    "ax[1].set_xlabel('KitchenAbvGr')\n",
    "ax[1].set_title(u'Зависимость цены продажи от количества кухонь')\n",
    "plt.show()"
   ]
  },
  {
   "cell_type": "markdown",
   "metadata": {
    "colab_type": "text",
    "id": "J3rJAkcJku4f"
   },
   "source": [
    "## 6 (0.5)"
   ]
  },
  {
   "cell_type": "markdown",
   "metadata": {
    "colab_type": "text",
    "id": "Zx-rNG3hku4g"
   },
   "source": [
    "Постройте гистограмму распределения предсказываемого значения. Для избавления от разницы в масштабах, а также «смещения» распределения переменной в сторону нормального (что бывает полезно при статистическом анализе), можно прологарифмировать ее (это обратимое преобразование, поэтому целевую переменную легко восстановить). В данном случае воспользуйтесь `numpy.log1p`, чтобы сделать преобразование $y \\to \\ln\\left(1 + y\\right)$. Постройте гистограмму распределения от нового предсказываемого значения. Опишите наблюдения.\n",
    "\n",
    "*В дальнейшем используйте в качестве предсказываемого значения вектор, который получился после логарифмирования.*"
   ]
  },
  {
   "cell_type": "code",
   "execution_count": 297,
   "metadata": {
    "colab": {
     "base_uri": "https://localhost:8080/",
     "height": 299
    },
    "colab_type": "code",
    "id": "GQVbB9bWku4g",
    "outputId": "40e842a8-56f2-43d2-9a30-d739958c11bc"
   },
   "outputs": [
    {
     "data": {
      "image/png": "[encoded data removed]",
      "text/plain": [
       "<Figure size 1152x288 with 2 Axes>"
      ]
     },
     "metadata": {
      "needs_background": "light"
     },
     "output_type": "display_data"
    }
   ],
   "source": [
    "# your code here\n",
    "fig, ax = plt.subplots(1, 2, figsize = (16, 4))\n",
    "ax[0].set_title(u'Гистограмма изначальной выборки')\n",
    "ax[0].hist(data['SalePrice'], bins = 20)\n",
    "ax[0].set_xlabel('$y$')\n",
    "ax[0].set_ylabel('Number of observations')\n",
    "\n",
    "ax[1].set_title(u'Гистограмма преобразованной выборки')\n",
    "ax[1].hist(np.log1p(data['SalePrice']), bins = 20)\n",
    "ax[1].set_xlabel('$\\ln(1 + y)$')\n",
    "ax[1].set_ylabel('Number of observations')\n",
    "plt.show()"
   ]
  },
  {
   "cell_type": "code",
   "execution_count": 298,
   "metadata": {
    "colab": {
     "base_uri": "https://localhost:8080/",
     "height": 168
    },
    "colab_type": "code",
    "id": "MwjKADw3WQQd",
    "outputId": "84a9b6dc-fa17-47ed-f683-b97e476f98ea"
   },
   "outputs": [
    {
     "data": {
      "text/plain": [
       "count      1460.000000\n",
       "mean     180921.195890\n",
       "std       79442.502883\n",
       "min       34900.000000\n",
       "25%      129975.000000\n",
       "50%      163000.000000\n",
       "75%      214000.000000\n",
       "max      755000.000000\n",
       "Name: SalePrice, dtype: float64"
      ]
     },
     "execution_count": 298,
     "metadata": {},
     "output_type": "execute_result"
    }
   ],
   "source": [
    "data['SalePrice'].describe()"
   ]
  },
  {
   "cell_type": "code",
   "execution_count": 299,
   "metadata": {
    "colab": {
     "base_uri": "https://localhost:8080/",
     "height": 168
    },
    "colab_type": "code",
    "id": "zCalHJPhWkd1",
    "outputId": "01a0a99d-af65-406c-962e-c9a66a3de93a"
   },
   "outputs": [
    {
     "data": {
      "text/plain": [
       "count    1460.000000\n",
       "mean       12.024057\n",
       "std         0.399449\n",
       "min        10.460271\n",
       "25%        11.775105\n",
       "50%        12.001512\n",
       "75%        12.273736\n",
       "max        13.534474\n",
       "Name: SalePrice, dtype: float64"
      ]
     },
     "execution_count": 299,
     "metadata": {},
     "output_type": "execute_result"
    }
   ],
   "source": [
    "np.log1p(data['SalePrice']).describe()"
   ]
  },
  {
   "cell_type": "markdown",
   "metadata": {},
   "source": [
    "У преобразованной выборки отсутсвует правосторонняя асимметрия, меньше разброс значения, что делает процесс предсказания для линейной модели весьма проще."
   ]
  },
  {
   "cell_type": "code",
   "execution_count": 311,
   "metadata": {},
   "outputs": [],
   "source": [
    "# Нормирование вещественных признаков\n",
    "scaler = MinMaxScaler()\n",
    "data_X[data_no_mis_real.columns.drop('SalePrice')] = pd.DataFrame(\n",
    "    scaler.fit_transform(data_X[data_no_mis_real.drop('SalePrice', axis=1).columns]),\n",
    "    columns=data_no_mis_real.drop('SalePrice', axis=1).columns)"
   ]
  },
  {
   "cell_type": "markdown",
   "metadata": {
    "colab_type": "text",
    "id": "ajW1B_Bdku4j"
   },
   "source": [
    "Перейдем непосредственно к построению моделей. Разобьем выборку на обучение и контроль.\n",
    "\n",
    "*Пожалуйста, **не меняйте** значение `random_state` в следующей ячейке.*"
   ]
  },
  {
   "cell_type": "code",
   "execution_count": 321,
   "metadata": {
    "colab": {},
    "colab_type": "code",
    "id": "khNClZ03ku4j"
   },
   "outputs": [],
   "source": [
    "X_train, X_val, y_train, y_val = train_test_split(data_X, np.log1p(data_y), random_state=17032019)"
   ]
  },
  {
   "cell_type": "code",
   "execution_count": 325,
   "metadata": {
    "colab": {
     "base_uri": "https://localhost:8080/",
     "height": 34
    },
    "colab_type": "code",
    "id": "EfXoYfazku4l",
    "outputId": "1d5a43b6-e296-477e-a0ce-92aeab38df62"
   },
   "outputs": [
    {
     "data": {
      "text/plain": [
       "((1095, 261), (365, 261), (1095,), (365,))"
      ]
     },
     "execution_count": 325,
     "metadata": {},
     "output_type": "execute_result"
    }
   ],
   "source": [
    "X_train.shape, X_val.shape, y_train.shape, y_val.shape"
   ]
  },
  {
   "cell_type": "markdown",
   "metadata": {
    "colab_type": "text",
    "id": "mBuHdMMFku4n"
   },
   "source": [
    "## 7 (2)"
   ]
  },
  {
   "cell_type": "markdown",
   "metadata": {
    "colab_type": "text",
    "id": "-l3o1ohnku4o"
   },
   "source": [
    "Примените к данным следующие алгоритмы:\n",
    "\n",
    "- kNN\n",
    "- линейная регрессия\n",
    "- Lasso\n",
    "- Ridge\n",
    "\n",
    "Для каждого из методов подберите гиперпараметры с помощью кросс-валидации. Обучите алгоритмы с лучшими гиперпараметрами на обучающей выборке и оцените качество по метрике **Root** Mean Squared Error. Какой из методов показывает себя лучше?"
   ]
  },
  {
   "cell_type": "code",
   "execution_count": 326,
   "metadata": {
    "colab": {
     "base_uri": "https://localhost:8080/",
     "height": 390
    },
    "colab_type": "code",
    "id": "k8ti3PLCku4o",
    "outputId": "529dfef7-09e3-4aff-d488-bb465e1b7f80"
   },
   "outputs": [
    {
     "data": {
      "text/plain": [
       "GridSearchCV(cv=5, error_score='raise-deprecating',\n",
       "             estimator=KNeighborsRegressor(algorithm='auto', leaf_size=30,\n",
       "                                           metric='minkowski',\n",
       "                                           metric_params=None, n_jobs=None,\n",
       "                                           n_neighbors=5, p=2,\n",
       "                                           weights='uniform'),\n",
       "             iid='warn', n_jobs=None,\n",
       "             param_grid={'n_neighbors': range(1, 40, 2), 'p': [1, 2, 3],\n",
       "                         'weights': ['distance', 'uniform']},\n",
       "             pre_dispatch='2*n_jobs', refit=True, return_train_score=False,\n",
       "             scoring=None, verbose=0)"
      ]
     },
     "execution_count": 326,
     "metadata": {},
     "output_type": "execute_result"
    }
   ],
   "source": [
    "# your code here\n",
    "# KNN\n",
    "grid_searcher = GridSearchCV(\n",
    "    KNeighborsRegressor(),\n",
    "    param_grid={\n",
    "        'n_neighbors': range(1, 40, 2),\n",
    "        'weights': ['distance', 'uniform'],\n",
    "        'p': [1, 2, 3]\n",
    "    },\n",
    "    cv=5\n",
    ")\n",
    "grid_searcher.fit(X_train, y_train)"
   ]
  },
  {
   "cell_type": "code",
   "execution_count": 327,
   "metadata": {
    "colab": {
     "base_uri": "https://localhost:8080/",
     "height": 34
    },
    "colab_type": "code",
    "id": "tVM2Lqytc2Ed",
    "outputId": "c87dc52b-bb53-400b-d00e-4e65be85dd08"
   },
   "outputs": [
    {
     "name": "stdout",
     "output_type": "stream",
     "text": [
      "{'n_neighbors': 7, 'p': 1, 'weights': 'distance'}\n",
      "0.18864888627792484\n"
     ]
    }
   ],
   "source": [
    "print(grid_searcher.best_params_)\n",
    "print(np.sqrt(mean_squared_error(grid_searcher.predict(X_val), y_val)))"
   ]
  },
  {
   "cell_type": "code",
   "execution_count": 328,
   "metadata": {},
   "outputs": [
    {
     "data": {
      "text/plain": [
       "GridSearchCV(cv=5, error_score='raise-deprecating',\n",
       "             estimator=LinearRegression(copy_X=True, fit_intercept=True,\n",
       "                                        n_jobs=None, normalize=False),\n",
       "             iid='warn', n_jobs=None,\n",
       "             param_grid={'fit_intercept': [True, False],\n",
       "                         'normalize': [False, True]},\n",
       "             pre_dispatch='2*n_jobs', refit=True, return_train_score=False,\n",
       "             scoring=None, verbose=0)"
      ]
     },
     "execution_count": 328,
     "metadata": {},
     "output_type": "execute_result"
    }
   ],
   "source": [
    "# линейная регрессия\n",
    "grid_searcher_LR = GridSearchCV(\n",
    "    LinearRegression(),\n",
    "    param_grid={\n",
    "        'fit_intercept': [True, False],\n",
    "        'normalize': [False, True]\n",
    "    },\n",
    "    cv=5\n",
    ")\n",
    "grid_searcher_LR.fit(X_train, y_train)"
   ]
  },
  {
   "cell_type": "code",
   "execution_count": 329,
   "metadata": {},
   "outputs": [
    {
     "name": "stdout",
     "output_type": "stream",
     "text": [
      "{'fit_intercept': False, 'normalize': False}\n",
      "0.20136382798274022\n"
     ]
    }
   ],
   "source": [
    "print(grid_searcher_LR.best_params_)\n",
    "print(np.sqrt(mean_squared_error(grid_searcher_LR.predict(X_val), y_val)))"
   ]
  },
  {
   "cell_type": "code",
   "execution_count": 338,
   "metadata": {},
   "outputs": [
    {
     "data": {
      "text/plain": [
       "GridSearchCV(cv=5, error_score='raise-deprecating',\n",
       "             estimator=Lasso(alpha=1.0, copy_X=True, fit_intercept=True,\n",
       "                             max_iter=1000, normalize=False, positive=False,\n",
       "                             precompute=False, random_state=None,\n",
       "                             selection='cyclic', tol=0.0001, warm_start=False),\n",
       "             iid='warn', n_jobs=None,\n",
       "             param_grid={'alpha': array([0.001, 0.002, 0.003, 0.004, 0.005, 0.006, 0.007, 0.008, 0.009,\n",
       "       0.01 , 0.011,...\n",
       "       0.955, 0.956, 0.957, 0.958, 0.959, 0.96 , 0.961, 0.962, 0.963,\n",
       "       0.964, 0.965, 0.966, 0.967, 0.968, 0.969, 0.97 , 0.971, 0.972,\n",
       "       0.973, 0.974, 0.975, 0.976, 0.977, 0.978, 0.979, 0.98 , 0.981,\n",
       "       0.982, 0.983, 0.984, 0.985, 0.986, 0.987, 0.988, 0.989, 0.99 ,\n",
       "       0.991, 0.992, 0.993, 0.994, 0.995, 0.996, 0.997, 0.998, 0.999,\n",
       "       1.   ]),\n",
       "                         'fit_intercept': [True]},\n",
       "             pre_dispatch='2*n_jobs', refit=True, return_train_score=False,\n",
       "             scoring=None, verbose=0)"
      ]
     },
     "execution_count": 338,
     "metadata": {},
     "output_type": "execute_result"
    }
   ],
   "source": [
    "# Lasso\n",
    "grid_searcher_Las = GridSearchCV(\n",
    "    Lasso(),\n",
    "    param_grid={\n",
    "        'fit_intercept': [True],\n",
    "        'alpha': np.arange(0.001, 1.001, 0.001),\n",
    "    },\n",
    "    cv=5\n",
    ")\n",
    "grid_searcher_Las.fit(X_train, y_train)"
   ]
  },
  {
   "cell_type": "code",
   "execution_count": 339,
   "metadata": {},
   "outputs": [
    {
     "name": "stdout",
     "output_type": "stream",
     "text": [
      "{'alpha': 0.001, 'fit_intercept': True}\n",
      "0.13330032639306758\n"
     ]
    }
   ],
   "source": [
    "print(grid_searcher_Las.best_params_)\n",
    "print(np.sqrt(mean_squared_error(grid_searcher_Las.predict(X_val), y_val)))"
   ]
  },
  {
   "cell_type": "code",
   "execution_count": 332,
   "metadata": {},
   "outputs": [
    {
     "data": {
      "text/plain": [
       "GridSearchCV(cv=5, error_score='raise-deprecating',\n",
       "             estimator=Ridge(alpha=1.0, copy_X=True, fit_intercept=True,\n",
       "                             max_iter=None, normalize=False, random_state=None,\n",
       "                             solver='auto', tol=0.001),\n",
       "             iid='warn', n_jobs=None,\n",
       "             param_grid={'alpha': array([ 1. ,  1.1,  1.2,  1.3,  1.4,  1.5,  1.6,  1.7,  1.8,  1.9,  2. ,\n",
       "        2.1,  2.2,  2.3,  2.4,  2.5,  2.6,  2.7,  2.8,  2.9,  3. ,  3.1,\n",
       "        3.2,  3.3,  3.4,  3.5,  3.6,  3.7,  3.8,  3.9,  4. ,...\n",
       "       94.5, 94.6, 94.7, 94.8, 94.9, 95. , 95.1, 95.2, 95.3, 95.4, 95.5,\n",
       "       95.6, 95.7, 95.8, 95.9, 96. , 96.1, 96.2, 96.3, 96.4, 96.5, 96.6,\n",
       "       96.7, 96.8, 96.9, 97. , 97.1, 97.2, 97.3, 97.4, 97.5, 97.6, 97.7,\n",
       "       97.8, 97.9, 98. , 98.1, 98.2, 98.3, 98.4, 98.5, 98.6, 98.7, 98.8,\n",
       "       98.9, 99. , 99.1, 99.2, 99.3, 99.4, 99.5, 99.6, 99.7, 99.8, 99.9]),\n",
       "                         'fit_intercept': [True, False]},\n",
       "             pre_dispatch='2*n_jobs', refit=True, return_train_score=False,\n",
       "             scoring=None, verbose=0)"
      ]
     },
     "execution_count": 332,
     "metadata": {},
     "output_type": "execute_result"
    }
   ],
   "source": [
    "# Ridge\n",
    "grid_searcher_Rid = GridSearchCV(\n",
    "    Ridge(),\n",
    "    param_grid={\n",
    "        'fit_intercept': [True, False],\n",
    "        'alpha': np.arange(1, 100, 0.1)\n",
    "    },\n",
    "    cv=5\n",
    ")\n",
    "grid_searcher_Rid.fit(X_train, y_train)"
   ]
  },
  {
   "cell_type": "code",
   "execution_count": 333,
   "metadata": {},
   "outputs": [
    {
     "name": "stdout",
     "output_type": "stream",
     "text": [
      "{'alpha': 4.900000000000004, 'fit_intercept': True}\n",
      "0.1378168708269123\n"
     ]
    }
   ],
   "source": [
    "print(grid_searcher_Rid.best_params_)\n",
    "print(np.sqrt(mean_squared_error(grid_searcher_Rid.predict(X_val), y_val)))"
   ]
  },
  {
   "cell_type": "markdown",
   "metadata": {},
   "source": [
    "Видно, что все модели неплохо справились с поставленной задачей. Наилучший результат по метрике RMSE показывала модель LASSO."
   ]
  },
  {
   "cell_type": "markdown",
   "metadata": {
    "colab_type": "text",
    "id": "r8hgshLLku4r"
   },
   "source": [
    "## 8 (1)"
   ]
  },
  {
   "cell_type": "markdown",
   "metadata": {
    "colab_type": "text",
    "id": "luhODtgoku4r"
   },
   "source": [
    "Постройте гистограммы значений весов для линейной регрессии, Lasso и Ridge. Опишите наблюдения. В чем различия между полученными наборами весов и почему?"
   ]
  },
  {
   "cell_type": "code",
   "execution_count": 334,
   "metadata": {
    "colab": {},
    "colab_type": "code",
    "id": "L_nF4tfLku4s"
   },
   "outputs": [
    {
     "data": {
      "image/png": "[encoded data removed]",
      "text/plain": [
       "<Figure size 1440x432 with 3 Axes>"
      ]
     },
     "metadata": {
      "needs_background": "light"
     },
     "output_type": "display_data"
    }
   ],
   "source": [
    "# your code here\n",
    "fig, ax = plt.subplots(1, 3, figsize = (20, 6))\n",
    "\n",
    "ax[0].bar(x = np.arange(X_val.shape[1]), height = grid_searcher_LR.best_estimator_.coef_, width = 1)\n",
    "ax[0].set_title('Weigths of Linear Regression model')\n",
    "ax[0].set_xlabel('$i$')\n",
    "ax[0].set_ylabel('$w_i$')\n",
    "ax[1].bar(x = np.arange(X_val.shape[1]), height = grid_searcher_Las.best_estimator_.coef_, width = 1)\n",
    "ax[1].set_title('Weigths of Lasso model')\n",
    "ax[1].set_xlabel('$i$')\n",
    "ax[1].set_ylabel('$w_i$')\n",
    "ax[2].bar(x = np.arange(X_val.shape[1]), height = grid_searcher_Rid.best_estimator_.coef_, width = 1)\n",
    "ax[2].set_title('Weigths of Ridge model')\n",
    "ax[2].set_xlabel('$i$')\n",
    "ax[2].set_ylabel('$w_i$')\n",
    "\n",
    "plt.show()"
   ]
  },
  {
   "cell_type": "markdown",
   "metadata": {},
   "source": [
    "Исходя из гистограмм весов, можно сделать вывод, что модель линейной регресии отдельным признакам присвоила чрезвычайно высокие веса (отсутствует регуляризация), тогда как большинство весов близки по значению к нулю.\n",
    "\n",
    "Модели с регуляризацией, лучше справившиеся с задачей, равномернее определили веса. В модели LASSO некоторые веса обнулились (в силу особенностей регуляризации), в то время как в модели Ridge практически все веса вносят некоторый вклад в предсказание."
   ]
  },
  {
   "cell_type": "markdown",
   "metadata": {
    "colab_type": "text",
    "id": "1eckti-7ku4w"
   },
   "source": [
    "## 9 (0.5)"
   ]
  },
  {
   "cell_type": "markdown",
   "metadata": {
    "colab_type": "text",
    "id": "wv0ZHw_sku4w"
   },
   "source": [
    "Добейтесь того, чтобы в заданиях выше ваш лучший алгоритм давал качество не больше 0.125 на тестовых данных по метрике RMSE (если вы дошли до этого задания, а качество выше уже удовлетворяет этому условию, вы автоматически получите за него полный балл)."
   ]
  },
  {
   "cell_type": "markdown",
   "metadata": {
    "colab_type": "text",
    "id": "BlYyqhrGku4x"
   },
   "source": [
    "## 10* (0.5)"
   ]
  },
  {
   "cell_type": "markdown",
   "metadata": {
    "colab_type": "text",
    "id": "elLDEOR9ku4x"
   },
   "source": [
    "Добейтесь того, чтобы в заданиях выше ваш лучший алгоритм давал качество не больше 0.121 на тестовых данных по метрике RMSE. Для этого вы можете использовать самые разные методы, какие захотите - отбор признаков, генерация новых, разные способы предобработки данных. Единственное ограничение - не использовать никакие алгоритмы регрессии, кроме kNN, линейной регрессии, Lasso и Ridge."
   ]
  },
  {
   "cell_type": "code",
   "execution_count": 0,
   "metadata": {
    "colab": {},
    "colab_type": "code",
    "id": "rSyQCPRNku4y"
   },
   "outputs": [],
   "source": [
    "# your code here"
   ]
  },
  {
   "cell_type": "markdown",
   "metadata": {
    "colab_type": "text",
    "id": "087C-K3xku40"
   },
   "source": [
    "# Теория"
   ]
  },
  {
   "cell_type": "markdown",
   "metadata": {
    "colab_type": "text",
    "id": "rdMurbrZku41"
   },
   "source": [
    "За данную часть можно получить бонусные баллы. Решения необходимо оформить в этом же файле в ячейках типа Markdown, пользуясь $\\LaTeX$ для записи математических формул."
   ]
  },
  {
   "cell_type": "markdown",
   "metadata": {
    "colab_type": "text",
    "id": "Nny2HatUku42"
   },
   "source": [
    "## 1* (0.5)"
   ]
  },
  {
   "cell_type": "markdown",
   "metadata": {
    "colab_type": "text",
    "id": "76J7nUvlku42"
   },
   "source": [
    "Найдите константу $C$, решающую следующую задачу ($0 < \\tau < 1$ фиксировано):\n",
    "\n",
    "$$\n",
    "\\sum\\limits_{i=1}^\\ell\\rho_\\tau\\left(y_i - C\\right) \\to \\min_C,\n",
    "$$\n",
    "\n",
    "где\n",
    "\n",
    "$$\n",
    "\\rho_\\tau(z) =\n",
    "\\begin{cases}\n",
    "\\tau z, & z > 0\\\\\n",
    "(\\tau - 1)z, & z \\leq 0\n",
    "\\end{cases}\n",
    "$$"
   ]
  },
  {
   "cell_type": "markdown",
   "metadata": {
    "colab_type": "text",
    "id": "tMYu8Giqku43"
   },
   "source": [
    "# Решение\n",
    "\n",
    "Перепишем условие следующим образом:\n",
    "\n",
    "$$\n",
    "\\sum\\limits_{i=1}^\\ell\n",
    "\\begin{cases}\n",
    "\\tau \\left(y_i - C\\right), & y_i > C\\\\\n",
    "(\\tau - 1)\\left(y_i - C\\right), & y_i \\leq C\n",
    "\\end{cases} \\to \\min_C\n",
    "$$\n",
    "\n",
    "Условия 1-ого порядка:\n",
    "\n",
    "$$\n",
    "\\frac{\\partial\\sum\\limits_{i=1}^\\ell\\rho_\\tau\\left(y_i - C\\right)}{\\partial C} = 0\n",
    "$$\n",
    "\n",
    "$$\n",
    "\\sum\\limits_{i=1}^\\ell\n",
    "\\begin{cases}\n",
    "-\\tau, & y_i > C\\\\\n",
    "1 - \\tau, & y_i \\leq C\n",
    "\\end{cases} = 0\n",
    "$$\n",
    "\n",
    "Видно, что первая производная растет по $C$, значит вторая производная положительна. Следовательно, минимум достигается. Перепишем как:\n",
    "\n",
    "$$\n",
    "\\sum\\limits_{i=1}^\\ell\\left[y_i \\leq C \\right] - \\sum\\limits_{i=1}^\\ell\\tau = 0, \\text{ откуда}\n",
    "$$\n",
    "\n",
    "$$\n",
    "\\frac{\\sum\\limits_{i=1}^\\ell\\left[y_i \\leq C \\right]}{\\ell} = \\tau\n",
    "$$\n",
    "\n",
    "Это равенство показывает, что необходимо выбрать такую $C$, чтобы доля $y_i \\leq C$ была равна $\\tau$. Значит, $C = y_{(\\tau)}$ значение квантиля $\\tau$. \n",
    "\n",
    "При поиске необходимого квантиля, пользуемся правилами мат. статистики и теории вероятностей)"
   ]
  }
 ],
 "metadata": {
  "colab": {
   "collapsed_sections": [
    "GUlD0rIuku3m",
    "5j8Bctczku3x"
   ],
   "name": "Razuvaev_N_HW2.ipynb",
   "provenance": [],
   "toc_visible": true
  },
  "kernelspec": {
   "display_name": "Python 3",
   "language": "python",
   "name": "python3"
  },
  "language_info": {
   "codemirror_mode": {
    "name": "ipython",
    "version": 3
   },
   "file_extension": ".py",
   "mimetype": "text/x-python",
   "name": "python",
   "nbconvert_exporter": "python",
   "pygments_lexer": "ipython3",
   "version": "3.7.5"
  }
 },
 "nbformat": 4,
 "nbformat_minor": 1
}
