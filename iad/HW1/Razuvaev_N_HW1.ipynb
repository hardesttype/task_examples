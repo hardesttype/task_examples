{
 "cells": [
  {
   "cell_type": "markdown",
   "metadata": {
    "colab_type": "text",
    "id": "EwiE1t9iV5Pj"
   },
   "source": [
    "## Введение в анализ данных, ИАД-1\n",
    "\n",
    "## НИУ ВШЭ, 2019-20 учебный год"
   ]
  },
  {
   "cell_type": "markdown",
   "metadata": {
    "colab_type": "text",
    "id": "V6vTzBB-V5Pq"
   },
   "source": [
    "### Домашнее задание №1"
   ]
  },
  {
   "cell_type": "markdown",
   "metadata": {
    "colab_type": "text",
    "id": "sUKv87SoV5Pt"
   },
   "source": [
    "Задание выполнил(а): _Разуваев Никита Сергеевич_"
   ]
  },
  {
   "cell_type": "markdown",
   "metadata": {
    "colab_type": "text",
    "id": "YXfQmZryV5Pv"
   },
   "source": [
    "### Общая информация"
   ]
  },
  {
   "cell_type": "markdown",
   "metadata": {
    "colab_type": "text",
    "id": "dv4Zw9vDV5Pw"
   },
   "source": [
    "__Дата выдачи:__ 11.02.2020\n",
    "\n",
    "__Дедлайн:__ 21.02.2020 23:59"
   ]
  },
  {
   "cell_type": "markdown",
   "metadata": {
    "colab_type": "text",
    "id": "FNeRm2ooV5Py"
   },
   "source": [
    "### О задании"
   ]
  },
  {
   "cell_type": "markdown",
   "metadata": {
    "colab_type": "text",
    "id": "lCP0tQfjV5P0"
   },
   "source": [
    "В этом домашнем задании вы попрактикуетесь в работе с библиотеками numpy, pandas и matplotlib."
   ]
  },
  {
   "cell_type": "markdown",
   "metadata": {
    "colab_type": "text",
    "id": "LHqAf0EeV5P2"
   },
   "source": [
    "### Оценивание и штрафы\n",
    "\n",
    "Каждая задача оценивается в 1 балл, за бонусную часть можно получить 1 балл.\n",
    "\n",
    "Оценка за ДЗ вычисляется по следующей формуле:\n",
    "\n",
    "$$\n",
    "\\left(\\min(9, s_{\\text{numpy}}) + \\min(12, s_{\\text{pandas}}) + \\min(2, s_{\\text{matplotlib}})\\right) \\times 10 / 23,\n",
    "$$\n",
    "\n",
    "где $s_{\\text{numpy}}$ и $s_{\\text{pandas}}$ — количество баллов, которое вы набрали за соответствующую часть. Задач больше, чем необходимо сделать для получения полного балла за ДЗ — вы можете сделать те, которые вам больше нравятся, или сделать все, чтобы дополнительно потренироваться. За каждую задачу сверх обязательных (9 в первой части, 12 во второй и 2 в третьей) дается 0.5 бонусных балла. Таким образом, за это домашнее задание можно получить 2 бонусных балла.\n",
    "\n",
    "За сдачу задания позже срока на итоговую оценку за задание накладывается штраф в размере 1 балл в день, но получить отрицательную оценку нельзя."
   ]
  },
  {
   "cell_type": "markdown",
   "metadata": {
    "colab_type": "text",
    "id": "RAPXaBybV5P6"
   },
   "source": [
    "__Внимание!__ Домашнее задание выполняется самостоятельно. «Похожие» решения считаются плагиатом и все задействованные студенты (в том числе те, у кого списали) не могут получить за него больше 0 баллов."
   ]
  },
  {
   "cell_type": "markdown",
   "metadata": {
    "colab_type": "text",
    "id": "7YqHVsXsV5P7"
   },
   "source": [
    "### Формат сдачи"
   ]
  },
  {
   "cell_type": "markdown",
   "metadata": {
    "colab_type": "text",
    "id": "DnH-kWkVV5P9"
   },
   "source": [
    "Загрузка файлов с решениями происходит в системе [Anytask](https://anytask.org/)."
   ]
  },
  {
   "cell_type": "markdown",
   "metadata": {
    "colab_type": "text",
    "id": "kN7VpVXXV5P_"
   },
   "source": [
    "## Часть 1. Numpy"
   ]
  },
  {
   "cell_type": "code",
   "execution_count": 0,
   "metadata": {
    "colab": {},
    "colab_type": "code",
    "id": "pJVZe5QTV5QA"
   },
   "outputs": [],
   "source": [
    "import numpy as np"
   ]
  },
  {
   "cell_type": "markdown",
   "metadata": {
    "colab_type": "text",
    "id": "OLFs95-2V5QE"
   },
   "source": [
    "Во всех задачах необходимо написать код решения внутри функции и проверить его работу, вызвав функцию для данных из условия.\n",
    "\n",
    "При решении задач запрещается использовать циклы (`for`, `while`) и оператор `if`.\n",
    "\n",
    "Везде, где встречаются массивы или матрицы, подразумевается, что это `numpy.array`. "
   ]
  },
  {
   "cell_type": "markdown",
   "metadata": {
    "colab_type": "text",
    "id": "UWkwaFatV5QF"
   },
   "source": [
    "### 1"
   ]
  },
  {
   "cell_type": "markdown",
   "metadata": {
    "colab_type": "text",
    "id": "o-IAsBMnV5Q8"
   },
   "source": [
    "Напишите функцию, возвращающую округленную взвешенную сумму оценок по данным оценкам и весам. Можете посчитать свою оценку за курс :) В нашем случае вес экзамена равен 0.3, вес домашек - 0.4, вес контрольной - 0.2, вес самостоятельных - 0.1. Например, если за экзамен у вас 7, за домашки 10, за контрольную 8, а за самостоятельные 6, то вы получите отличную оценку 8!"
   ]
  },
  {
   "cell_type": "code",
   "execution_count": 0,
   "metadata": {
    "colab": {},
    "colab_type": "code",
    "id": "RBe9qSuPV5Q9"
   },
   "outputs": [],
   "source": [
    "def result_mark(weights: np.array, marks: np.array) -> int:\n",
    "    # your code here\n",
    "    res = np.sum(weights*marks, axis=0)\n",
    "    rnd = res - int(res) >= 0.5 or 0\n",
    "    return int(res + rnd)"
   ]
  },
  {
   "cell_type": "code",
   "execution_count": 0,
   "metadata": {
    "colab": {},
    "colab_type": "code",
    "id": "m5suut5cV5RC"
   },
   "outputs": [],
   "source": [
    "weights = np.array([0.3, 0.4, 0.2, 0.1])\n",
    "marks = np.array([7, 10, 8, 6])\n",
    "\n",
    "assert result_mark(weights, marks) == 8"
   ]
  },
  {
   "cell_type": "code",
   "execution_count": 0,
   "metadata": {
    "colab": {},
    "colab_type": "code",
    "id": "Ee6r-FJfV5RG"
   },
   "outputs": [],
   "source": [
    "weights = np.array([0.3, 0.4, 0.2, 0.1])\n",
    "marks = np.array([7, 0, 8, 6])\n",
    "\n",
    "assert result_mark(weights, marks) == 4"
   ]
  },
  {
   "cell_type": "markdown",
   "metadata": {
    "colab_type": "text",
    "id": "l9DEcDp_V5RJ"
   },
   "source": [
    "### 2"
   ]
  },
  {
   "cell_type": "markdown",
   "metadata": {
    "colab_type": "text",
    "id": "zh-b2uZ0V5RK"
   },
   "source": [
    "Напишите функцию, меняющую каждое третье (начиная с 0) значение массива целых чисел на заданное число. Например, если на вход поступает массив `array([3, 5, 1, 0, -3, 22, 213436])` и число `-111`, то на выходе должен получиться массив `array([-111, 5, 1, -111, -3, 22, -111])`."
   ]
  },
  {
   "cell_type": "code",
   "execution_count": 0,
   "metadata": {
    "colab": {},
    "colab_type": "code",
    "id": "ZDiQv4h7V5RL"
   },
   "outputs": [],
   "source": [
    "def change_array(array: np.array, number: int) -> np.array:\n",
    "    # your code here\n",
    "    array[::3] = number\n",
    "    return array"
   ]
  },
  {
   "cell_type": "code",
   "execution_count": 0,
   "metadata": {
    "colab": {},
    "colab_type": "code",
    "id": "koOxJJzwV5RN"
   },
   "outputs": [],
   "source": [
    "array = np.array([3, 5, 1, 0, -3, 22, 213436])\n",
    "number = -111\n",
    "\n",
    "assert np.allclose(change_array(array, number), np.array([-111, 5, 1, -111, -3, 22, -111]))"
   ]
  },
  {
   "cell_type": "code",
   "execution_count": 0,
   "metadata": {
    "colab": {},
    "colab_type": "code",
    "id": "m6C4reQCV5RQ"
   },
   "outputs": [],
   "source": [
    "array = np.array([3, 14, 15, 92, 6])\n",
    "number = 8\n",
    "\n",
    "assert np.allclose(change_array(array, number), np.array([8, 14, 15, 8, 6]))"
   ]
  },
  {
   "cell_type": "markdown",
   "metadata": {
    "colab_type": "text",
    "id": "7frowunkV5RU"
   },
   "source": [
    "### 3"
   ]
  },
  {
   "cell_type": "markdown",
   "metadata": {
    "colab_type": "text",
    "id": "464N5hX1V5RU"
   },
   "source": [
    "Напишите функцию, выдающую индексы «близких» элементов заданных массивов, а именно тех пар элементов, чей модуль разницы не превосходит заданного значения. Например, если на вход поступают массив `array([1.5, 0.5, 2, -4.1, -3, 6, -1])`, массив `array([1.2, 0.5, 1, -4, 3, 0, -1.2])` и число `0.5`, то на выходе должен получиться массив `array([0, 1, 3, 6])` (**важно: не `tuple`, а одномерный массив типа `numpy.ndarray` (то есть `.ndim` от него равно 1)!**)."
   ]
  },
  {
   "cell_type": "code",
   "execution_count": 0,
   "metadata": {
    "colab": {},
    "colab_type": "code",
    "id": "c5WKgmw9V5RV"
   },
   "outputs": [],
   "source": [
    "def find_close(array1: np.array, array2: np.array,\n",
    "               precision: float) -> np.array:\n",
    "    # your code here\n",
    "    return np.arange(len(array1))[np.abs(array1 - array2) <= precision]"
   ]
  },
  {
   "cell_type": "code",
   "execution_count": 0,
   "metadata": {
    "colab": {},
    "colab_type": "code",
    "id": "hOlxAIhaV5RX"
   },
   "outputs": [],
   "source": [
    "array1 = np.array([1.5, 0.5, 2, -4.1, -3, 6, -1])\n",
    "array2 = np.array([1.2, 0.5, 1, -4.0,  3, 0, -1.2])\n",
    "precision = 0.5\n",
    "res = find_close(array1, array2, precision)\n",
    "\n",
    "assert res.ndim == 1\n",
    "assert np.allclose(res, np.array([0, 1, 3, 6]))"
   ]
  },
  {
   "cell_type": "code",
   "execution_count": 0,
   "metadata": {
    "colab": {},
    "colab_type": "code",
    "id": "B3jI_tzcV5Ra"
   },
   "outputs": [],
   "source": [
    "array1 = np.array([3.1415, 2.7182, 1.6180, 6.6261])\n",
    "array2 = np.array([6.6730, 1.3807, -1,     6.0222])\n",
    "precision = 1.7\n",
    "res = find_close(array1, array2, precision)\n",
    "\n",
    "assert res.ndim == 1\n",
    "assert np.allclose(res, np.array([1, 3]))"
   ]
  },
  {
   "cell_type": "markdown",
   "metadata": {
    "colab_type": "text",
    "id": "aiVImc2HV5Rd"
   },
   "source": [
    "### 4"
   ]
  },
  {
   "cell_type": "markdown",
   "metadata": {
    "colab_type": "text",
    "id": "DDVw-Y_gV5Rd"
   },
   "source": [
    "Напишите функцию, которая составляет блочную матрицу из четырех блоков, где каждый блок - это заданная матрица. Например, если на вход поступает матрица\n",
    "$$\n",
    "\\begin{pmatrix}\n",
    "0 & 1 & 2\\\\\n",
    "3 & 4 & 5\\\\\n",
    "\\end{pmatrix},\n",
    "$$\n",
    "то ответом будет матрица\n",
    "$$\n",
    "\\begin{pmatrix}\n",
    "0 & 1 & 2 & 0 & 1 & 2\\\\\n",
    "3 & 4 & 5 & 3 & 4 & 5\\\\\n",
    "0 & 1 & 2 & 0 & 1 & 2\\\\\n",
    "3 & 4 & 5 & 3 & 4 & 5\\\\\n",
    "\\end{pmatrix}\n",
    "$$"
   ]
  },
  {
   "cell_type": "code",
   "execution_count": 0,
   "metadata": {
    "colab": {},
    "colab_type": "code",
    "id": "Vdxc6qQ2V5Re"
   },
   "outputs": [],
   "source": [
    "def block_matrix(block: np.array) -> np.array:\n",
    "    # your code here\n",
    "    return np.block([[block, block], \n",
    "                     [block, block]])"
   ]
  },
  {
   "cell_type": "code",
   "execution_count": 0,
   "metadata": {
    "colab": {},
    "colab_type": "code",
    "id": "ahq4FbAeV5Rg"
   },
   "outputs": [],
   "source": [
    "block = np.array([[1, 3, 3], [7, 0, 0]])\n",
    "\n",
    "assert np.allclose(\n",
    "    block_matrix(block),\n",
    "    np.array([[1, 3, 3, 1, 3, 3],\n",
    "              [7, 0, 0, 7, 0, 0],\n",
    "              [1, 3, 3, 1, 3, 3],\n",
    "              [7, 0, 0, 7, 0, 0]])\n",
    ")"
   ]
  },
  {
   "cell_type": "markdown",
   "metadata": {
    "colab_type": "text",
    "id": "UXkrh3JnV5Rj"
   },
   "source": [
    "### 5"
   ]
  },
  {
   "cell_type": "markdown",
   "metadata": {
    "colab_type": "text",
    "id": "Wlm2tTl9V5Rk"
   },
   "source": [
    "Напишите функцию, вычисляющую произведение всех ненулевых диагональных элементов на диагонали данной квадратной матрицы. Например, если на вход поступает матрица\n",
    "$$\n",
    "\\begin{pmatrix}\n",
    "0 & 1 & 2\\\\\n",
    "3 & 4 & 5\\\\\n",
    "6 & 7 & 8\\\\\n",
    "\\end{pmatrix},\n",
    "$$\n",
    "то ответом будет 32.\n",
    "\n",
    "Элементы матрицы считать целочисленными."
   ]
  },
  {
   "cell_type": "code",
   "execution_count": 0,
   "metadata": {
    "colab": {},
    "colab_type": "code",
    "id": "1z4Kut_QV5Rl"
   },
   "outputs": [],
   "source": [
    "def diag_prod(matrix: np.array) -> int:\n",
    "    # your code here\n",
    "    res = np.diag(matrix)\n",
    "    return np.prod(res[res != 0])"
   ]
  },
  {
   "cell_type": "code",
   "execution_count": 0,
   "metadata": {
    "colab": {},
    "colab_type": "code",
    "id": "4nAo5UmZV5Ro"
   },
   "outputs": [],
   "source": [
    "matrix = np.array([[0, 1, 2, 3],\n",
    "                   [4, 5, 6, 7],\n",
    "                   [8, 9, 10, 11],\n",
    "                   [12, 13, 14, 15]])\n",
    "\n",
    "assert diag_prod(matrix) == 750"
   ]
  },
  {
   "cell_type": "markdown",
   "metadata": {
    "colab_type": "text",
    "id": "Snziokc4V5Rq"
   },
   "source": [
    "### 6"
   ]
  },
  {
   "cell_type": "markdown",
   "metadata": {
    "colab_type": "text",
    "id": "d1e7brMUV5Rr"
   },
   "source": [
    "Для улучшения качества работы некоторых алгоритмов машинного обучения может быть полезно использовать [нормализацию данных](https://vk.cc/8xmfQk), чтобы привести признаки в выборке к одному масштабу — а именно, из каждого столбца вычесть среднее его значений и поделить на их стандартное отклонение. Напишите функцию, нормализующую входящую матрицу (по столбцам). Например, если на вход подается матрица \n",
    "$$\n",
    "\\begin{pmatrix}\n",
    "1 & 4 & 4200\\\\\n",
    "0 & 10 & 5000\\\\\n",
    "1 & 2 & 1000\\\\\n",
    "\\end{pmatrix},\n",
    "$$\n",
    "то результатом с точностью до сотых будет матрица\n",
    "$$\n",
    "\\begin{pmatrix}\n",
    "0.71 & -0.39 & 0.46\\\\\n",
    "-1.41 & 1.37 & 0.93\\\\\n",
    "0.71 & -0.98 & -1.39\\\\\n",
    "\\end{pmatrix}\n",
    "$$\n",
    "\n",
    "Учтите, что в вашем матрице не должно получаться никаких nan. Подумайте, в каком случае они могут возникнуть и как обойти эту проблему.\n",
    "\n",
    "_Подсказка. Казалось бы, при чем тут деление на ноль._"
   ]
  },
  {
   "cell_type": "code",
   "execution_count": 0,
   "metadata": {
    "colab": {},
    "colab_type": "code",
    "id": "ii6YCwkXV5Rs"
   },
   "outputs": [],
   "source": [
    "def normalize(matrix: np.array) -> np.array:\n",
    "    # your code here\n",
    "    mean = np.mean(matrix, axis=0)\n",
    "    std = np.std(matrix, axis=0)\n",
    "    std[std == 0] = 1\n",
    "    return (matrix - mean)/std"
   ]
  },
  {
   "cell_type": "code",
   "execution_count": 0,
   "metadata": {
    "colab": {},
    "colab_type": "code",
    "id": "IKQHZ1ODV5Rv"
   },
   "outputs": [],
   "source": [
    "matrix = np.array([[1, 4, 4200], [0, 10, 5000], [1, 2, 1000]])\n",
    "\n",
    "assert np.allclose(\n",
    "    normalize(matrix),\n",
    "    np.array([[ 0.7071, -0.39223,  0.46291],\n",
    "              [-1.4142,  1.37281,  0.92582],\n",
    "              [ 0.7071, -0.98058, -1.38873]])\n",
    ")"
   ]
  },
  {
   "cell_type": "code",
   "execution_count": 0,
   "metadata": {
    "colab": {},
    "colab_type": "code",
    "id": "ygiKvXw9V5Rx"
   },
   "outputs": [],
   "source": [
    "matrix = np.array([[-7, 2, 42], [2, 10, 50], [5, 4, 10]])\n",
    "\n",
    "assert np.allclose(\n",
    "    normalize(matrix),\n",
    "    np.array([[-1.37281, -0.98058,  0.46291],\n",
    "              [ 0.39223,  1.37281,  0.92582],\n",
    "              [ 0.98058, -0.39223, -1.38873]])\n",
    ")"
   ]
  },
  {
   "cell_type": "markdown",
   "metadata": {
    "colab_type": "text",
    "id": "hse6gIbIV5R0"
   },
   "source": [
    "### 7"
   ]
  },
  {
   "cell_type": "markdown",
   "metadata": {
    "colab_type": "text",
    "id": "X8kcoxZDV5R1"
   },
   "source": [
    "Напишите функцию, вычисляющую какую-нибудь первообразную данного полинома (в качестве константы возьмите $0$). Например, если на вход поступает массив коэффициентов `array([4, 6, 0, 1])`, что соответствует полиному $4x^3 + 6x^2 + 1$, на выходе получается массив коэффициентов `array([1, 2, 0, 1, -2])`, соответствующий полиному $x^4 + 2x^3 + x - 2$."
   ]
  },
  {
   "cell_type": "code",
   "execution_count": 0,
   "metadata": {
    "colab": {},
    "colab_type": "code",
    "id": "i4_lV_2fV5R1"
   },
   "outputs": [],
   "source": [
    "def antiderivative(coefs: np.array) -> np.array:\n",
    "    # your code here\n",
    "    deg = 1 / np.arange(len(coefs), 0, -1)\n",
    "    return np.hstack((deg * coefs, 0.0))"
   ]
  },
  {
   "cell_type": "code",
   "execution_count": 0,
   "metadata": {
    "colab": {},
    "colab_type": "code",
    "id": "_7eh8zkKV5R3"
   },
   "outputs": [],
   "source": [
    "coefs = np.array([4, 6, 0, 1])\n",
    "\n",
    "assert np.allclose(\n",
    "    antiderivative(coefs),\n",
    "    np.array([1., 2., 0., 1., 0.])\n",
    ")"
   ]
  },
  {
   "cell_type": "code",
   "execution_count": 0,
   "metadata": {
    "colab": {},
    "colab_type": "code",
    "id": "tvsTvGSSV5R5"
   },
   "outputs": [],
   "source": [
    "coefs = np.array([1, 7, -12, 21, -6])\n",
    "\n",
    "assert np.allclose(\n",
    "    antiderivative(coefs),\n",
    "    np.array([ 0.2, 1.75, -4., 10.5, -6., 0.])\n",
    ")"
   ]
  },
  {
   "cell_type": "markdown",
   "metadata": {
    "colab_type": "text",
    "id": "nQ_6dxViV5R9"
   },
   "source": [
    "### 8"
   ]
  },
  {
   "cell_type": "markdown",
   "metadata": {
    "colab_type": "text",
    "id": "KVPgmsAdV5R-"
   },
   "source": [
    "Напишите функцию, делающую данную [треугольную матрицу](https://ru.wikipedia.org/wiki/%D0%A2%D1%80%D0%B5%D1%83%D0%B3%D0%BE%D0%BB%D1%8C%D0%BD%D0%B0%D1%8F_%D0%BC%D0%B0%D1%82%D1%80%D0%B8%D1%86%D0%B0) симметричной. Например, если на вход поступает матрица\n",
    "$$\n",
    "\\begin{pmatrix}\n",
    "1 & 2 & 3 & 4\\\\\n",
    "0 & 5 & 6 & 7\\\\\n",
    "0 & 0 & 8 & 9\\\\\n",
    "0 & 0 & 0 & 10\\\\\n",
    "\\end{pmatrix},\n",
    "$$\n",
    "то на выходе должна быть матрица\n",
    "$$\n",
    "\\begin{pmatrix}\n",
    "1 & 2 & 3 & 4\\\\\n",
    "2 & 5 & 6 & 7\\\\\n",
    "3 & 6 & 8 & 9\\\\\n",
    "4 & 7 & 9 & 10\\\\\n",
    "\\end{pmatrix}.\n",
    "$$"
   ]
  },
  {
   "cell_type": "code",
   "execution_count": 0,
   "metadata": {
    "colab": {},
    "colab_type": "code",
    "id": "9wW1NXCGV5SA"
   },
   "outputs": [],
   "source": [
    "def make_symmetric(matrix: np.array) -> np.array:\n",
    "    # your code here\n",
    "    return matrix + matrix.T - np.diag(np.diag(matrix))"
   ]
  },
  {
   "cell_type": "code",
   "execution_count": 0,
   "metadata": {
    "colab": {},
    "colab_type": "code",
    "id": "LuT_IO5iV5SC"
   },
   "outputs": [],
   "source": [
    "matrix = np.array([[1, 2, 3, 4], [0, 5, 6, 7], [0, 0, 8, 9], [0, 0, 0, 10]])\n",
    "\n",
    "assert np.allclose(\n",
    "    make_symmetric(matrix),\n",
    "    np.array([[ 1,  2,  3,  4],\n",
    "              [ 2,  5,  6,  7],\n",
    "              [ 3,  6,  8,  9],\n",
    "              [ 4,  7,  9, 10]])\n",
    ")"
   ]
  },
  {
   "cell_type": "code",
   "execution_count": 0,
   "metadata": {
    "colab": {},
    "colab_type": "code",
    "id": "-AfjG7M_V5SE"
   },
   "outputs": [],
   "source": [
    "matrix = np.array([[10, 21, 32, 49], [0, 53, 62, 78], [0, 0, 82, 92], [0, 0, 0, 10]])\n",
    "\n",
    "assert np.allclose(\n",
    "    make_symmetric(matrix),\n",
    "    np.array([[10, 21, 32, 49],\n",
    "              [21, 53, 62, 78],\n",
    "              [32, 62, 82, 92],\n",
    "              [49, 78, 92, 10]])\n",
    ")"
   ]
  },
  {
   "cell_type": "markdown",
   "metadata": {
    "colab_type": "text",
    "id": "9oOYi7iaV5SH"
   },
   "source": [
    "### 9"
   ]
  },
  {
   "cell_type": "markdown",
   "metadata": {
    "colab_type": "text",
    "id": "pRNZ1nNmV5SH"
   },
   "source": [
    "Напишите функцию, создающую прямоугольную матрицу из m одинаковых строк, заполненных последовательными натуральными числами от a до b включительно в возрастающем порядке. Например, если m = 5, a = 3, b = 10, то на выходе будет матрица\n",
    "$$\n",
    "\\begin{pmatrix}\n",
    "3 & 4 & 5 & 6 & 7 & 8 & 9 & 10\\\\\n",
    "3 & 4 & 5 & 6 & 7 & 8 & 9 & 10\\\\\n",
    "3 & 4 & 5 & 6 & 7 & 8 & 9 & 10\\\\\n",
    "3 & 4 & 5 & 6 & 7 & 8 & 9 & 10\\\\\n",
    "3 & 4 & 5 & 6 & 7 & 8 & 9 & 10\\\\\n",
    "\\end{pmatrix}\n",
    "$$"
   ]
  },
  {
   "cell_type": "code",
   "execution_count": 0,
   "metadata": {
    "colab": {},
    "colab_type": "code",
    "id": "FyGg4GYtV5SI"
   },
   "outputs": [],
   "source": [
    "def construct_matrix(m: int, a: int, b: int) -> np.array:\n",
    "    # your code here\n",
    "    res = np.zeros((m, b - a + 1), dtype='int8')\n",
    "    mat = np.arange(a, b + 1)\n",
    "    return res + mat"
   ]
  },
  {
   "cell_type": "code",
   "execution_count": 0,
   "metadata": {
    "colab": {},
    "colab_type": "code",
    "id": "NrxIrvZeV5SK"
   },
   "outputs": [],
   "source": [
    "m = 5\n",
    "a = 3\n",
    "b = 10\n",
    "\n",
    "assert np.allclose(\n",
    "    construct_matrix(m, a, b),\n",
    "    np.array([[ 3,  4,  5,  6,  7,  8,  9, 10],\n",
    "              [ 3,  4,  5,  6,  7,  8,  9, 10],\n",
    "              [ 3,  4,  5,  6,  7,  8,  9, 10],\n",
    "              [ 3,  4,  5,  6,  7,  8,  9, 10],\n",
    "              [ 3,  4,  5,  6,  7,  8,  9, 10]])\n",
    ")"
   ]
  },
  {
   "cell_type": "code",
   "execution_count": 0,
   "metadata": {
    "colab": {},
    "colab_type": "code",
    "id": "tN6HyXPFV5SN"
   },
   "outputs": [],
   "source": [
    "m = 3\n",
    "a = 2\n",
    "b = 6\n",
    "\n",
    "assert np.allclose(\n",
    "    construct_matrix(m, a, b),\n",
    "    np.array([[2, 3, 4, 5, 6],\n",
    "              [2, 3, 4, 5, 6],\n",
    "              [2, 3, 4, 5, 6]])\n",
    ")"
   ]
  },
  {
   "cell_type": "markdown",
   "metadata": {
    "colab_type": "text",
    "id": "MaGwhaCEV5SP"
   },
   "source": [
    "### 10"
   ]
  },
  {
   "cell_type": "markdown",
   "metadata": {
    "colab_type": "text",
    "id": "gVbfYrlAV5SP"
   },
   "source": [
    "Напишите функцию, вычисляющую [косинусную близость](https://en.wikipedia.org/wiki/Cosine_similarity) двух векторов. Например, если на вход поступают вектора `array([-2, 1, 0, -5, 4, 3, -3])` и `array([0, 2, -2, 10, 6, 0, 0])`, ответом будет -0.25."
   ]
  },
  {
   "cell_type": "code",
   "execution_count": 0,
   "metadata": {
    "colab": {},
    "colab_type": "code",
    "id": "X1mCM_IaV5SQ"
   },
   "outputs": [],
   "source": [
    "def cosine_similarity(vec1: np.array, vec2: np.array) -> float:\n",
    "    # your code here\n",
    "    return (vec1.dot(vec2)) / (np.linalg.norm(vec1)*np.linalg.norm(vec2))"
   ]
  },
  {
   "cell_type": "code",
   "execution_count": 0,
   "metadata": {
    "colab": {},
    "colab_type": "code",
    "id": "_AaiplSdV5ST"
   },
   "outputs": [],
   "source": [
    "vec1 = np.array([-2, 1,  0, -5, 4, 3, -3])\n",
    "vec2 = np.array([ 0, 2, -2, 10, 6, 0,  0])\n",
    "\n",
    "assert np.allclose(cosine_similarity(vec1, vec2), -0.25)"
   ]
  },
  {
   "cell_type": "code",
   "execution_count": 0,
   "metadata": {
    "colab": {},
    "colab_type": "code",
    "id": "ne10gsBXV5SV"
   },
   "outputs": [],
   "source": [
    "vec1 = np.array([-4, 2,  9, -8, 9, 0, -2])\n",
    "vec2 = np.array([ 3, 2, -4, -1, 3, 2,  2])\n",
    "\n",
    "assert np.allclose(cosine_similarity(vec1, vec2), -0.119929)"
   ]
  },
  {
   "cell_type": "markdown",
   "metadata": {
    "colab_type": "text",
    "id": "JccQH9dMV5SX"
   },
   "source": [
    "## Часть 2. Pandas и Matplotlib"
   ]
  },
  {
   "cell_type": "code",
   "execution_count": 0,
   "metadata": {
    "colab": {},
    "colab_type": "code",
    "id": "K4Wbt9GiV5SX"
   },
   "outputs": [],
   "source": [
    "import matplotlib.pyplot as plt\n",
    "import pandas as pd\n",
    "\n",
    "%matplotlib inline"
   ]
  },
  {
   "cell_type": "markdown",
   "metadata": {
    "colab_type": "text",
    "id": "HJK3X1_jV5SZ"
   },
   "source": [
    "В этой части домашнего задания вы поработаете с данными о пассажирах с затонувшего «Титаника». Описание данных:\n",
    "\n",
    "https://www.kaggle.com/c/titanic/data\n",
    "\n",
    "Каждый построенный график необходимо красиво оформить - для этого требуется как минимум указать его название, а также отметить, что изображено по каждой из осей.\n",
    "\n",
    "*Функции, которые могут пригодиться при оформлении графиков: `.show()`, `.title()`, `.xlabel()`, `.ylabel()`*"
   ]
  },
  {
   "cell_type": "markdown",
   "metadata": {
    "colab_type": "text",
    "id": "s_-bWAfyV5Sb"
   },
   "source": [
    "### 11"
   ]
  },
  {
   "cell_type": "markdown",
   "metadata": {
    "colab_type": "text",
    "id": "tPFDR8fjV5Sb"
   },
   "source": [
    "Откройте в ноутбуке файл с данными (\"train.csv\"). Какой размер имеет таблица? Выведите первые 5 и последние 5 строк."
   ]
  },
  {
   "cell_type": "code",
   "execution_count": 0,
   "metadata": {
    "colab": {
     "base_uri": "https://localhost:8080/",
     "height": 242
    },
    "colab_type": "code",
    "executionInfo": {
     "elapsed": 2140,
     "status": "ok",
     "timestamp": 1581980767775,
     "user": {
      "displayName": "Никита Разуваев",
      "photoUrl": "https://lh4.googleusercontent.com/-DVoMqo-tV28/AAAAAAAAAAI/AAAAAAAAAsk/Idd15znrGXo/s64/photo.jpg",
      "userId": "09666267334096540847"
     },
     "user_tz": -180
    },
    "id": "bezbC38RV5Sd",
    "outputId": "ec7a3983-93b0-4c50-e92a-176c7c443123"
   },
   "outputs": [
    {
     "name": "stdout",
     "output_type": "stream",
     "text": [
      "Первые 5 строк:\n"
     ]
    },
    {
     "data": {
      "text/html": [
       "<div>\n",
       "<style scoped>\n",
       "    .dataframe tbody tr th:only-of-type {\n",
       "        vertical-align: middle;\n",
       "    }\n",
       "\n",
       "    .dataframe tbody tr th {\n",
       "        vertical-align: top;\n",
       "    }\n",
       "\n",
       "    .dataframe thead th {\n",
       "        text-align: right;\n",
       "    }\n",
       "</style>\n",
       "<table border=\"1\" class=\"dataframe\">\n",
       "  <thead>\n",
       "    <tr style=\"text-align: right;\">\n",
       "      <th></th>\n",
       "      <th>Survived</th>\n",
       "      <th>Pclass</th>\n",
       "      <th>Name</th>\n",
       "      <th>Sex</th>\n",
       "      <th>Age</th>\n",
       "      <th>SibSp</th>\n",
       "      <th>Parch</th>\n",
       "      <th>Ticket</th>\n",
       "      <th>Fare</th>\n",
       "      <th>Cabin</th>\n",
       "      <th>Embarked</th>\n",
       "    </tr>\n",
       "    <tr>\n",
       "      <th>PassengerId</th>\n",
       "      <th></th>\n",
       "      <th></th>\n",
       "      <th></th>\n",
       "      <th></th>\n",
       "      <th></th>\n",
       "      <th></th>\n",
       "      <th></th>\n",
       "      <th></th>\n",
       "      <th></th>\n",
       "      <th></th>\n",
       "      <th></th>\n",
       "    </tr>\n",
       "  </thead>\n",
       "  <tbody>\n",
       "    <tr>\n",
       "      <th>1</th>\n",
       "      <td>0</td>\n",
       "      <td>3</td>\n",
       "      <td>Braund, Mr. Owen Harris</td>\n",
       "      <td>male</td>\n",
       "      <td>22.0</td>\n",
       "      <td>1</td>\n",
       "      <td>0</td>\n",
       "      <td>A/5 21171</td>\n",
       "      <td>7.2500</td>\n",
       "      <td>NaN</td>\n",
       "      <td>S</td>\n",
       "    </tr>\n",
       "    <tr>\n",
       "      <th>2</th>\n",
       "      <td>1</td>\n",
       "      <td>1</td>\n",
       "      <td>Cumings, Mrs. John Bradley (Florence Briggs Th...</td>\n",
       "      <td>female</td>\n",
       "      <td>38.0</td>\n",
       "      <td>1</td>\n",
       "      <td>0</td>\n",
       "      <td>PC 17599</td>\n",
       "      <td>71.2833</td>\n",
       "      <td>C85</td>\n",
       "      <td>C</td>\n",
       "    </tr>\n",
       "    <tr>\n",
       "      <th>3</th>\n",
       "      <td>1</td>\n",
       "      <td>3</td>\n",
       "      <td>Heikkinen, Miss. Laina</td>\n",
       "      <td>female</td>\n",
       "      <td>26.0</td>\n",
       "      <td>0</td>\n",
       "      <td>0</td>\n",
       "      <td>STON/O2. 3101282</td>\n",
       "      <td>7.9250</td>\n",
       "      <td>NaN</td>\n",
       "      <td>S</td>\n",
       "    </tr>\n",
       "    <tr>\n",
       "      <th>4</th>\n",
       "      <td>1</td>\n",
       "      <td>1</td>\n",
       "      <td>Futrelle, Mrs. Jacques Heath (Lily May Peel)</td>\n",
       "      <td>female</td>\n",
       "      <td>35.0</td>\n",
       "      <td>1</td>\n",
       "      <td>0</td>\n",
       "      <td>113803</td>\n",
       "      <td>53.1000</td>\n",
       "      <td>C123</td>\n",
       "      <td>S</td>\n",
       "    </tr>\n",
       "    <tr>\n",
       "      <th>5</th>\n",
       "      <td>0</td>\n",
       "      <td>3</td>\n",
       "      <td>Allen, Mr. William Henry</td>\n",
       "      <td>male</td>\n",
       "      <td>35.0</td>\n",
       "      <td>0</td>\n",
       "      <td>0</td>\n",
       "      <td>373450</td>\n",
       "      <td>8.0500</td>\n",
       "      <td>NaN</td>\n",
       "      <td>S</td>\n",
       "    </tr>\n",
       "  </tbody>\n",
       "</table>\n",
       "</div>"
      ],
      "text/plain": [
       "             Survived  Pclass  ... Cabin Embarked\n",
       "PassengerId                    ...               \n",
       "1                   0       3  ...   NaN        S\n",
       "2                   1       1  ...   C85        C\n",
       "3                   1       3  ...   NaN        S\n",
       "4                   1       1  ...  C123        S\n",
       "5                   0       3  ...   NaN        S\n",
       "\n",
       "[5 rows x 11 columns]"
      ]
     },
     "execution_count": 133,
     "metadata": {
      "tags": []
     },
     "output_type": "execute_result"
    }
   ],
   "source": [
    "# your code here\n",
    "\n",
    "data = pd.read_csv('train.csv', encoding='utf-8', index_col=0)\n",
    "\n",
    "print('Первые 5 строк:')\n",
    "data.head()"
   ]
  },
  {
   "cell_type": "code",
   "execution_count": 0,
   "metadata": {
    "colab": {
     "base_uri": "https://localhost:8080/",
     "height": 242
    },
    "colab_type": "code",
    "executionInfo": {
     "elapsed": 648,
     "status": "ok",
     "timestamp": 1581980519099,
     "user": {
      "displayName": "Никита Разуваев",
      "photoUrl": "https://lh4.googleusercontent.com/-DVoMqo-tV28/AAAAAAAAAAI/AAAAAAAAAsk/Idd15znrGXo/s64/photo.jpg",
      "userId": "09666267334096540847"
     },
     "user_tz": -180
    },
    "id": "gV_BaYx9ZnWS",
    "outputId": "4599005f-fe1e-49f6-81ea-16f492d4ed24"
   },
   "outputs": [
    {
     "name": "stdout",
     "output_type": "stream",
     "text": [
      "Последние 5 строк:\n"
     ]
    },
    {
     "data": {
      "text/html": [
       "<div>\n",
       "<style scoped>\n",
       "    .dataframe tbody tr th:only-of-type {\n",
       "        vertical-align: middle;\n",
       "    }\n",
       "\n",
       "    .dataframe tbody tr th {\n",
       "        vertical-align: top;\n",
       "    }\n",
       "\n",
       "    .dataframe thead th {\n",
       "        text-align: right;\n",
       "    }\n",
       "</style>\n",
       "<table border=\"1\" class=\"dataframe\">\n",
       "  <thead>\n",
       "    <tr style=\"text-align: right;\">\n",
       "      <th></th>\n",
       "      <th>Survived</th>\n",
       "      <th>Pclass</th>\n",
       "      <th>Name</th>\n",
       "      <th>Sex</th>\n",
       "      <th>Age</th>\n",
       "      <th>SibSp</th>\n",
       "      <th>Parch</th>\n",
       "      <th>Ticket</th>\n",
       "      <th>Fare</th>\n",
       "      <th>Cabin</th>\n",
       "      <th>Embarked</th>\n",
       "    </tr>\n",
       "    <tr>\n",
       "      <th>PassengerId</th>\n",
       "      <th></th>\n",
       "      <th></th>\n",
       "      <th></th>\n",
       "      <th></th>\n",
       "      <th></th>\n",
       "      <th></th>\n",
       "      <th></th>\n",
       "      <th></th>\n",
       "      <th></th>\n",
       "      <th></th>\n",
       "      <th></th>\n",
       "    </tr>\n",
       "  </thead>\n",
       "  <tbody>\n",
       "    <tr>\n",
       "      <th>887</th>\n",
       "      <td>0</td>\n",
       "      <td>2</td>\n",
       "      <td>Montvila, Rev. Juozas</td>\n",
       "      <td>male</td>\n",
       "      <td>27.0</td>\n",
       "      <td>0</td>\n",
       "      <td>0</td>\n",
       "      <td>211536</td>\n",
       "      <td>13.00</td>\n",
       "      <td>NaN</td>\n",
       "      <td>S</td>\n",
       "    </tr>\n",
       "    <tr>\n",
       "      <th>888</th>\n",
       "      <td>1</td>\n",
       "      <td>1</td>\n",
       "      <td>Graham, Miss. Margaret Edith</td>\n",
       "      <td>female</td>\n",
       "      <td>19.0</td>\n",
       "      <td>0</td>\n",
       "      <td>0</td>\n",
       "      <td>112053</td>\n",
       "      <td>30.00</td>\n",
       "      <td>B42</td>\n",
       "      <td>S</td>\n",
       "    </tr>\n",
       "    <tr>\n",
       "      <th>889</th>\n",
       "      <td>0</td>\n",
       "      <td>3</td>\n",
       "      <td>Johnston, Miss. Catherine Helen \"Carrie\"</td>\n",
       "      <td>female</td>\n",
       "      <td>NaN</td>\n",
       "      <td>1</td>\n",
       "      <td>2</td>\n",
       "      <td>W./C. 6607</td>\n",
       "      <td>23.45</td>\n",
       "      <td>NaN</td>\n",
       "      <td>S</td>\n",
       "    </tr>\n",
       "    <tr>\n",
       "      <th>890</th>\n",
       "      <td>1</td>\n",
       "      <td>1</td>\n",
       "      <td>Behr, Mr. Karl Howell</td>\n",
       "      <td>male</td>\n",
       "      <td>26.0</td>\n",
       "      <td>0</td>\n",
       "      <td>0</td>\n",
       "      <td>111369</td>\n",
       "      <td>30.00</td>\n",
       "      <td>C148</td>\n",
       "      <td>C</td>\n",
       "    </tr>\n",
       "    <tr>\n",
       "      <th>891</th>\n",
       "      <td>0</td>\n",
       "      <td>3</td>\n",
       "      <td>Dooley, Mr. Patrick</td>\n",
       "      <td>male</td>\n",
       "      <td>32.0</td>\n",
       "      <td>0</td>\n",
       "      <td>0</td>\n",
       "      <td>370376</td>\n",
       "      <td>7.75</td>\n",
       "      <td>NaN</td>\n",
       "      <td>Q</td>\n",
       "    </tr>\n",
       "  </tbody>\n",
       "</table>\n",
       "</div>"
      ],
      "text/plain": [
       "             Survived  Pclass  ... Cabin Embarked\n",
       "PassengerId                    ...               \n",
       "887                 0       2  ...   NaN        S\n",
       "888                 1       1  ...   B42        S\n",
       "889                 0       3  ...   NaN        S\n",
       "890                 1       1  ...  C148        C\n",
       "891                 0       3  ...   NaN        Q\n",
       "\n",
       "[5 rows x 11 columns]"
      ]
     },
     "execution_count": 121,
     "metadata": {
      "tags": []
     },
     "output_type": "execute_result"
    }
   ],
   "source": [
    "print('Последние 5 строк:')\n",
    "data.tail()"
   ]
  },
  {
   "cell_type": "code",
   "execution_count": 0,
   "metadata": {
    "colab": {
     "base_uri": "https://localhost:8080/",
     "height": 34
    },
    "colab_type": "code",
    "executionInfo": {
     "elapsed": 632,
     "status": "ok",
     "timestamp": 1581980532124,
     "user": {
      "displayName": "Никита Разуваев",
      "photoUrl": "https://lh4.googleusercontent.com/-DVoMqo-tV28/AAAAAAAAAAI/AAAAAAAAAsk/Idd15znrGXo/s64/photo.jpg",
      "userId": "09666267334096540847"
     },
     "user_tz": -180
    },
    "id": "VXJzY5pSZno_",
    "outputId": "1f3cc929-3900-4d3b-c68d-d0b1ac0994a0"
   },
   "outputs": [
    {
     "name": "stdout",
     "output_type": "stream",
     "text": [
      "Таблица имеет 891 строку и 11 столбцов\n"
     ]
    }
   ],
   "source": [
    "print('Таблица имеет %d строку и %d столбцов' % data.shape)"
   ]
  },
  {
   "cell_type": "markdown",
   "metadata": {
    "colab_type": "text",
    "id": "HqG_UohgV5Si"
   },
   "source": [
    "### 12"
   ]
  },
  {
   "cell_type": "markdown",
   "metadata": {
    "colab_type": "text",
    "id": "ykYRUVy3V5Si"
   },
   "source": [
    "Для каждого из признаков укажите его тип (вещественный, категориальный, порядковый, другое). Придумайте три задачи, которые можно было бы решать для данного датасета — задачу регрессии, задачу классификации и задачу кластеризации."
   ]
  },
  {
   "cell_type": "code",
   "execution_count": 0,
   "metadata": {
    "colab": {
     "base_uri": "https://localhost:8080/",
     "height": 286
    },
    "colab_type": "code",
    "executionInfo": {
     "elapsed": 653,
     "status": "ok",
     "timestamp": 1581980540013,
     "user": {
      "displayName": "Никита Разуваев",
      "photoUrl": "https://lh4.googleusercontent.com/-DVoMqo-tV28/AAAAAAAAAAI/AAAAAAAAAsk/Idd15znrGXo/s64/photo.jpg",
      "userId": "09666267334096540847"
     },
     "user_tz": -180
    },
    "id": "LsrmShEPWEpT",
    "outputId": "b004a0b2-73df-4137-f9c8-11de00f154f5"
   },
   "outputs": [
    {
     "name": "stdout",
     "output_type": "stream",
     "text": [
      "<class 'pandas.core.frame.DataFrame'>\n",
      "Int64Index: 891 entries, 1 to 891\n",
      "Data columns (total 11 columns):\n",
      "Survived    891 non-null int64\n",
      "Pclass      891 non-null int64\n",
      "Name        891 non-null object\n",
      "Sex         891 non-null object\n",
      "Age         714 non-null float64\n",
      "SibSp       891 non-null int64\n",
      "Parch       891 non-null int64\n",
      "Ticket      891 non-null object\n",
      "Fare        891 non-null float64\n",
      "Cabin       204 non-null object\n",
      "Embarked    889 non-null object\n",
      "dtypes: float64(2), int64(4), object(5)\n",
      "memory usage: 83.5+ KB\n"
     ]
    }
   ],
   "source": [
    "data.info()"
   ]
  },
  {
   "cell_type": "markdown",
   "metadata": {
    "colab_type": "text",
    "id": "cc6BsMQNV5Sj"
   },
   "source": [
    "Типы признаков:  \n",
    "\n",
    "1.  PassengerId    891 non-null int64 &mdash; **порядковый** номер пассажира\n",
    "2.  Survived       891 non-null int64 &mdash; **категориальный** признак: пассажир выжил (1) или нет (0)\n",
    "3.  Pclass         891 non-null int64 &mdash; **категориальный** признак, обозначает принадлежность билета к 3-му, 2-ому или 1-ому классу. Также можно интерпретировать как ординальный признак, считая, что 3-й класс < 2-ого класса < 1-ого класса\n",
    "4.  Name           891 non-null object &mdash; **категориальный** признак: имя человека. Также некоторые имена указывают на супружество или тутул/социальный статус (Mrs. &mdash; женщина замужем, Miss &mdash; не замужем, Capt &mdash; капитан и т.д.)\n",
    "5.  Sex            891 non-null object &mdash; **категориальный** признак: пол (male &mdash; мужской, female &mdash; женский)\n",
    "6.  Age            714 non-null float64 &mdash; возраст: **вещественное** число. У 177 наблюдений эта характеристика не указана (NaN).\n",
    "7.  SibSp          891 non-null int64 &mdash; **натуральное число (и 0)**: количество братьев и сестер или супругов на борту Титаника\n",
    "8.  Parch          891 non-null int64 &mdash; **натуральное число (и 0)**: количество родителей или детей на борту Титаника. Равно 0 для детей, путешествовавших с только нянями.\n",
    "9.  Ticket         891 non-null object &mdash; **категориальный** признак: номер билета\n",
    "10. Fare           891 non-null float64 &mdash; **вещественное** число: стоимость билета\n",
    "11. Cabin          204 non-null object &mdash; **категориальный** признак: номер каюты\n",
    "12. Embarked       889 non-null object &mdash; **категориальный** признак: порт отправления пассажира &mdash; C = Шербур, Q = Куинстаун, S = Саутгемптон\n",
    "\n",
    "Задачи:\n",
    "\n",
    "1. **Задача регрессии**: по возрасту, классу, месту посадки на корабль оценить стоимость билета. \n",
    "\n",
    "2. **Задача классификации**: по данным признакам определить каким классом путешествовал пассажир.\n",
    "\n",
    "3. **Задача кластеризации**: определить типичные \"портреты\" спасшихся людей.\n",
    "\n"
   ]
  },
  {
   "cell_type": "markdown",
   "metadata": {
    "colab_type": "text",
    "id": "GU6g2BPjV5Sj"
   },
   "source": [
    "### 13"
   ]
  },
  {
   "cell_type": "markdown",
   "metadata": {
    "colab_type": "text",
    "id": "WHMBa_PcV5Sl"
   },
   "source": [
    "Какова доля выживших после крушения пассажиров? Какова доля мужчин и женщин среди выживших?"
   ]
  },
  {
   "cell_type": "code",
   "execution_count": 0,
   "metadata": {
    "colab": {
     "base_uri": "https://localhost:8080/",
     "height": 67
    },
    "colab_type": "code",
    "executionInfo": {
     "elapsed": 695,
     "status": "ok",
     "timestamp": 1581980565977,
     "user": {
      "displayName": "Никита Разуваев",
      "photoUrl": "https://lh4.googleusercontent.com/-DVoMqo-tV28/AAAAAAAAAAI/AAAAAAAAAsk/Idd15znrGXo/s64/photo.jpg",
      "userId": "09666267334096540847"
     },
     "user_tz": -180
    },
    "id": "t-GSwOIJV5Sm",
    "outputId": "a05e9d35-f89f-49bc-ed74-7fe0bcb03dd1"
   },
   "outputs": [
    {
     "name": "stdout",
     "output_type": "stream",
     "text": [
      "Доля выживших пассажиров равна 38.4%\n",
      "----------------------------------------\n",
      "Доля мужчин среди выживших пассажиров равна 31.9%, женщин — 68.1%\n"
     ]
    }
   ],
   "source": [
    "# your code here\n",
    "notsurv, surv = data['Survived'].value_counts()\n",
    "print('Доля выживших пассажиров равна %.1f%%' % (100 * surv / (surv + notsurv)))\n",
    "\n",
    "print('-'*40)\n",
    "\n",
    "notsurvmen, survmen = data[data['Sex'] == 'male']['Survived'].value_counts()\n",
    "survwomen, notsurvwomen = data[data['Sex'] == 'female']['Survived'].value_counts()\n",
    "print('Доля мужчин среди выживших пассажиров равна %.1f%%, женщин — %.1f%%' %\n",
    "      (100 * survmen / (survmen + survwomen),\n",
    "       100 * survwomen / (survmen + survwomen))\n",
    "      )"
   ]
  },
  {
   "cell_type": "code",
   "execution_count": 0,
   "metadata": {
    "colab": {
     "base_uri": "https://localhost:8080/",
     "height": 264
    },
    "colab_type": "code",
    "executionInfo": {
     "elapsed": 2016,
     "status": "ok",
     "timestamp": 1581980569875,
     "user": {
      "displayName": "Никита Разуваев",
      "photoUrl": "https://lh4.googleusercontent.com/-DVoMqo-tV28/AAAAAAAAAAI/AAAAAAAAAsk/Idd15znrGXo/s64/photo.jpg",
      "userId": "09666267334096540847"
     },
     "user_tz": -180
    },
    "id": "S2ZUk-kU119n",
    "outputId": "d0f0e685-6be2-4860-c7c1-c5d54e3ad253"
   },
   "outputs": [
    {
     "data": {
      "image/png": "[encoded data removed]",
      "text/plain": [
       "<Figure size 864x288 with 2 Axes>"
      ]
     },
     "metadata": {
      "tags": []
     },
     "output_type": "display_data"
    }
   ],
   "source": [
    "fig, axs = plt.subplots(1, 2, figsize=(12, 4))\n",
    "colors = ['green', 'red']\n",
    "\n",
    "labels = 'Доля выживших', 'Доля погибших'\n",
    "fracs = [data['Survived'].mean(), 1 - data['Survived'].mean()]\n",
    "axs[0].pie(fracs, labels=labels, autopct='%1.1f%%', shadow=True, colors=colors)\n",
    "axs[0].set_title('Выжившие/погибшие')\n",
    "\n",
    "labels = 'Мужчины', 'Женщины'\n",
    "fracs = [survmen / (survmen + survwomen), \n",
    "         survwomen / (survmen + survwomen)]\n",
    "axs[1].pie(fracs, labels=labels, autopct='%.1f%%', shadow=True)\n",
    "axs[1].set_title('Половая структура выживших')\n",
    "\n",
    "fig.show()"
   ]
  },
  {
   "cell_type": "markdown",
   "metadata": {
    "colab_type": "text",
    "id": "gZ7GdtqzV5So"
   },
   "source": [
    "### 14"
   ]
  },
  {
   "cell_type": "markdown",
   "metadata": {
    "colab_type": "text",
    "id": "atfSMDW4V5So"
   },
   "source": [
    "Сколько пассажиров ехало в каждом классе? Кого было больше в самом многолюдном классе — мужчин или женщин?"
   ]
  },
  {
   "cell_type": "code",
   "execution_count": 0,
   "metadata": {
    "colab": {
     "base_uri": "https://localhost:8080/",
     "height": 67
    },
    "colab_type": "code",
    "executionInfo": {
     "elapsed": 680,
     "status": "ok",
     "timestamp": 1581980602218,
     "user": {
      "displayName": "Никита Разуваев",
      "photoUrl": "https://lh4.googleusercontent.com/-DVoMqo-tV28/AAAAAAAAAAI/AAAAAAAAAsk/Idd15znrGXo/s64/photo.jpg",
      "userId": "09666267334096540847"
     },
     "user_tz": -180
    },
    "id": "XgC0PXKPV5Sp",
    "outputId": "554d10ec-c4ef-414a-d91c-dce56e2e405e"
   },
   "outputs": [
    {
     "name": "stdout",
     "output_type": "stream",
     "text": [
      "1-ым классом ехало 216 пассажиров, 2-ым классом — 184 пассажиров, 3-им — 491 пассажиров\n",
      "----------------------------------------\n",
      "В самом многолюдном классе мужчин (347) было больше, чем женщин (144)\n"
     ]
    }
   ],
   "source": [
    "# your code here\n",
    "pclass = data['Pclass'].value_counts()\n",
    "print(\"1-ым классом ехало %d пассажиров, 2-ым классом — %d пассажиров, 3-им — %d пассажиров\" %\n",
    "      (pclass[1], pclass[2], pclass[3])\n",
    "      )\n",
    "\n",
    "print('-'*40)\n",
    "\n",
    "pclass_sex = data[data['Pclass'] == max(data['Pclass'])]['Sex'].value_counts()\n",
    "print(\"В самом многолюдном классе мужчин (%d) было больше, чем женщин (%d)\" %\n",
    "      (pclass_sex['male'], pclass_sex['female'])\n",
    "      )\n"
   ]
  },
  {
   "cell_type": "code",
   "execution_count": 0,
   "metadata": {
    "colab": {
     "base_uri": "https://localhost:8080/",
     "height": 323
    },
    "colab_type": "code",
    "executionInfo": {
     "elapsed": 1025,
     "status": "ok",
     "timestamp": 1581980605956,
     "user": {
      "displayName": "Никита Разуваев",
      "photoUrl": "https://lh4.googleusercontent.com/-DVoMqo-tV28/AAAAAAAAAAI/AAAAAAAAAsk/Idd15znrGXo/s64/photo.jpg",
      "userId": "09666267334096540847"
     },
     "user_tz": -180
    },
    "id": "xMjCyD_bXs3z",
    "outputId": "dc674178-bf4b-4d69-a5df-ab49f105fe79"
   },
   "outputs": [
    {
     "data": {
      "image/png": "[encoded data removed]",
      "text/plain": [
       "<Figure size 864x288 with 2 Axes>"
      ]
     },
     "metadata": {
      "tags": []
     },
     "output_type": "display_data"
    }
   ],
   "source": [
    "x = (1, 2, 3)\n",
    "fig, ax = plt.subplots(1, 2, figsize=(12, 4))\n",
    "fig.tight_layout()\n",
    "\n",
    "ax[0].bar(x, pclass, edgecolor='black')\n",
    "ax[0].grid('major', axis='y')\n",
    "ax[0].set_xticks(x)\n",
    "ax[0].set_xticklabels((\"3-ий\", \"1-ый\", \"2-ой\"))\n",
    "ax[0].set_title('Количество пассажиров в каждом из классов')\n",
    "ax[0].set_xlabel('Класс')\n",
    "ax[0].set_yticks(np.arange(0, 501, step=50))\n",
    "ax[0].set_ylabel('Количество пассажиров')\n",
    "\n",
    "fracs = [pclass_sex['male']/pclass.count(), pclass_sex['female']/pclass.count()]\n",
    "labels = [\"Мужчины\", \"Женщины\"]\n",
    "ax[1].pie(fracs, labels=labels, autopct='%.1f%%')\n",
    "ax[1].set_title('Половая структура пассажиров 3-его класса')\n",
    "\n",
    "plt.show()"
   ]
  },
  {
   "cell_type": "markdown",
   "metadata": {
    "colab_type": "text",
    "id": "8uN8Sa43V5Sr"
   },
   "source": [
    "### 15"
   ]
  },
  {
   "cell_type": "markdown",
   "metadata": {
    "colab_type": "text",
    "id": "-EJxz7F7V5Sr"
   },
   "source": [
    "Выведите минимальную, среднюю и максимальную сумму, которую заплатили пассажиры за проезд. Проделайте то же самое только для тех пассажиров, которые сели на корабль в Саутгемптоне. Выведите гистограммы, показывающие распределения стоимостей билетов в зависимости от места посадки."
   ]
  },
  {
   "cell_type": "code",
   "execution_count": 0,
   "metadata": {
    "colab": {
     "base_uri": "https://localhost:8080/",
     "height": 84
    },
    "colab_type": "code",
    "executionInfo": {
     "elapsed": 656,
     "status": "ok",
     "timestamp": 1581980619283,
     "user": {
      "displayName": "Никита Разуваев",
      "photoUrl": "https://lh4.googleusercontent.com/-DVoMqo-tV28/AAAAAAAAAAI/AAAAAAAAAsk/Idd15znrGXo/s64/photo.jpg",
      "userId": "09666267334096540847"
     },
     "user_tz": -180
    },
    "id": "lTsF4arwV5Ss",
    "outputId": "3c594ed2-2847-4ebe-ddbb-43952d0edc63"
   },
   "outputs": [
    {
     "name": "stdout",
     "output_type": "stream",
     "text": [
      "Минимальная сумма, заплаченная за проезд составила $0, максимальная — $512.33. Средняя стоимость билета равна $32.20\n",
      "----------------------------------------\n",
      "Для тех пассажиров, которые сели на корабль в Саутгемптоне:\n",
      "Минимальная сумма, заплаченная за проезд составила $0, максимальная — $263.00. Средняя стоимость билета равна $27.08\n"
     ]
    }
   ],
   "source": [
    "# your code here\n",
    "minFare = min(data['Fare'])\n",
    "maxFare = max(data['Fare'])\n",
    "meanFare = data['Fare'].mean()\n",
    "print('Минимальная сумма, заплаченная за проезд составила $%d, максимальная — $%.2f. Средняя стоимость билета равна $%.2f' %\n",
    "      (minFare, maxFare, meanFare)\n",
    "      )\n",
    "\n",
    "print('-'*40)\n",
    "minFareS = min(data[data['Embarked'] == 'S']['Fare'])\n",
    "maxFareS = max(data[data['Embarked'] == 'S']['Fare'])\n",
    "meanFareS = data[data['Embarked'] == 'S']['Fare'].mean()\n",
    "print('Для тех пассажиров, которые сели на корабль в Саутгемптоне:')\n",
    "print('Минимальная сумма, заплаченная за проезд составила $%d, максимальная — $%.2f. Средняя стоимость билета равна $%.2f' %\n",
    "      (minFareS, maxFareS, meanFareS)\n",
    ")"
   ]
  },
  {
   "cell_type": "code",
   "execution_count": 0,
   "metadata": {
    "colab": {
     "base_uri": "https://localhost:8080/",
     "height": 354
    },
    "colab_type": "code",
    "executionInfo": {
     "elapsed": 1371,
     "status": "ok",
     "timestamp": 1581980625446,
     "user": {
      "displayName": "Никита Разуваев",
      "photoUrl": "https://lh4.googleusercontent.com/-DVoMqo-tV28/AAAAAAAAAAI/AAAAAAAAAsk/Idd15znrGXo/s64/photo.jpg",
      "userId": "09666267334096540847"
     },
     "user_tz": -180
    },
    "id": "4KEJ1DHSvNva",
    "outputId": "2b83655d-f47f-4513-dd50-01a335749cf7"
   },
   "outputs": [
    {
     "name": "stdout",
     "output_type": "stream",
     "text": [
      "Гистограммы распределений стоимостей билетов в зависимости от места посадки:\n"
     ]
    },
    {
     "data": {
      "image/png": "[encoded data removed]",
      "text/plain": [
       "<Figure size 1008x288 with 4 Axes>"
      ]
     },
     "metadata": {
      "tags": []
     },
     "output_type": "display_data"
    }
   ],
   "source": [
    "fig, ax = plt.subplots(1, 4, sharex='col', sharey='row', figsize=(14, 4))\n",
    "\n",
    "fig.tight_layout(pad=0.4)\n",
    "ax[0].set_ylabel('Количество пассажиров')\n",
    "emb = ['Саутгемптоне', 'Шербуре', 'Куинстауне']\n",
    "\n",
    "for i, j in zip(range(3), data['Embarked'].unique()):\n",
    "  ax[i].hist(data['Fare'][(data['Embarked'] == j)], bins=15, edgecolor='black')\n",
    "  ax[i].set_xlabel('Стоимость билета, £')\n",
    "  ax[i].set_title('Сели на корабль в %s' % (emb[i]))\n",
    "\n",
    "ax[3].hist(data['Fare'][(data['Embarked'].isnull())], bins=5, edgecolor='black')\n",
    "ax[3].set_xlabel('Стоимость билета, £')\n",
    "ax[3].set_title('%s' % ('Неизвестно'))\n",
    "\n",
    "print('Гистограммы распределений стоимостей билетов в зависимости от места посадки:')\n",
    "fig.show()"
   ]
  },
  {
   "cell_type": "markdown",
   "metadata": {
    "colab_type": "text",
    "id": "ZY9rh4KGV5Su"
   },
   "source": [
    "### 16"
   ]
  },
  {
   "cell_type": "markdown",
   "metadata": {
    "colab_type": "text",
    "id": "2_ypx2vbV5Sw"
   },
   "source": [
    "Все ли признаки несут в себе полезную информацию? Почему? Избавьтесь от ненужных столбцов."
   ]
  },
  {
   "cell_type": "code",
   "execution_count": 0,
   "metadata": {
    "colab": {
     "base_uri": "https://localhost:8080/",
     "height": 376
    },
    "colab_type": "code",
    "executionInfo": {
     "elapsed": 1150,
     "status": "ok",
     "timestamp": 1581981440203,
     "user": {
      "displayName": "Никита Разуваев",
      "photoUrl": "https://lh4.googleusercontent.com/-DVoMqo-tV28/AAAAAAAAAAI/AAAAAAAAAsk/Idd15znrGXo/s64/photo.jpg",
      "userId": "09666267334096540847"
     },
     "user_tz": -180
    },
    "id": "CvqlDRU9V5Sw",
    "outputId": "02695604-0eb1-44fd-9b36-feb0512c671b"
   },
   "outputs": [
    {
     "name": "stdout",
     "output_type": "stream",
     "text": [
      "Признак PassengerId не дает никакого представления о характеристиках пассажира, поскольку это просто порядковый номер.\n",
      "— Используется как ось для индексов\n",
      "----------------------------------------\n",
      "Столбец Cabin, обозначающий номер каюты имеет очень много пропусков, строковый (имеет множество уникальных значений),\n",
      "поэтому, на мой взгляд, может быть удален.\n",
      "----------------------------------------\n",
      "Такие признаки как Name и Ticket являются строковыми, имеют разный формат, сложны для обработки и почти не дают какой-либо\n",
      "количественной или качественной информации о пассажире (разве что можно выделить титул/соц. статус из имени),\n",
      "— а значит, можно от них избавиться.\n"
     ]
    },
    {
     "data": {
      "text/html": [
       "<div>\n",
       "<style scoped>\n",
       "    .dataframe tbody tr th:only-of-type {\n",
       "        vertical-align: middle;\n",
       "    }\n",
       "\n",
       "    .dataframe tbody tr th {\n",
       "        vertical-align: top;\n",
       "    }\n",
       "\n",
       "    .dataframe thead th {\n",
       "        text-align: right;\n",
       "    }\n",
       "</style>\n",
       "<table border=\"1\" class=\"dataframe\">\n",
       "  <thead>\n",
       "    <tr style=\"text-align: right;\">\n",
       "      <th></th>\n",
       "      <th>Survived</th>\n",
       "      <th>Pclass</th>\n",
       "      <th>Sex</th>\n",
       "      <th>Age</th>\n",
       "      <th>SibSp</th>\n",
       "      <th>Parch</th>\n",
       "      <th>Fare</th>\n",
       "      <th>Embarked</th>\n",
       "    </tr>\n",
       "    <tr>\n",
       "      <th>PassengerId</th>\n",
       "      <th></th>\n",
       "      <th></th>\n",
       "      <th></th>\n",
       "      <th></th>\n",
       "      <th></th>\n",
       "      <th></th>\n",
       "      <th></th>\n",
       "      <th></th>\n",
       "    </tr>\n",
       "  </thead>\n",
       "  <tbody>\n",
       "    <tr>\n",
       "      <th>1</th>\n",
       "      <td>0</td>\n",
       "      <td>3</td>\n",
       "      <td>male</td>\n",
       "      <td>22.0</td>\n",
       "      <td>1</td>\n",
       "      <td>0</td>\n",
       "      <td>7.2500</td>\n",
       "      <td>S</td>\n",
       "    </tr>\n",
       "    <tr>\n",
       "      <th>2</th>\n",
       "      <td>1</td>\n",
       "      <td>1</td>\n",
       "      <td>female</td>\n",
       "      <td>38.0</td>\n",
       "      <td>1</td>\n",
       "      <td>0</td>\n",
       "      <td>71.2833</td>\n",
       "      <td>C</td>\n",
       "    </tr>\n",
       "    <tr>\n",
       "      <th>3</th>\n",
       "      <td>1</td>\n",
       "      <td>3</td>\n",
       "      <td>female</td>\n",
       "      <td>26.0</td>\n",
       "      <td>0</td>\n",
       "      <td>0</td>\n",
       "      <td>7.9250</td>\n",
       "      <td>S</td>\n",
       "    </tr>\n",
       "    <tr>\n",
       "      <th>4</th>\n",
       "      <td>1</td>\n",
       "      <td>1</td>\n",
       "      <td>female</td>\n",
       "      <td>35.0</td>\n",
       "      <td>1</td>\n",
       "      <td>0</td>\n",
       "      <td>53.1000</td>\n",
       "      <td>S</td>\n",
       "    </tr>\n",
       "    <tr>\n",
       "      <th>5</th>\n",
       "      <td>0</td>\n",
       "      <td>3</td>\n",
       "      <td>male</td>\n",
       "      <td>35.0</td>\n",
       "      <td>0</td>\n",
       "      <td>0</td>\n",
       "      <td>8.0500</td>\n",
       "      <td>S</td>\n",
       "    </tr>\n",
       "  </tbody>\n",
       "</table>\n",
       "</div>"
      ],
      "text/plain": [
       "             Survived  Pclass     Sex   Age  SibSp  Parch     Fare Embarked\n",
       "PassengerId                                                                \n",
       "1                   0       3    male  22.0      1      0   7.2500        S\n",
       "2                   1       1  female  38.0      1      0  71.2833        C\n",
       "3                   1       3  female  26.0      0      0   7.9250        S\n",
       "4                   1       1  female  35.0      1      0  53.1000        S\n",
       "5                   0       3    male  35.0      0      0   8.0500        S"
      ]
     },
     "execution_count": 136,
     "metadata": {
      "tags": []
     },
     "output_type": "execute_result"
    }
   ],
   "source": [
    "# your code here\n",
    "data = pd.read_csv('train.csv', encoding='utf-8', index_col=0) # Изначальный датасет\n",
    "\n",
    "print('Признак PassengerId не дает никакого представления о характеристиках пассажира, поскольку это просто порядковый номер.')\n",
    "print('— Используется как ось для индексов')\n",
    "# data.drop(['PassengerId'], axis=1).head()\n",
    "print('-'*40)\n",
    "print('Столбец Cabin, обозначающий номер каюты имеет очень много пропусков, строковый (имеет множество уникальных значений),')\n",
    "print('поэтому, на мой взгляд, может быть удален.')\n",
    "print('-'*40)\n",
    "print('Такие признаки как Name и Ticket являются строковыми, имеют разный формат, сложны для обработки и почти не дают какой-либо')\n",
    "print('количественной или качественной информации о пассажире (разве что можно выделить титул/соц. статус из имени),')\n",
    "print('— а значит, можно от них избавиться.')\n",
    "data.drop(['Cabin', 'Ticket', 'Name'], axis=1, inplace=True)\n",
    "data.head()"
   ]
  },
  {
   "cell_type": "markdown",
   "metadata": {
    "colab_type": "text",
    "id": "mSLJq-Y2V5Sy"
   },
   "source": [
    "### 17"
   ]
  },
  {
   "cell_type": "markdown",
   "metadata": {
    "colab_type": "text",
    "id": "gbws3l-xV5Sz"
   },
   "source": [
    "Есть ли в данных пропуски? Если да, то в каких столбцах? Сколько пропусков в каждом из них?"
   ]
  },
  {
   "cell_type": "code",
   "execution_count": 0,
   "metadata": {
    "colab": {
     "base_uri": "https://localhost:8080/",
     "height": 487
    },
    "colab_type": "code",
    "executionInfo": {
     "elapsed": 595,
     "status": "ok",
     "timestamp": 1581981692562,
     "user": {
      "displayName": "Никита Разуваев",
      "photoUrl": "https://lh4.googleusercontent.com/-DVoMqo-tV28/AAAAAAAAAAI/AAAAAAAAAsk/Idd15znrGXo/s64/photo.jpg",
      "userId": "09666267334096540847"
     },
     "user_tz": -180
    },
    "id": "ShO5VrEnV5Sz",
    "outputId": "4035cc61-34b1-43bc-ce17-e0de1d3c6dcf"
   },
   "outputs": [
    {
     "name": "stdout",
     "output_type": "stream",
     "text": [
      "<class 'pandas.core.frame.DataFrame'>\n",
      "Int64Index: 891 entries, 1 to 891\n",
      "Data columns (total 11 columns):\n",
      "Survived    891 non-null int64\n",
      "Pclass      891 non-null int64\n",
      "Name        891 non-null object\n",
      "Sex         891 non-null object\n",
      "Age         714 non-null float64\n",
      "SibSp       891 non-null int64\n",
      "Parch       891 non-null int64\n",
      "Ticket      891 non-null object\n",
      "Fare        891 non-null float64\n",
      "Cabin       204 non-null object\n",
      "Embarked    889 non-null object\n",
      "dtypes: float64(2), int64(4), object(5)\n",
      "memory usage: 83.5+ KB\n",
      "----------------------------------------\n",
      "В данных есть пропуски\n",
      "----------------------------------------\n",
      "Пропуски обнаружены в следующих столбцах:\n",
      "Age         True\n",
      "Cabin       True\n",
      "Embarked    True\n",
      "dtype: bool\n",
      "----------------------------------------\n",
      "В столбце Age: 177 пропусков\n",
      "В столбце Cabin: 687 пропусков\n",
      "В столбце Embarked: 2 пропусков\n"
     ]
    }
   ],
   "source": [
    "# your code here\n",
    "\n",
    "data = pd.read_csv('train.csv', encoding='utf-8', index_col=0) # Изначальный датасет\n",
    "\n",
    "data.info()\n",
    "\n",
    "print('-'*40)\n",
    "\n",
    "if data.isnull().any().any():\n",
    "  print('В данных есть пропуски')\n",
    "  print('-'*40)\n",
    "  print('Пропуски обнаружены в следующих столбцах:')\n",
    "  miss = data.isnull().any()[data.isnull().any() == True]\n",
    "  print(miss)\n",
    "  print('-'*40)\n",
    "  for i in miss.index:\n",
    "    print('В столбце %s: %d пропусков' % (i, sum(data[i].isnull())))\n",
    "else:\n",
    "  print('Пропусков нет')"
   ]
  },
  {
   "cell_type": "markdown",
   "metadata": {
    "colab_type": "text",
    "id": "qiqr0BTmV5S1"
   },
   "source": [
    "### 18"
   ]
  },
  {
   "cell_type": "markdown",
   "metadata": {
    "colab_type": "text",
    "id": "B2dm5p4RV5S2"
   },
   "source": [
    "Подумайте, как стоит заполнить пропуски в каждом столбце в зависимости от его типа, и сделайте это. Проверьте, что пропусков нигде не осталось."
   ]
  },
  {
   "cell_type": "code",
   "execution_count": 0,
   "metadata": {
    "colab": {
     "base_uri": "https://localhost:8080/",
     "height": 722
    },
    "colab_type": "code",
    "executionInfo": {
     "elapsed": 716,
     "status": "ok",
     "timestamp": 1581982977032,
     "user": {
      "displayName": "Никита Разуваев",
      "photoUrl": "https://lh4.googleusercontent.com/-DVoMqo-tV28/AAAAAAAAAAI/AAAAAAAAAsk/Idd15znrGXo/s64/photo.jpg",
      "userId": "09666267334096540847"
     },
     "user_tz": -180
    },
    "id": "Pk4tm3q-V5S2",
    "outputId": "c1b76a89-de6d-48d7-e7aa-9a20da4852ec"
   },
   "outputs": [
    {
     "name": "stdout",
     "output_type": "stream",
     "text": [
      "Заполним пропуски в столбце Embarked (пропущено место посадки на корабль), посмотрим на номера билетов:\n",
      "----------------------------------------\n",
      "PassengerId\n",
      "62     113572\n",
      "830    113572\n",
      "Name: Ticket, dtype: object\n",
      "----------------------------------------\n",
      "Можно видеть, что начинаются на 113 билеты у тех пассажиров, которые отправлялись из Саутгемптона, например:\n",
      "----------------------------------------\n",
      "             Ticket Embarked\n",
      "PassengerId                 \n",
      "4            113803        S\n",
      "12           113783        S\n",
      "24           113788        S\n",
      "36           113789        S\n",
      "----------------------------------------\n",
      "Можно попробовать предсказать возраст тек пассажиров, у которых он не указан, или же заменить средним значением (что исказит данные: \n",
      "распределение станет чересчур островершинным). Однако если предположить, что пропущена случайная выборка, имеющая такое же распределение\n",
      "как и заполненные данные, можно заменить пропуски случайными значениями из логнормального распределения \n",
      "(нормальное не подойдет из-за отр. хвоста). За мат. ожидание случайной величины примем среднее значение, \n",
      "за дисперсию - среднеквадратичное отклонение.\n",
      "----------------------------------------\n",
      "Столбец Cabin, с номерами кают, заполним строками, указывающими на отсутсвие значения\n",
      "----------------------------------------\n",
      "<class 'pandas.core.frame.DataFrame'>\n",
      "Int64Index: 891 entries, 1 to 891\n",
      "Data columns (total 11 columns):\n",
      "Survived    891 non-null int64\n",
      "Pclass      891 non-null int64\n",
      "Name        891 non-null object\n",
      "Sex         891 non-null object\n",
      "Age         891 non-null float64\n",
      "SibSp       891 non-null int64\n",
      "Parch       891 non-null int64\n",
      "Ticket      891 non-null object\n",
      "Fare        891 non-null float64\n",
      "Cabin       891 non-null object\n",
      "Embarked    891 non-null object\n",
      "dtypes: float64(2), int64(4), object(5)\n",
      "memory usage: 123.5+ KB\n",
      "----------------------------------------\n",
      "Пропуски есть? - False\n"
     ]
    }
   ],
   "source": [
    "# your code here\n",
    "\n",
    "data = pd.read_csv('train.csv', encoding='utf-8', index_col=0) # Изначальный датасет\n",
    "\n",
    "print('Заполним пропуски в столбце Embarked (пропущено место посадки на корабль), посмотрим на номера билетов:')\n",
    "print('-'*40)\n",
    "print(data[data['Embarked'].isnull()]['Ticket'])\n",
    "print('-'*40)\n",
    "print('Можно видеть, что начинаются на 113 билеты у тех пассажиров, которые отправлялись из Саутгемптона, например:')\n",
    "print('-'*40)\n",
    "print(data.loc[[4, 12, 24, 36], ['Ticket', 'Embarked']])\n",
    "data['Embarked'].fillna('S', inplace=True)\n",
    "\n",
    "print('-'*40)\n",
    "print('Можно попробовать предсказать возраст тек пассажиров, у которых он не указан, или же заменить средним значением (что исказит данные: ')\n",
    "print('распределение станет чересчур островершинным). Однако если предположить, что пропущена случайная выборка, имеющая такое же распределение')\n",
    "print('как и заполненные данные, можно заменить пропуски случайными значениями из логнормального распределения ')\n",
    "print('(нормальное не подойдет из-за отр. хвоста). За мат. ожидание случайной величины примем среднее значение, ')\n",
    "print('за дисперсию - среднеквадратичное отклонение.')\n",
    "\n",
    "np.random.seed(4318860)\n",
    "\n",
    "ind = np.arange(1, len(data) + 1)[data['Age'].isna()]\n",
    "\n",
    "mx = data[data['Age'].notna()]['Age'].mean()\n",
    "dx = data[data['Age'].notna()]['Age'].std()**2\n",
    "\n",
    "# Параметры логнормального распределения\n",
    "nu = np.log((mx)**2/np.sqrt(dx+(mx)**2))\n",
    "sigma = np.log((dx+(mx)**2)/(mx)**2)\n",
    "\n",
    "x = np.random.lognormal(nu, sigma, 177)\n",
    "\n",
    "data['Age'].fillna(pd.Series(x, index=ind), inplace=True)\n",
    "\n",
    "print('-'*40)\n",
    "\n",
    "print('Столбец Cabin, с номерами кают, заполним строками, указывающими на отсутсвие значения')\n",
    "data['Cabin'].fillna('NG', inplace=True)\n",
    "print('-'*40)\n",
    "\n",
    "data.info()\n",
    "\n",
    "print('-'*40)\n",
    "print('Пропуски есть? - ' + str(data.isnull().any().any()))"
   ]
  },
  {
   "cell_type": "markdown",
   "metadata": {
    "colab_type": "text",
    "id": "XitP5peDV5S5"
   },
   "source": [
    "### 19"
   ]
  },
  {
   "cell_type": "markdown",
   "metadata": {
    "colab_type": "text",
    "id": "1L_CIR9JV5S5"
   },
   "source": [
    "Посчитайте, насколько сильно коррелируют друг с другом цена за билет и возраст пассажиров. Также проверьте наличие этой зависимости визуально (в этом вам поможет построение [диаграммы рассеяния](https://ru.wikipedia.org/wiki/%D0%94%D0%B8%D0%B0%D0%B3%D1%80%D0%B0%D0%BC%D0%BC%D0%B0_%D1%80%D0%B0%D1%81%D1%81%D0%B5%D1%8F%D0%BD%D0%B8%D1%8F))."
   ]
  },
  {
   "cell_type": "code",
   "execution_count": 0,
   "metadata": {
    "colab": {
     "base_uri": "https://localhost:8080/",
     "height": 346
    },
    "colab_type": "code",
    "executionInfo": {
     "elapsed": 699,
     "status": "ok",
     "timestamp": 1581981848780,
     "user": {
      "displayName": "Никита Разуваев",
      "photoUrl": "https://lh4.googleusercontent.com/-DVoMqo-tV28/AAAAAAAAAAI/AAAAAAAAAsk/Idd15znrGXo/s64/photo.jpg",
      "userId": "09666267334096540847"
     },
     "user_tz": -180
    },
    "id": "BcT6DTqdV5S6",
    "outputId": "1ab5c397-a233-4367-9e05-c787f469ee54"
   },
   "outputs": [
    {
     "name": "stdout",
     "output_type": "stream",
     "text": [
      "Коэффициент корреляции между возрастом и ценой билета равен 0.1045.\n",
      "Поскольку коэффициент корреляции положителен, то с увеличением возраста растет и цена билета.\n",
      "Тем не менее, связь между данными велечинами очень слабая (низкое значение коэффициента по модулю), что подтверждается диаграммой:\n"
     ]
    },
    {
     "data": {
      "image/png": "[encoded data removed]",
      "text/plain": [
       "<Figure size 432x288 with 1 Axes>"
      ]
     },
     "metadata": {
      "tags": []
     },
     "output_type": "display_data"
    }
   ],
   "source": [
    "# your code here\n",
    "print('Коэффициент корреляции между возрастом и ценой билета равен %.4f.' %\n",
    "      data[['Age', 'Fare']].corr().iloc[0, 1]\n",
    ")\n",
    "print('Поскольку коэффициент корреляции положителен, то с увеличением возраста растет и цена билета.')\n",
    "print('Тем не менее, связь между данными велечинами очень слабая (низкое значение коэффициента по модулю), что подтверждается диаграммой:')\n",
    "plt.scatter(data['Age'], data['Fare'])\n",
    "plt.xlabel('Возраст, лет')\n",
    "plt.ylabel('Цена билета, £')\n",
    "plt.title('Диаграмма рессеяния возраста и цены билета')\n",
    "plt.show()"
   ]
  },
  {
   "cell_type": "markdown",
   "metadata": {
    "colab_type": "text",
    "id": "rR0ejUjnV5S7"
   },
   "source": [
    "### 20"
   ]
  },
  {
   "cell_type": "markdown",
   "metadata": {
    "colab_type": "text",
    "id": "bj39rRihV5S8"
   },
   "source": [
    "Правда ли, что чаще выживали пассажиры с более дорогими билетами? А есть ли зависимость выживаемости от класса?"
   ]
  },
  {
   "cell_type": "code",
   "execution_count": 0,
   "metadata": {
    "colab": {
     "base_uri": "https://localhost:8080/",
     "height": 379
    },
    "colab_type": "code",
    "executionInfo": {
     "elapsed": 978,
     "status": "ok",
     "timestamp": 1581981856699,
     "user": {
      "displayName": "Никита Разуваев",
      "photoUrl": "https://lh4.googleusercontent.com/-DVoMqo-tV28/AAAAAAAAAAI/AAAAAAAAAsk/Idd15znrGXo/s64/photo.jpg",
      "userId": "09666267334096540847"
     },
     "user_tz": -180
    },
    "id": "XNYrg07nV5S8",
    "outputId": "3e07d2a9-a489-4976-bc5e-45d746f06898"
   },
   "outputs": [
    {
     "name": "stdout",
     "output_type": "stream",
     "text": [
      "Коэффициент корреляции между выживаемостью и ценой билета равен 0.2573.\n",
      "Коэффициент больше 0, значит с увеличением стоимости билета, растет число выживших.\n",
      "Велечина коэффициента корреляции (по модулю) показывает, что имеется слабая связь между данными показателями.\n",
      "На диаграмме ниже видно, что зеленые точки (выжившие) сконцентрированны несколько выше красных точек (погибшие),\n",
      "что также подтверждает связь показателей:\n"
     ]
    },
    {
     "data": {
      "image/png": "[encoded data removed]",
      "text/plain": [
       "<Figure size 432x288 with 1 Axes>"
      ]
     },
     "metadata": {
      "tags": []
     },
     "output_type": "display_data"
    }
   ],
   "source": [
    "# your code here\n",
    "print('Коэффициент корреляции между выживаемостью и ценой билета равен %.4f.' %\n",
    "      data[['Survived', 'Fare']].corr().iloc[0, 1]\n",
    ")\n",
    "print('Коэффициент больше 0, значит с увеличением стоимости билета, растет число выживших.')\n",
    "print('Велечина коэффициента корреляции (по модулю) показывает, что имеется слабая связь между данными показателями.')\n",
    "print('На диаграмме ниже видно, что зеленые точки (выжившие) сконцентрированны несколько выше красных точек (погибшие),')\n",
    "print('что также подтверждает связь показателей:')\n",
    "\n",
    "fig, ax = plt.subplots()\n",
    "for i in [(0, 'tab:red'), (1, 'tab:green')]:\n",
    "  mask = data['Survived'] == i[0]\n",
    "  ax.scatter(data[mask]['Age'], data[mask]['Fare'], c=i[1], alpha=0.5)\n",
    "  ax.set_xlabel('Возраст, лет')\n",
    "  ax.set_ylabel('Цена билета, £')\n",
    "  ax.set_title('Диаграмма рессеяния возраста и цены билета')\n",
    "\n",
    "ax.legend(['Погибшие', 'Выжившие'])\n",
    "plt.show()"
   ]
  },
  {
   "cell_type": "code",
   "execution_count": 0,
   "metadata": {
    "colab": {
     "base_uri": "https://localhost:8080/",
     "height": 379
    },
    "colab_type": "code",
    "executionInfo": {
     "elapsed": 976,
     "status": "ok",
     "timestamp": 1581981867290,
     "user": {
      "displayName": "Никита Разуваев",
      "photoUrl": "https://lh4.googleusercontent.com/-DVoMqo-tV28/AAAAAAAAAAI/AAAAAAAAAsk/Idd15znrGXo/s64/photo.jpg",
      "userId": "09666267334096540847"
     },
     "user_tz": -180
    },
    "id": "hOHFSQn6I9Ty",
    "outputId": "fd3f94e9-f427-4986-a4ce-1ba4504319ad"
   },
   "outputs": [
    {
     "name": "stdout",
     "output_type": "stream",
     "text": [
      "Коэффициент корреляции между выживаемостью и классом билета равен -0.3385.\n",
      "Коэффициент отрицателен, значит с увеличением класса, уменьшается число выживших.\n",
      "Связь показателей можно охарактеризовать как слабую, но, тем не менее, она выше, чем между ценой и выживаемостью.\n",
      "Исходя из диаграммы ниже, можно сделать вывод, что большая часть пассажиров 1-ого класса выжила (62.96%), в то время как\n",
      "во 2-ом классе больше половины пассажиров погибло (47.28% выжили), а в 3-м классе только 24.24% пассажиров осталось в живых:\n"
     ]
    },
    {
     "data": {
      "image/png": "[encoded data removed]",
      "text/plain": [
       "<Figure size 432x288 with 1 Axes>"
      ]
     },
     "metadata": {
      "tags": []
     },
     "output_type": "display_data"
    }
   ],
   "source": [
    "# Количество выживших/погибших по классам\n",
    "alive = [\n",
    "         len(data[(data['Survived'] == 1) & (data['Pclass'] == i)])\n",
    "         for i in range(1, 4)\n",
    "         ]\n",
    "\n",
    "dead = [\n",
    "        len(data[(data['Survived'] == 0) & (data['Pclass'] == i)])\n",
    "        for i in range(1, 4)\n",
    "        ]\n",
    "per = [100*alive[i]/(alive[i]+dead[i]) for i in range(0,3)]\n",
    "\n",
    "print('Коэффициент корреляции между выживаемостью и классом билета равен %.4f.' %\n",
    "      data[['Pclass', 'Survived']].corr().iloc[0, 1]\n",
    ")\n",
    "print('Коэффициент отрицателен, значит с увеличением класса, уменьшается число выживших.')\n",
    "print('Связь показателей можно охарактеризовать как слабую, но, тем не менее, она выше, чем между ценой и выживаемостью.')\n",
    "print('Исходя из диаграммы ниже, можно сделать вывод, что большая часть пассажиров 1-ого класса выжила (%.2f%%), в то время как' % per[0])\n",
    "print('во 2-ом классе больше половины пассажиров погибло (%.2f%% выжили), а в 3-м классе только %.2f%% пассажиров осталось в живых:' %\n",
    "      (per[1], per[2]))\n",
    "\n",
    "ind = np.arange(3)\n",
    "\n",
    "p1 = plt.bar(ind, dead, width = 0.7, color='tab:red')\n",
    "p2 = plt.bar(ind, alive, width = 0.7, bottom=dead, color='tab:green')\n",
    "plt.title('Диаграмма распределения выживших и погибших в зависимости от класса')\n",
    "plt.ylabel('Число пассажиров')\n",
    "plt.xlabel('Класс')\n",
    "plt.xticks(ind, ('1-й класс', '2-й класс', '3-й класс'))\n",
    "plt.yticks(np.arange(0, 501, step=50))\n",
    "plt.legend((p1[0], p2[0]), ('Погибшие', 'Выжившие'))\n",
    "\n",
    "plt.show()"
   ]
  },
  {
   "cell_type": "markdown",
   "metadata": {
    "colab_type": "text",
    "id": "e1Ru6ozMV5S-"
   },
   "source": [
    "### 21"
   ]
  },
  {
   "cell_type": "markdown",
   "metadata": {
    "colab_type": "text",
    "id": "m81OmaUMV5S_"
   },
   "source": [
    "Создание новых признаков (feature engineering) является одним из основных средств улучшения качества работы алгоритмов машинного обучения на этапе обработки данных. Добавьте в таблицу столбец, который будет показывать, сколько родных плыло вместе с пассажиром на корабле, включая его самого. Затем придумайте свой признак, который может быть полезен для алгоритма (несет в себе какую-то информацию), и добавьте его в таблицу."
   ]
  },
  {
   "cell_type": "code",
   "execution_count": 0,
   "metadata": {
    "colab": {
     "base_uri": "https://localhost:8080/",
     "height": 734
    },
    "colab_type": "code",
    "executionInfo": {
     "elapsed": 646,
     "status": "ok",
     "timestamp": 1581982154463,
     "user": {
      "displayName": "Никита Разуваев",
      "photoUrl": "https://lh4.googleusercontent.com/-DVoMqo-tV28/AAAAAAAAAAI/AAAAAAAAAsk/Idd15znrGXo/s64/photo.jpg",
      "userId": "09666267334096540847"
     },
     "user_tz": -180
    },
    "id": "9kes7fu3V5S_",
    "outputId": "716ec22f-232d-4ced-a6e9-7d9429aecbb9"
   },
   "outputs": [
    {
     "name": "stdout",
     "output_type": "stream",
     "text": [
      "Mr              517\n",
      "Miss            182\n",
      "Mrs             125\n",
      "Master           40\n",
      "Dr                7\n",
      "Rev               6\n",
      "Major             2\n",
      "Mlle              2\n",
      "Col               2\n",
      "Lady              1\n",
      "Don               1\n",
      "Capt              1\n",
      "Jonkheer          1\n",
      "Ms                1\n",
      "Sir               1\n",
      "the Countess      1\n",
      "Mme               1\n",
      "Name: Status, dtype: int64\n"
     ]
    },
    {
     "data": {
      "text/html": [
       "<div>\n",
       "<style scoped>\n",
       "    .dataframe tbody tr th:only-of-type {\n",
       "        vertical-align: middle;\n",
       "    }\n",
       "\n",
       "    .dataframe tbody tr th {\n",
       "        vertical-align: top;\n",
       "    }\n",
       "\n",
       "    .dataframe thead th {\n",
       "        text-align: right;\n",
       "    }\n",
       "</style>\n",
       "<table border=\"1\" class=\"dataframe\">\n",
       "  <thead>\n",
       "    <tr style=\"text-align: right;\">\n",
       "      <th></th>\n",
       "      <th>Relatives</th>\n",
       "      <th>Status</th>\n",
       "    </tr>\n",
       "    <tr>\n",
       "      <th>PassengerId</th>\n",
       "      <th></th>\n",
       "      <th></th>\n",
       "    </tr>\n",
       "  </thead>\n",
       "  <tbody>\n",
       "    <tr>\n",
       "      <th>1</th>\n",
       "      <td>2</td>\n",
       "      <td>Mr</td>\n",
       "    </tr>\n",
       "    <tr>\n",
       "      <th>2</th>\n",
       "      <td>2</td>\n",
       "      <td>Mrs</td>\n",
       "    </tr>\n",
       "    <tr>\n",
       "      <th>3</th>\n",
       "      <td>1</td>\n",
       "      <td>Miss</td>\n",
       "    </tr>\n",
       "    <tr>\n",
       "      <th>4</th>\n",
       "      <td>2</td>\n",
       "      <td>Mrs</td>\n",
       "    </tr>\n",
       "    <tr>\n",
       "      <th>5</th>\n",
       "      <td>1</td>\n",
       "      <td>Mr</td>\n",
       "    </tr>\n",
       "    <tr>\n",
       "      <th>...</th>\n",
       "      <td>...</td>\n",
       "      <td>...</td>\n",
       "    </tr>\n",
       "    <tr>\n",
       "      <th>887</th>\n",
       "      <td>1</td>\n",
       "      <td>Rev</td>\n",
       "    </tr>\n",
       "    <tr>\n",
       "      <th>888</th>\n",
       "      <td>1</td>\n",
       "      <td>Miss</td>\n",
       "    </tr>\n",
       "    <tr>\n",
       "      <th>889</th>\n",
       "      <td>4</td>\n",
       "      <td>Miss</td>\n",
       "    </tr>\n",
       "    <tr>\n",
       "      <th>890</th>\n",
       "      <td>1</td>\n",
       "      <td>Mr</td>\n",
       "    </tr>\n",
       "    <tr>\n",
       "      <th>891</th>\n",
       "      <td>1</td>\n",
       "      <td>Mr</td>\n",
       "    </tr>\n",
       "  </tbody>\n",
       "</table>\n",
       "<p>891 rows × 2 columns</p>\n",
       "</div>"
      ],
      "text/plain": [
       "             Relatives Status\n",
       "PassengerId                  \n",
       "1                    2     Mr\n",
       "2                    2    Mrs\n",
       "3                    1   Miss\n",
       "4                    2    Mrs\n",
       "5                    1     Mr\n",
       "...                ...    ...\n",
       "887                  1    Rev\n",
       "888                  1   Miss\n",
       "889                  4   Miss\n",
       "890                  1     Mr\n",
       "891                  1     Mr\n",
       "\n",
       "[891 rows x 2 columns]"
      ]
     },
     "execution_count": 159,
     "metadata": {
      "tags": []
     },
     "output_type": "execute_result"
    }
   ],
   "source": [
    "# your code here\n",
    "import re\n",
    "\n",
    "# Столбец, показывающий сколько родных ехало с пассажиром\n",
    "data['Relatives'] = data['SibSp'] + data['Parch'] + 1\n",
    "\n",
    "# Столбец, показывающий социальный статус человека\n",
    "def get_status(name: str) -> str:\n",
    "  '''\n",
    "  Функция возвращает социальный статус из имени\n",
    "  '''\n",
    "  s = re.search('\\, .*\\.', name)\n",
    "  s = re.search('[a-zA-Z]+\\s*[a-zA-Z]*', s.group(0))\n",
    "  return s.group(0)\n",
    "\n",
    "data['Status'] = data['Name'].apply(get_status)\n",
    "print(data['Status'].value_counts())\n",
    "\n",
    "data[['Relatives', 'Status']]"
   ]
  },
  {
   "cell_type": "markdown",
   "metadata": {
    "colab_type": "text",
    "id": "ZTX6G6xbV5TB"
   },
   "source": [
    "### 22"
   ]
  },
  {
   "cell_type": "markdown",
   "metadata": {
    "colab_type": "text",
    "id": "uMrtHgjrV5TB"
   },
   "source": [
    "Придумайте какое-нибудь интересное задание на анализ предлагаемых данных и решите его. Например, какая фамилия была самой популярной на корабле?"
   ]
  },
  {
   "cell_type": "code",
   "execution_count": 0,
   "metadata": {
    "colab": {
     "base_uri": "https://localhost:8080/",
     "height": 774
    },
    "colab_type": "code",
    "executionInfo": {
     "elapsed": 1387,
     "status": "ok",
     "timestamp": 1581981887157,
     "user": {
      "displayName": "Никита Разуваев",
      "photoUrl": "https://lh4.googleusercontent.com/-DVoMqo-tV28/AAAAAAAAAAI/AAAAAAAAAsk/Idd15znrGXo/s64/photo.jpg",
      "userId": "09666267334096540847"
     },
     "user_tz": -180
    },
    "id": "VObR7-8xV5TB",
    "outputId": "fe83c105-4e90-4887-f2d2-13dd0dcb3fbd"
   },
   "outputs": [
    {
     "name": "stdout",
     "output_type": "stream",
     "text": [
      "Задача: выяснить, способствовал ли социальный статус выживанию на корабле\n",
      "----------------------------------------\n",
      "Для того, чтобы это выяснить построим диаграмму, представленную ниже:\n"
     ]
    },
    {
     "data": {
      "image/png": "[encoded data removed]",
      "text/plain": [
       "<Figure size 864x720 with 1 Axes>"
      ]
     },
     "metadata": {
      "tags": []
     },
     "output_type": "display_data"
    },
    {
     "name": "stdout",
     "output_type": "stream",
     "text": [
      "----------------------------------------\n",
      "Можно видеть, что высокий социальный статус не так важен для выживания:\n",
      "Jonkheer (низкий ранг в дворянстве), Capt (капитан), 1 из 2 полковников (Col),\n",
      "1 из 2 майоров (Major), 4 из 7 докторов (Dr), все священнослужители(Rev) и т.д. погибли.\n",
      "Тем не менее, можно заметить, что скорее пол играл более важную роль:\n",
      "большая часть женщин (Mrs., Miss., Mme., Lady и т.д.) выжила в катастрофе.\n"
     ]
    }
   ],
   "source": [
    "# your code here\n",
    "\n",
    "print('Задача: выяснить, способствовал ли социальный статус выживанию на корабле')\n",
    "print('-'*40)\n",
    "print('Для того, чтобы это выяснить построим диаграмму, представленную ниже:')\n",
    "\n",
    "alive = [\n",
    "         len(data[(data['Survived'] == 1) & (data['Status'] == i)])\n",
    "         for i in data['Status'].unique()\n",
    "         ]\n",
    "\n",
    "dead = [\n",
    "        len(data[(data['Survived'] == 0) & (data['Status'] == i)])\n",
    "        for i in data['Status'].unique()\n",
    "        ]\n",
    "\n",
    "ind = np.arange(17)\n",
    "height = 0.9\n",
    "\n",
    "fig, ax = plt.subplots(figsize=(12, 10))\n",
    "p1 = ax.barh(ind, dead, height = height, color='tab:red')\n",
    "p2 = ax.barh(ind, alive, height = height, left=dead, color='tab:green')\n",
    "ax.set_title('Диаграмма распределения выживших и погибших в зависимости от социального статуса')\n",
    "ax.set_xlabel('Число пассажиров')\n",
    "ax.set_ylabel('Социальный статус')\n",
    "ax.set_yticks(ind)\n",
    "ax.set_yticklabels(data['Status'].unique())\n",
    "ax.set_xticks(np.arange(0, 551, step=25))\n",
    "plt.legend((p1[0], p2[0]), ('Погибшие', 'Выжившие'))\n",
    "\n",
    "def autolabel(rects1, rects2):\n",
    "  for rect1, rect2 in zip(rects1, rects2):\n",
    "    width = rect1.get_width() # Погибли\n",
    "    widtha = rect2.get_width() # Выжили\n",
    "    if width != 0:\n",
    "      ax.annotate(\n",
    "          '{}'.format(width),\n",
    "          xy = (width, rect1.get_y() + rect1.get_height() / 2),\n",
    "          xytext=(3, -3),\n",
    "          textcoords=\"offset points\",\n",
    "          color = 'r',\n",
    "      )\n",
    "    if widtha != 0:\n",
    "      ax.annotate(\n",
    "          '{}'.format(widtha),\n",
    "          xy = (width + widtha, rect1.get_y() + rect1.get_height() / 2),\n",
    "          xytext=(10, -3),\n",
    "          textcoords=\"offset points\",\n",
    "          color = 'g',\n",
    "      )\n",
    "\n",
    "autolabel(p1, p2)\n",
    "\n",
    "plt.show()\n",
    "\n",
    "print('-'*40)\n",
    "\n",
    "print('Можно видеть, что высокий социальный статус не так важен для выживания:')\n",
    "print('Jonkheer (низкий ранг в дворянстве), Capt (капитан), 1 из 2 полковников (Col),')\n",
    "print('1 из 2 майоров (Major), 4 из 7 докторов (Dr), все священнослужители(Rev) и т.д. погибли.')\n",
    "print('Тем не менее, можно заметить, что скорее пол играл более важную роль:')\n",
    "print('большая часть женщин (Mrs., Miss., Mme., Lady и т.д.) выжила в катастрофе.')"
   ]
  },
  {
   "cell_type": "markdown",
   "metadata": {
    "colab_type": "text",
    "id": "ypmwT0_4V5TD"
   },
   "source": [
    "### 23"
   ]
  },
  {
   "cell_type": "markdown",
   "metadata": {
    "colab_type": "text",
    "id": "2klDOmbIV5TD"
   },
   "source": [
    "Постройте гистограммы распределения вещественных признаков. Есть ли в них разница? Чем это может быть плохо с точки зрения машинного обучения? Отнормируйте вещественные признаки и посмотрите, как изменилась ситуация."
   ]
  },
  {
   "cell_type": "code",
   "execution_count": 0,
   "metadata": {
    "colab": {
     "base_uri": "https://localhost:8080/",
     "height": 323
    },
    "colab_type": "code",
    "executionInfo": {
     "elapsed": 919,
     "status": "ok",
     "timestamp": 1581981895224,
     "user": {
      "displayName": "Никита Разуваев",
      "photoUrl": "https://lh4.googleusercontent.com/-DVoMqo-tV28/AAAAAAAAAAI/AAAAAAAAAsk/Idd15znrGXo/s64/photo.jpg",
      "userId": "09666267334096540847"
     },
     "user_tz": -180
    },
    "id": "pWlQFWujV5TE",
    "outputId": "902ee6f7-1af9-44a3-919a-67d95f5d4b7c"
   },
   "outputs": [
    {
     "data": {
      "image/png": "[encoded data removed]",
      "text/plain": [
       "<Figure size 864x288 with 2 Axes>"
      ]
     },
     "metadata": {
      "tags": []
     },
     "output_type": "display_data"
    }
   ],
   "source": [
    "# your code here\n",
    "fig, ax = plt.subplots(1, 2, figsize=(12, 4))\n",
    "\n",
    "fig.tight_layout()\n",
    "\n",
    "ax[0].hist(data['Age'], bins = 20, ec='black')\n",
    "ax[0].set_title('Распределение возрастов')\n",
    "ax[0].set_xlabel('Возраст')\n",
    "ax[0].set_ylabel('Кол-во пассажиров')\n",
    "\n",
    "ax[1].hist(data['Fare'], bins = 20, ec='black')\n",
    "ax[1].set_title('Распределение стоимостей билетов')\n",
    "ax[1].set_xlabel('Стоимость билета, £')\n",
    "ax[1].set_ylabel('Кол-во пассажиров')\n",
    "\n",
    "fig.show()"
   ]
  },
  {
   "cell_type": "markdown",
   "metadata": {
    "colab_type": "text",
    "id": "v55phoYhL7Y9"
   },
   "source": [
    "Распределение возрастов напоминает нормальное (за исключением отрицательного хвоста) или логнормальным распределение, не считая столбика у нуля. У распределения стоимости билетов есть сходства с экспоненциальным распределением. \n",
    "\n",
    "Проблема распределения цен билетов заключается в том, что присутствуют выбросы, где значение характеристики экстремально высокое, например, билет стоимостью 512 £. При использовании методов машинного обучения выбросы могут искажать поиск оптимальных параметров. \n",
    "\n",
    "Более того, характеристики имеют разные шкалы, выражающиеся в десятках, сотнях. Так например, в результате применения метода KNN, найденные значение коэффициентов могут создавать ложное впечатление, что коэффициент с большим значением важнее, хотя это вовсе не так. "
   ]
  },
  {
   "cell_type": "code",
   "execution_count": 0,
   "metadata": {
    "colab": {
     "base_uri": "https://localhost:8080/",
     "height": 323
    },
    "colab_type": "code",
    "executionInfo": {
     "elapsed": 1059,
     "status": "ok",
     "timestamp": 1581982994099,
     "user": {
      "displayName": "Никита Разуваев",
      "photoUrl": "https://lh4.googleusercontent.com/-DVoMqo-tV28/AAAAAAAAAAI/AAAAAAAAAsk/Idd15znrGXo/s64/photo.jpg",
      "userId": "09666267334096540847"
     },
     "user_tz": -180
    },
    "id": "joIUhMY7OV70",
    "outputId": "923681a8-35dc-47f5-d651-2eca87db88fe"
   },
   "outputs": [
    {
     "data": {
      "image/png": "[encoded data removed]",
      "text/plain": [
       "<Figure size 864x288 with 2 Axes>"
      ]
     },
     "metadata": {
      "tags": []
     },
     "output_type": "display_data"
    }
   ],
   "source": [
    "# Нормирование\n",
    "meanFare = data['Fare'].mean()\n",
    "stdFare = data['Fare'].std()\n",
    "\n",
    "data['Fare'] = (data['Fare'] - meanFare) / stdFare\n",
    "\n",
    "meanAge = data['Age'].mean()\n",
    "stdAge = data['Age'].std()\n",
    "\n",
    "data['Age'] = (data['Age'] - meanAge) / stdAge\n",
    "\n",
    "fig, ax = plt.subplots(1, 2, figsize=(12, 4))\n",
    "\n",
    "# Новые графики\n",
    "fig.tight_layout()\n",
    "\n",
    "ax[0].hist(data['Age'], bins = 20, ec='black')\n",
    "ax[0].set_title('Распределение возрастов')\n",
    "ax[0].set_xlabel('Нормированный возраст')\n",
    "ax[0].set_ylabel('Кол-во пассажиров')\n",
    "\n",
    "ax[1].hist(data['Fare'], bins = 20, ec='black')\n",
    "ax[1].set_title('Распределение стоимостей билетов')\n",
    "ax[1].set_xlabel('Нормированная стоимость билета')\n",
    "ax[1].set_ylabel('Кол-во пассажиров')\n",
    "\n",
    "fig.show()"
   ]
  },
  {
   "cell_type": "markdown",
   "metadata": {
    "colab_type": "text",
    "id": "C2QHIOU2QTpU"
   },
   "source": [
    "В результате нормирования получилось, что размах значений возрастов чуть больше 5, тогда как стоимость билета имеет размах чуть более 10 единиц."
   ]
  },
  {
   "cell_type": "markdown",
   "metadata": {
    "colab_type": "text",
    "id": "II62wi95V5TI"
   },
   "source": [
    "### 24"
   ]
  },
  {
   "cell_type": "markdown",
   "metadata": {
    "colab_type": "text",
    "id": "pXYya-BLV5TI"
   },
   "source": [
    "Есть ли в данных категориальные признаки, которые принимают значения строк, а не чисел? Если да, то для многих алгоритмов машинного обучения это может стать серьезным препятствием, поэтому закодируйте категориальные признаки так, чтобы к данным можно было применить любые алгоритмы машинного обучения."
   ]
  },
  {
   "cell_type": "code",
   "execution_count": 0,
   "metadata": {
    "colab": {
     "base_uri": "https://localhost:8080/",
     "height": 448
    },
    "colab_type": "code",
    "executionInfo": {
     "elapsed": 644,
     "status": "ok",
     "timestamp": 1581982169573,
     "user": {
      "displayName": "Никита Разуваев",
      "photoUrl": "https://lh4.googleusercontent.com/-DVoMqo-tV28/AAAAAAAAAAI/AAAAAAAAAsk/Idd15znrGXo/s64/photo.jpg",
      "userId": "09666267334096540847"
     },
     "user_tz": -180
    },
    "id": "pA-Jz_PmV5TJ",
    "outputId": "2ba33202-26b6-43dc-ac66-81626c6f2ca1"
   },
   "outputs": [
    {
     "name": "stdout",
     "output_type": "stream",
     "text": [
      "В данных остались следующие строковые признаки: пол, место отправки и соц. статус\n"
     ]
    },
    {
     "data": {
      "text/html": [
       "<div>\n",
       "<style scoped>\n",
       "    .dataframe tbody tr th:only-of-type {\n",
       "        vertical-align: middle;\n",
       "    }\n",
       "\n",
       "    .dataframe tbody tr th {\n",
       "        vertical-align: top;\n",
       "    }\n",
       "\n",
       "    .dataframe thead th {\n",
       "        text-align: right;\n",
       "    }\n",
       "</style>\n",
       "<table border=\"1\" class=\"dataframe\">\n",
       "  <thead>\n",
       "    <tr style=\"text-align: right;\">\n",
       "      <th></th>\n",
       "      <th>Survived</th>\n",
       "      <th>Pclass</th>\n",
       "      <th>Sex</th>\n",
       "      <th>Age</th>\n",
       "      <th>SibSp</th>\n",
       "      <th>Parch</th>\n",
       "      <th>Fare</th>\n",
       "      <th>Embarked</th>\n",
       "      <th>Relatives</th>\n",
       "      <th>Status</th>\n",
       "    </tr>\n",
       "    <tr>\n",
       "      <th>PassengerId</th>\n",
       "      <th></th>\n",
       "      <th></th>\n",
       "      <th></th>\n",
       "      <th></th>\n",
       "      <th></th>\n",
       "      <th></th>\n",
       "      <th></th>\n",
       "      <th></th>\n",
       "      <th></th>\n",
       "      <th></th>\n",
       "    </tr>\n",
       "  </thead>\n",
       "  <tbody>\n",
       "    <tr>\n",
       "      <th>1</th>\n",
       "      <td>0</td>\n",
       "      <td>3</td>\n",
       "      <td>0</td>\n",
       "      <td>-0.540609</td>\n",
       "      <td>1</td>\n",
       "      <td>0</td>\n",
       "      <td>-0.502163</td>\n",
       "      <td>1</td>\n",
       "      <td>2</td>\n",
       "      <td>1</td>\n",
       "    </tr>\n",
       "    <tr>\n",
       "      <th>2</th>\n",
       "      <td>1</td>\n",
       "      <td>1</td>\n",
       "      <td>1</td>\n",
       "      <td>0.662736</td>\n",
       "      <td>1</td>\n",
       "      <td>0</td>\n",
       "      <td>0.786404</td>\n",
       "      <td>2</td>\n",
       "      <td>2</td>\n",
       "      <td>2</td>\n",
       "    </tr>\n",
       "    <tr>\n",
       "      <th>3</th>\n",
       "      <td>1</td>\n",
       "      <td>3</td>\n",
       "      <td>1</td>\n",
       "      <td>-0.239773</td>\n",
       "      <td>0</td>\n",
       "      <td>0</td>\n",
       "      <td>-0.488580</td>\n",
       "      <td>1</td>\n",
       "      <td>1</td>\n",
       "      <td>3</td>\n",
       "    </tr>\n",
       "    <tr>\n",
       "      <th>4</th>\n",
       "      <td>1</td>\n",
       "      <td>1</td>\n",
       "      <td>1</td>\n",
       "      <td>0.437109</td>\n",
       "      <td>1</td>\n",
       "      <td>0</td>\n",
       "      <td>0.420494</td>\n",
       "      <td>1</td>\n",
       "      <td>2</td>\n",
       "      <td>2</td>\n",
       "    </tr>\n",
       "    <tr>\n",
       "      <th>5</th>\n",
       "      <td>0</td>\n",
       "      <td>3</td>\n",
       "      <td>0</td>\n",
       "      <td>0.437109</td>\n",
       "      <td>0</td>\n",
       "      <td>0</td>\n",
       "      <td>-0.486064</td>\n",
       "      <td>1</td>\n",
       "      <td>1</td>\n",
       "      <td>1</td>\n",
       "    </tr>\n",
       "    <tr>\n",
       "      <th>...</th>\n",
       "      <td>...</td>\n",
       "      <td>...</td>\n",
       "      <td>...</td>\n",
       "      <td>...</td>\n",
       "      <td>...</td>\n",
       "      <td>...</td>\n",
       "      <td>...</td>\n",
       "      <td>...</td>\n",
       "      <td>...</td>\n",
       "      <td>...</td>\n",
       "    </tr>\n",
       "    <tr>\n",
       "      <th>887</th>\n",
       "      <td>0</td>\n",
       "      <td>2</td>\n",
       "      <td>0</td>\n",
       "      <td>-0.164564</td>\n",
       "      <td>0</td>\n",
       "      <td>0</td>\n",
       "      <td>-0.386454</td>\n",
       "      <td>1</td>\n",
       "      <td>1</td>\n",
       "      <td>6</td>\n",
       "    </tr>\n",
       "    <tr>\n",
       "      <th>888</th>\n",
       "      <td>1</td>\n",
       "      <td>1</td>\n",
       "      <td>1</td>\n",
       "      <td>-0.766236</td>\n",
       "      <td>0</td>\n",
       "      <td>0</td>\n",
       "      <td>-0.044356</td>\n",
       "      <td>1</td>\n",
       "      <td>1</td>\n",
       "      <td>3</td>\n",
       "    </tr>\n",
       "    <tr>\n",
       "      <th>889</th>\n",
       "      <td>0</td>\n",
       "      <td>3</td>\n",
       "      <td>1</td>\n",
       "      <td>-0.947131</td>\n",
       "      <td>1</td>\n",
       "      <td>2</td>\n",
       "      <td>-0.176164</td>\n",
       "      <td>1</td>\n",
       "      <td>4</td>\n",
       "      <td>3</td>\n",
       "    </tr>\n",
       "    <tr>\n",
       "      <th>890</th>\n",
       "      <td>1</td>\n",
       "      <td>1</td>\n",
       "      <td>0</td>\n",
       "      <td>-0.239773</td>\n",
       "      <td>0</td>\n",
       "      <td>0</td>\n",
       "      <td>-0.044356</td>\n",
       "      <td>2</td>\n",
       "      <td>1</td>\n",
       "      <td>1</td>\n",
       "    </tr>\n",
       "    <tr>\n",
       "      <th>891</th>\n",
       "      <td>0</td>\n",
       "      <td>3</td>\n",
       "      <td>0</td>\n",
       "      <td>0.211482</td>\n",
       "      <td>0</td>\n",
       "      <td>0</td>\n",
       "      <td>-0.492101</td>\n",
       "      <td>3</td>\n",
       "      <td>1</td>\n",
       "      <td>1</td>\n",
       "    </tr>\n",
       "  </tbody>\n",
       "</table>\n",
       "<p>891 rows × 10 columns</p>\n",
       "</div>"
      ],
      "text/plain": [
       "             Survived  Pclass  Sex  ...  Embarked  Relatives  Status\n",
       "PassengerId                         ...                             \n",
       "1                   0       3    0  ...         1          2       1\n",
       "2                   1       1    1  ...         2          2       2\n",
       "3                   1       3    1  ...         1          1       3\n",
       "4                   1       1    1  ...         1          2       2\n",
       "5                   0       3    0  ...         1          1       1\n",
       "...               ...     ...  ...  ...       ...        ...     ...\n",
       "887                 0       2    0  ...         1          1       6\n",
       "888                 1       1    1  ...         1          1       3\n",
       "889                 0       3    1  ...         1          4       3\n",
       "890                 1       1    0  ...         2          1       1\n",
       "891                 0       3    0  ...         3          1       1\n",
       "\n",
       "[891 rows x 10 columns]"
      ]
     },
     "execution_count": 161,
     "metadata": {
      "tags": []
     },
     "output_type": "execute_result"
    }
   ],
   "source": [
    "# your code here\n",
    "\n",
    "print('В данных остались следующие строковые признаки: пол, место отправки и соц. статус')\n",
    "\n",
    "# Кодирование пола\n",
    "def encode_sex(sex: str) -> int:\n",
    "  if sex == 'male':\n",
    "    return 0\n",
    "  elif sex == 'female':\n",
    "    return 1\n",
    "  return None\n",
    "\n",
    "data['Sex'] = data['Sex'].apply(encode_sex)\n",
    "\n",
    "# Кодирование места посадки на корабль\n",
    "def encode_embarked(embarked: str) -> int:\n",
    "  if embarked == 'S':\n",
    "    return 1\n",
    "  elif embarked == 'C':\n",
    "    return 2\n",
    "  elif embarked ==  'Q':\n",
    "    return 3\n",
    "  return None\n",
    "\n",
    "data['Embarked'] = data['Embarked'].apply(encode_embarked)\n",
    "\n",
    "# Сопоставить статус числу\n",
    "statDict = dict()\n",
    "n = 1\n",
    "for stat in data['Status'].unique():\n",
    "  statDict[stat] = n\n",
    "  n += 1\n",
    "\n",
    "# Кодирование социального статуса\n",
    "def encode_status(statDict: dict, status: str) -> int:\n",
    "  return statDict[status]\n",
    "\n",
    "data['Status'] = data['Status'].apply(lambda x: encode_status(statDict, x))\n",
    "\n",
    "data.drop(['Cabin', 'Ticket', 'Name'], axis=1, inplace=True) # Отбросить лишнее... \n",
    "\n",
    "data"
   ]
  },
  {
   "cell_type": "markdown",
   "metadata": {
    "colab_type": "text",
    "id": "Mw89rsSBV5TK"
   },
   "source": [
    "# Часть 3. Matplotlib"
   ]
  },
  {
   "cell_type": "markdown",
   "metadata": {
    "colab_type": "text",
    "id": "84VEyjsDV5TK"
   },
   "source": [
    "### 25"
   ]
  },
  {
   "cell_type": "markdown",
   "metadata": {
    "colab_type": "text",
    "id": "4zqZNzvDV5TL"
   },
   "source": [
    "Отобразите гистограмму распределения возрастов для каждого класса пассажиров. В результате вы должны получить три гистограммы, которые необходимо отобразить друг рядом с другом, используя функцию `plt.subplots`. Каждая гистограмма должна быть нормирована. Обратите внимание на параметры `figsize`, `sharey` функции `plt.subplots`. Также полезными могут оказаться параметры `bins`, `ec`, `density` функции `plt.hist`, а также функции `set_xlabel`, `set_ylabel`, `set_title` и `plt.tight_layout`."
   ]
  },
  {
   "cell_type": "code",
   "execution_count": 0,
   "metadata": {
    "colab": {
     "base_uri": "https://localhost:8080/",
     "height": 323
    },
    "colab_type": "code",
    "executionInfo": {
     "elapsed": 1196,
     "status": "ok",
     "timestamp": 1581982560582,
     "user": {
      "displayName": "Никита Разуваев",
      "photoUrl": "https://lh4.googleusercontent.com/-DVoMqo-tV28/AAAAAAAAAAI/AAAAAAAAAsk/Idd15znrGXo/s64/photo.jpg",
      "userId": "09666267334096540847"
     },
     "user_tz": -180
    },
    "id": "MOSKtkAAV5TL",
    "outputId": "617b37e8-b903-44df-8113-ee492ed84320"
   },
   "outputs": [
    {
     "data": {
      "image/png": "[encoded data removed]",
      "text/plain": [
       "<Figure size 864x288 with 3 Axes>"
      ]
     },
     "metadata": {
      "tags": []
     },
     "output_type": "display_data"
    }
   ],
   "source": [
    "# В итоге ваш график должен получиться примерно таким:\n",
    "\n",
    "fig, ax = plt.subplots(1, 3, sharex='col', sharey='row', figsize=(12, 4))\n",
    "\n",
    "fig.tight_layout()\n",
    "ax[0].set_ylabel('Scaled number of passengers')\n",
    "# fig.subplots_adjust(wspace=0.05)\n",
    "for i in range(3):\n",
    "  ax[i].hist(data[(data['Pclass'] == i+1)]['Age'], bins=20, edgecolor='black', density=True)\n",
    "  ax[i].set_xlabel('Age')\n",
    "  ax[i].set_title('Class %d' % (i + 1))\n",
    "\n",
    "fig.show()"
   ]
  },
  {
   "cell_type": "markdown",
   "metadata": {
    "colab_type": "text",
    "id": "6HCbvPM5V5TO"
   },
   "source": [
    "### 26"
   ]
  },
  {
   "cell_type": "markdown",
   "metadata": {
    "colab_type": "text",
    "id": "j0Js8rDuV5TS"
   },
   "source": [
    "Нарисуйте график косинуса для `x` от `-1` до `5`. Также пунктирной линией изобразите график синуса для `x` на том же промежутке. Укажите на графике легенду."
   ]
  },
  {
   "cell_type": "code",
   "execution_count": 0,
   "metadata": {
    "colab": {
     "base_uri": "https://localhost:8080/",
     "height": 404
    },
    "colab_type": "code",
    "executionInfo": {
     "elapsed": 1081,
     "status": "ok",
     "timestamp": 1581982215769,
     "user": {
      "displayName": "Никита Разуваев",
      "photoUrl": "https://lh4.googleusercontent.com/-DVoMqo-tV28/AAAAAAAAAAI/AAAAAAAAAsk/Idd15znrGXo/s64/photo.jpg",
      "userId": "09666267334096540847"
     },
     "user_tz": -180
    },
    "id": "_Riy1J_uV5TS",
    "outputId": "2af667c5-98bd-44a5-ce1f-31a47ffc1c06"
   },
   "outputs": [
    {
     "data": {
      "image/png": "[encoded data removed]",
      "text/plain": [
       "<Figure size 864x432 with 1 Axes>"
      ]
     },
     "metadata": {
      "tags": []
     },
     "output_type": "display_data"
    }
   ],
   "source": [
    "# В итоге ваш график должен получиться примерно таким:\n",
    "\n",
    "x = np.linspace(-1, 5, 50)\n",
    "y = np.sin(x)\n",
    "z = np.cos(x)\n",
    "fig, ax = plt.subplots()\n",
    "fig.set_size_inches(12, 6)\n",
    "ax.plot(x, z, '-', label='cos x')\n",
    "ax.plot(x, y, '--', color='orange', label='sin x')\n",
    "leg = ax.legend();\n",
    "ax.set_xlabel('x')\n",
    "ax.set_ylabel('f(x)')\n",
    "ax.set_title('Plot of sin(x), cos(x) from -1 to 5')\n",
    "\n",
    "fig.show()"
   ]
  },
  {
   "cell_type": "markdown",
   "metadata": {
    "colab_type": "text",
    "id": "iHtx2qPWV5TV"
   },
   "source": [
    "### 27"
   ]
  },
  {
   "cell_type": "markdown",
   "metadata": {
    "colab_type": "text",
    "id": "JtRkyJo_V5TW"
   },
   "source": [
    "Постройте диаграмму рассеяния (scatter plot) для пассажиров. Ось x должна обозначать возраст пассажира, ось y - стоимость его проезда. Обозначьте выживших и погибших пассажиров разными светами и маркерами. Также укажите на графике легенду."
   ]
  },
  {
   "cell_type": "code",
   "execution_count": 0,
   "metadata": {
    "colab": {
     "base_uri": "https://localhost:8080/",
     "height": 513
    },
    "colab_type": "code",
    "executionInfo": {
     "elapsed": 1141,
     "status": "ok",
     "timestamp": 1581982221413,
     "user": {
      "displayName": "Никита Разуваев",
      "photoUrl": "https://lh4.googleusercontent.com/-DVoMqo-tV28/AAAAAAAAAAI/AAAAAAAAAsk/Idd15znrGXo/s64/photo.jpg",
      "userId": "09666267334096540847"
     },
     "user_tz": -180
    },
    "id": "cB2br2VMV5TW",
    "outputId": "0fff6f36-55e4-45df-aa2f-53a7179933d8"
   },
   "outputs": [
    {
     "data": {
      "image/png": "[encoded data removed]",
      "text/plain": [
       "<Figure size 864x576 with 1 Axes>"
      ]
     },
     "metadata": {
      "tags": []
     },
     "output_type": "display_data"
    }
   ],
   "source": [
    "# В итоге ваш график должен получиться примерно таким:\n",
    "\n",
    "fig, ax = plt.subplots(figsize=(12,8))\n",
    "for i in [(0, 'tab:orange', \"x\"), (1, 'tab:blue', \"v\")]:\n",
    "  mask = data['Survived'] == i[0]\n",
    "  ax.scatter(data[mask]['Age'], data[mask]['Fare'], c=i[1], marker=i[2])\n",
    "  ax.set_xlabel('Age')\n",
    "  ax.set_ylabel('Fare')\n",
    "  ax.set_title('Passanger survival by age and fare')\n",
    "\n",
    "ax.legend(['Died', 'Survived'])\n",
    "plt.show()"
   ]
  }
 ],
 "metadata": {
  "colab": {
   "collapsed_sections": [],
   "name": "Razuvaev_N_HW1.ipynb",
   "provenance": []
  },
  "kernelspec": {
   "display_name": "Python 3",
   "language": "python",
   "name": "python3"
  },
  "language_info": {
   "codemirror_mode": {
    "name": "ipython",
    "version": 3
   },
   "file_extension": ".py",
   "mimetype": "text/x-python",
   "name": "python",
   "nbconvert_exporter": "python",
   "pygments_lexer": "ipython3",
   "version": "3.7.5"
  }
 },
 "nbformat": 4,
 "nbformat_minor": 1
}
